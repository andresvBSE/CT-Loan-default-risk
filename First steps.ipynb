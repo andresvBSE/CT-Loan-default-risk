{
 "cells": [
  {
   "cell_type": "code",
   "execution_count": 129,
   "id": "f73f30c7",
   "metadata": {},
   "outputs": [],
   "source": [
    "import numpy as np\n",
    "import pandas as pd\n",
    "\n",
    "import sklearn\n",
    "from sklearn.linear_model import LogisticRegression, LogisticRegressionCV\n",
    "from sklearn.tree import DecisionTreeClassifier\n",
    "from sklearn.preprocessing import StandardScaler\n",
    "from sklearn.ensemble import RandomForestClassifier\n",
    "from sklearn.pipeline import Pipeline\n",
    "from sklearn.compose import ColumnTransformer\n",
    "from sklearn.model_selection import GridSearchCV, cross_val_score, StratifiedKFold, train_test_split\n",
    "from sklearn.metrics import roc_auc_score, f1_score, recall_score, precision_score\n",
    "\n",
    "import category_encoders as ce\n",
    "\n",
    "import matplotlib.pyplot as plt\n",
    "import seaborn as sns"
   ]
  },
  {
   "cell_type": "code",
   "execution_count": 169,
   "id": "3220e140",
   "metadata": {},
   "outputs": [
    {
     "name": "stdout",
     "output_type": "stream",
     "text": [
      "<class 'pandas.core.frame.DataFrame'>\n",
      "RangeIndex: 307511 entries, 0 to 307510\n",
      "Data columns (total 98 columns):\n",
      " #   Column                     Non-Null Count   Dtype  \n",
      "---  ------                     --------------   -----  \n",
      " 0   Unnamed: 0                 307511 non-null  int64  \n",
      " 1   id                         307511 non-null  int64  \n",
      " 2   default                    307511 non-null  int64  \n",
      " 3   contract_type              307511 non-null  object \n",
      " 4   gender                     307511 non-null  object \n",
      " 5   flag_vehicle               307511 non-null  object \n",
      " 6   flag_properties            307511 non-null  object \n",
      " 7   num_children               307511 non-null  int64  \n",
      " 8   total_income               307511 non-null  object \n",
      " 9   loan_amount                307511 non-null  object \n",
      " 10  anual_payment              307499 non-null  object \n",
      " 11  product_amount             307233 non-null  object \n",
      " 12  accompained                306219 non-null  object \n",
      " 13  income_type                307511 non-null  object \n",
      " 14  education                  0 non-null       float64\n",
      " 15  marital_status             307511 non-null  object \n",
      " 16  residence_type             0 non-null       float64\n",
      " 17  normalised_pop             307511 non-null  object \n",
      " 18  age                        307511 non-null  int64  \n",
      " 19  work_age                   307511 non-null  int64  \n",
      " 20  registry_age               307511 non-null  object \n",
      " 21  id_age                     307511 non-null  int64  \n",
      " 22  vehicle_age                104582 non-null  float64\n",
      " 23  flag_cellphone             307511 non-null  int64  \n",
      " 24  flag_work_phone            307511 non-null  int64  \n",
      " 25  flag_work_company          307511 non-null  int64  \n",
      " 26  flag_cellphone_answer      307511 non-null  int64  \n",
      " 27  flag_homephone             307511 non-null  int64  \n",
      " 28  flag_email                 307511 non-null  int64  \n",
      " 29  occupation                 211120 non-null  object \n",
      " 30  family_num                 307509 non-null  float64\n",
      " 31  region_score               307511 non-null  int64  \n",
      " 32  region_city_score          307511 non-null  int64  \n",
      " 33  dayofweek_application      307511 non-null  object \n",
      " 34  hour_application           307511 non-null  int64  \n",
      " 35  flag_direperm_direcon_reg  307511 non-null  int64  \n",
      " 36  flag_direperm_diretra_reg  307511 non-null  int64  \n",
      " 37  flag_direcon_diretra_reg   307511 non-null  int64  \n",
      " 38  flag_direperm_direcon_ciu  307511 non-null  int64  \n",
      " 39  flag_direperm_diretra_ciu  307511 non-null  int64  \n",
      " 40  flag_direcon_diretra_ciu   307511 non-null  int64  \n",
      " 41  type_organisation          307511 non-null  object \n",
      " 42  external_score_1           134133 non-null  object \n",
      " 43  external_score_2           306851 non-null  object \n",
      " 44  external_score_3           246546 non-null  object \n",
      " 45  num_apart_average          151450 non-null  object \n",
      " 46  area_basement_average      127568 non-null  object \n",
      " 47  age_expl_average           157504 non-null  object \n",
      " 48  age_building_average       103023 non-null  object \n",
      " 49  area_common_average        92646 non-null   object \n",
      " 50  num_lifts_average          143620 non-null  object \n",
      " 51  num_entries_average        152683 non-null  object \n",
      " 52  max_floor_average          154491 non-null  object \n",
      " 53  min_floor_average          98869 non-null   object \n",
      " 54  area_building_average      124921 non-null  object \n",
      " 55  num_apart_habit_average    97312 non-null   object \n",
      " 56  area_habit_average         153161 non-null  object \n",
      " 57  num_apart_nohabit_average  93997 non-null   object \n",
      " 58  area_nohabit_average       137829 non-null  object \n",
      " 59  num_apart_mode             151450 non-null  object \n",
      " 60  area_basement_mode         127568 non-null  object \n",
      " 61  age_expl_mode              157504 non-null  object \n",
      " 62  age_building_mode          103023 non-null  object \n",
      " 63  area_common_mode           92646 non-null   object \n",
      " 64  num_lifts_mode             143620 non-null  object \n",
      " 65  num_entries_mode           152683 non-null  object \n",
      " 66  max_floor_mode             154491 non-null  object \n",
      " 67  min_floor_mode             98869 non-null   object \n",
      " 68  area_building_mode         124921 non-null  object \n",
      " 69  num_apart_habit_mode       97312 non-null   object \n",
      " 70  area_habit_mode            153161 non-null  object \n",
      " 71  num_apart_nohabit_mode     93997 non-null   object \n",
      " 72  area_nohabit_mode          137829 non-null  object \n",
      " 73  num_apart_median           151450 non-null  object \n",
      " 74  area_basement_median       127568 non-null  object \n",
      " 75  age_expl_median            157504 non-null  object \n",
      " 76  age_building_median        103023 non-null  object \n",
      " 77  area_common_median         92646 non-null   object \n",
      " 78  num_lifts_median           143620 non-null  object \n",
      " 79  num_entries_median         152683 non-null  object \n",
      " 80  max_floor_median           154491 non-null  object \n",
      " 81  min_floor_median           98869 non-null   object \n",
      " 82  area_building_median       124921 non-null  object \n",
      " 83  num_apart_habit_median     97312 non-null   object \n",
      " 84  area_habit_median          153161 non-null  object \n",
      " 85  num_apart_nohabit_median   93997 non-null   object \n",
      " 86  area_nohabit_median        137829 non-null  object \n",
      " 87  type_building              153214 non-null  object \n",
      " 88  total_area                 159080 non-null  object \n",
      " 89  wall_materials             151170 non-null  object \n",
      " 90  emergency_exits            161756 non-null  object \n",
      " 91  age_mobilephone_days       307510 non-null  float64\n",
      " 92  num_petic_bureau_hour      265992 non-null  float64\n",
      " 93  num_petic_bureau_day       265992 non-null  float64\n",
      " 94  num_petic_bureau_week      265992 non-null  float64\n",
      " 95  num_petic_bureau_month     265992 non-null  float64\n",
      " 96  num_petic_bureau_quarter   265992 non-null  float64\n",
      " 97  num_petic_bureau_year      265992 non-null  float64\n",
      "dtypes: float64(11), int64(22), object(65)\n",
      "memory usage: 229.9+ MB\n",
      "None\n"
     ]
    },
    {
     "data": {
      "text/html": [
       "<div>\n",
       "<style scoped>\n",
       "    .dataframe tbody tr th:only-of-type {\n",
       "        vertical-align: middle;\n",
       "    }\n",
       "\n",
       "    .dataframe tbody tr th {\n",
       "        vertical-align: top;\n",
       "    }\n",
       "\n",
       "    .dataframe thead th {\n",
       "        text-align: right;\n",
       "    }\n",
       "</style>\n",
       "<table border=\"1\" class=\"dataframe\">\n",
       "  <thead>\n",
       "    <tr style=\"text-align: right;\">\n",
       "      <th></th>\n",
       "      <th>Unnamed: 0</th>\n",
       "      <th>id</th>\n",
       "      <th>default</th>\n",
       "      <th>contract_type</th>\n",
       "      <th>gender</th>\n",
       "      <th>flag_vehicle</th>\n",
       "      <th>flag_properties</th>\n",
       "      <th>num_children</th>\n",
       "      <th>total_income</th>\n",
       "      <th>loan_amount</th>\n",
       "      <th>...</th>\n",
       "      <th>total_area</th>\n",
       "      <th>wall_materials</th>\n",
       "      <th>emergency_exits</th>\n",
       "      <th>age_mobilephone_days</th>\n",
       "      <th>num_petic_bureau_hour</th>\n",
       "      <th>num_petic_bureau_day</th>\n",
       "      <th>num_petic_bureau_week</th>\n",
       "      <th>num_petic_bureau_month</th>\n",
       "      <th>num_petic_bureau_quarter</th>\n",
       "      <th>num_petic_bureau_year</th>\n",
       "    </tr>\n",
       "  </thead>\n",
       "  <tbody>\n",
       "    <tr>\n",
       "      <th>0</th>\n",
       "      <td>0</td>\n",
       "      <td>100002</td>\n",
       "      <td>1</td>\n",
       "      <td>personal loan</td>\n",
       "      <td>M</td>\n",
       "      <td>N</td>\n",
       "      <td>Y</td>\n",
       "      <td>0</td>\n",
       "      <td>202500</td>\n",
       "      <td>406597,5</td>\n",
       "      <td>...</td>\n",
       "      <td>0,0149</td>\n",
       "      <td>brick</td>\n",
       "      <td>N</td>\n",
       "      <td>-1134.0</td>\n",
       "      <td>0.0</td>\n",
       "      <td>0.0</td>\n",
       "      <td>0.0</td>\n",
       "      <td>0.0</td>\n",
       "      <td>0.0</td>\n",
       "      <td>1.0</td>\n",
       "    </tr>\n",
       "    <tr>\n",
       "      <th>1</th>\n",
       "      <td>1</td>\n",
       "      <td>100003</td>\n",
       "      <td>0</td>\n",
       "      <td>personal loan</td>\n",
       "      <td>F</td>\n",
       "      <td>N</td>\n",
       "      <td>N</td>\n",
       "      <td>0</td>\n",
       "      <td>270000</td>\n",
       "      <td>1293502,5</td>\n",
       "      <td>...</td>\n",
       "      <td>0,0714</td>\n",
       "      <td>concrete</td>\n",
       "      <td>N</td>\n",
       "      <td>-828.0</td>\n",
       "      <td>0.0</td>\n",
       "      <td>0.0</td>\n",
       "      <td>0.0</td>\n",
       "      <td>0.0</td>\n",
       "      <td>0.0</td>\n",
       "      <td>0.0</td>\n",
       "    </tr>\n",
       "    <tr>\n",
       "      <th>2</th>\n",
       "      <td>2</td>\n",
       "      <td>100004</td>\n",
       "      <td>0</td>\n",
       "      <td>credit card</td>\n",
       "      <td>M</td>\n",
       "      <td>Y</td>\n",
       "      <td>Y</td>\n",
       "      <td>0</td>\n",
       "      <td>67500</td>\n",
       "      <td>135000</td>\n",
       "      <td>...</td>\n",
       "      <td>NaN</td>\n",
       "      <td>NaN</td>\n",
       "      <td>NaN</td>\n",
       "      <td>-815.0</td>\n",
       "      <td>0.0</td>\n",
       "      <td>0.0</td>\n",
       "      <td>0.0</td>\n",
       "      <td>0.0</td>\n",
       "      <td>0.0</td>\n",
       "      <td>0.0</td>\n",
       "    </tr>\n",
       "    <tr>\n",
       "      <th>3</th>\n",
       "      <td>3</td>\n",
       "      <td>100006</td>\n",
       "      <td>0</td>\n",
       "      <td>personal loan</td>\n",
       "      <td>F</td>\n",
       "      <td>N</td>\n",
       "      <td>Y</td>\n",
       "      <td>0</td>\n",
       "      <td>135000</td>\n",
       "      <td>312682,5</td>\n",
       "      <td>...</td>\n",
       "      <td>NaN</td>\n",
       "      <td>NaN</td>\n",
       "      <td>NaN</td>\n",
       "      <td>-617.0</td>\n",
       "      <td>NaN</td>\n",
       "      <td>NaN</td>\n",
       "      <td>NaN</td>\n",
       "      <td>NaN</td>\n",
       "      <td>NaN</td>\n",
       "      <td>NaN</td>\n",
       "    </tr>\n",
       "    <tr>\n",
       "      <th>4</th>\n",
       "      <td>4</td>\n",
       "      <td>100007</td>\n",
       "      <td>0</td>\n",
       "      <td>personal loan</td>\n",
       "      <td>M</td>\n",
       "      <td>N</td>\n",
       "      <td>Y</td>\n",
       "      <td>0</td>\n",
       "      <td>121500</td>\n",
       "      <td>513000</td>\n",
       "      <td>...</td>\n",
       "      <td>NaN</td>\n",
       "      <td>NaN</td>\n",
       "      <td>NaN</td>\n",
       "      <td>-1106.0</td>\n",
       "      <td>0.0</td>\n",
       "      <td>0.0</td>\n",
       "      <td>0.0</td>\n",
       "      <td>0.0</td>\n",
       "      <td>0.0</td>\n",
       "      <td>0.0</td>\n",
       "    </tr>\n",
       "  </tbody>\n",
       "</table>\n",
       "<p>5 rows × 98 columns</p>\n",
       "</div>"
      ],
      "text/plain": [
       "   Unnamed: 0      id  default  contract_type gender flag_vehicle  \\\n",
       "0           0  100002        1  personal loan      M            N   \n",
       "1           1  100003        0  personal loan      F            N   \n",
       "2           2  100004        0    credit card      M            Y   \n",
       "3           3  100006        0  personal loan      F            N   \n",
       "4           4  100007        0  personal loan      M            N   \n",
       "\n",
       "  flag_properties  num_children total_income loan_amount  ... total_area  \\\n",
       "0               Y             0       202500    406597,5  ...     0,0149   \n",
       "1               N             0       270000   1293502,5  ...     0,0714   \n",
       "2               Y             0        67500      135000  ...        NaN   \n",
       "3               Y             0       135000    312682,5  ...        NaN   \n",
       "4               Y             0       121500      513000  ...        NaN   \n",
       "\n",
       "  wall_materials emergency_exits age_mobilephone_days  num_petic_bureau_hour  \\\n",
       "0          brick               N              -1134.0                    0.0   \n",
       "1       concrete               N               -828.0                    0.0   \n",
       "2            NaN             NaN               -815.0                    0.0   \n",
       "3            NaN             NaN               -617.0                    NaN   \n",
       "4            NaN             NaN              -1106.0                    0.0   \n",
       "\n",
       "  num_petic_bureau_day  num_petic_bureau_week num_petic_bureau_month  \\\n",
       "0                  0.0                    0.0                    0.0   \n",
       "1                  0.0                    0.0                    0.0   \n",
       "2                  0.0                    0.0                    0.0   \n",
       "3                  NaN                    NaN                    NaN   \n",
       "4                  0.0                    0.0                    0.0   \n",
       "\n",
       "   num_petic_bureau_quarter  num_petic_bureau_year  \n",
       "0                       0.0                    1.0  \n",
       "1                       0.0                    0.0  \n",
       "2                       0.0                    0.0  \n",
       "3                       NaN                    NaN  \n",
       "4                       0.0                    0.0  \n",
       "\n",
       "[5 rows x 98 columns]"
      ]
     },
     "execution_count": 169,
     "metadata": {},
     "output_type": "execute_result"
    }
   ],
   "source": [
    "df = pd.read_csv('data/application_info.csv', low_memory=False)\n",
    "print(df.info())\n",
    "df.head()"
   ]
  },
  {
   "cell_type": "code",
   "execution_count": 131,
   "id": "324a27fd",
   "metadata": {},
   "outputs": [
    {
     "data": {
      "text/html": [
       "<div>\n",
       "<style scoped>\n",
       "    .dataframe tbody tr th:only-of-type {\n",
       "        vertical-align: middle;\n",
       "    }\n",
       "\n",
       "    .dataframe tbody tr th {\n",
       "        vertical-align: top;\n",
       "    }\n",
       "\n",
       "    .dataframe thead th {\n",
       "        text-align: right;\n",
       "    }\n",
       "</style>\n",
       "<table border=\"1\" class=\"dataframe\">\n",
       "  <thead>\n",
       "    <tr style=\"text-align: right;\">\n",
       "      <th></th>\n",
       "      <th>Unnamed: 0</th>\n",
       "      <th>id</th>\n",
       "      <th>default</th>\n",
       "      <th>contract_type</th>\n",
       "      <th>gender</th>\n",
       "      <th>flag_vehicle</th>\n",
       "      <th>flag_properties</th>\n",
       "      <th>num_children</th>\n",
       "      <th>total_income</th>\n",
       "      <th>loan_amount</th>\n",
       "      <th>...</th>\n",
       "      <th>total_area</th>\n",
       "      <th>wall_materials</th>\n",
       "      <th>emergency_exits</th>\n",
       "      <th>age_mobilephone_days</th>\n",
       "      <th>num_petic_bureau_hour</th>\n",
       "      <th>num_petic_bureau_day</th>\n",
       "      <th>num_petic_bureau_week</th>\n",
       "      <th>num_petic_bureau_month</th>\n",
       "      <th>num_petic_bureau_quarter</th>\n",
       "      <th>num_petic_bureau_year</th>\n",
       "    </tr>\n",
       "  </thead>\n",
       "  <tbody>\n",
       "    <tr>\n",
       "      <th>36820</th>\n",
       "      <td>36820</td>\n",
       "      <td>142643</td>\n",
       "      <td>0</td>\n",
       "      <td>personal loan</td>\n",
       "      <td>F</td>\n",
       "      <td>Y</td>\n",
       "      <td>Y</td>\n",
       "      <td>0</td>\n",
       "      <td>166500</td>\n",
       "      <td>9e+05</td>\n",
       "      <td>...</td>\n",
       "      <td>NaN</td>\n",
       "      <td>NaN</td>\n",
       "      <td>NaN</td>\n",
       "      <td>-160.0</td>\n",
       "      <td>0.0</td>\n",
       "      <td>0.0</td>\n",
       "      <td>0.0</td>\n",
       "      <td>0.0</td>\n",
       "      <td>0.0</td>\n",
       "      <td>3.0</td>\n",
       "    </tr>\n",
       "    <tr>\n",
       "      <th>287882</th>\n",
       "      <td>287882</td>\n",
       "      <td>433489</td>\n",
       "      <td>0</td>\n",
       "      <td>personal loan</td>\n",
       "      <td>F</td>\n",
       "      <td>N</td>\n",
       "      <td>Y</td>\n",
       "      <td>0</td>\n",
       "      <td>216000</td>\n",
       "      <td>1125000</td>\n",
       "      <td>...</td>\n",
       "      <td>NaN</td>\n",
       "      <td>NaN</td>\n",
       "      <td>NaN</td>\n",
       "      <td>-81.0</td>\n",
       "      <td>NaN</td>\n",
       "      <td>NaN</td>\n",
       "      <td>NaN</td>\n",
       "      <td>NaN</td>\n",
       "      <td>NaN</td>\n",
       "      <td>NaN</td>\n",
       "    </tr>\n",
       "    <tr>\n",
       "      <th>118584</th>\n",
       "      <td>118584</td>\n",
       "      <td>237515</td>\n",
       "      <td>0</td>\n",
       "      <td>personal loan</td>\n",
       "      <td>F</td>\n",
       "      <td>N</td>\n",
       "      <td>Y</td>\n",
       "      <td>1</td>\n",
       "      <td>130500</td>\n",
       "      <td>427500</td>\n",
       "      <td>...</td>\n",
       "      <td>NaN</td>\n",
       "      <td>NaN</td>\n",
       "      <td>NaN</td>\n",
       "      <td>0.0</td>\n",
       "      <td>0.0</td>\n",
       "      <td>0.0</td>\n",
       "      <td>0.0</td>\n",
       "      <td>0.0</td>\n",
       "      <td>0.0</td>\n",
       "      <td>2.0</td>\n",
       "    </tr>\n",
       "    <tr>\n",
       "      <th>30760</th>\n",
       "      <td>30760</td>\n",
       "      <td>135702</td>\n",
       "      <td>0</td>\n",
       "      <td>personal loan</td>\n",
       "      <td>F</td>\n",
       "      <td>N</td>\n",
       "      <td>Y</td>\n",
       "      <td>0</td>\n",
       "      <td>54000</td>\n",
       "      <td>210456</td>\n",
       "      <td>...</td>\n",
       "      <td>NaN</td>\n",
       "      <td>NaN</td>\n",
       "      <td>NaN</td>\n",
       "      <td>-421.0</td>\n",
       "      <td>0.0</td>\n",
       "      <td>0.0</td>\n",
       "      <td>0.0</td>\n",
       "      <td>0.0</td>\n",
       "      <td>0.0</td>\n",
       "      <td>1.0</td>\n",
       "    </tr>\n",
       "    <tr>\n",
       "      <th>242533</th>\n",
       "      <td>242533</td>\n",
       "      <td>380743</td>\n",
       "      <td>0</td>\n",
       "      <td>personal loan</td>\n",
       "      <td>F</td>\n",
       "      <td>N</td>\n",
       "      <td>Y</td>\n",
       "      <td>0</td>\n",
       "      <td>67500</td>\n",
       "      <td>360000</td>\n",
       "      <td>...</td>\n",
       "      <td>NaN</td>\n",
       "      <td>NaN</td>\n",
       "      <td>NaN</td>\n",
       "      <td>-2254.0</td>\n",
       "      <td>0.0</td>\n",
       "      <td>0.0</td>\n",
       "      <td>0.0</td>\n",
       "      <td>0.0</td>\n",
       "      <td>0.0</td>\n",
       "      <td>4.0</td>\n",
       "    </tr>\n",
       "    <tr>\n",
       "      <th>91701</th>\n",
       "      <td>91701</td>\n",
       "      <td>206491</td>\n",
       "      <td>0</td>\n",
       "      <td>personal loan</td>\n",
       "      <td>F</td>\n",
       "      <td>N</td>\n",
       "      <td>N</td>\n",
       "      <td>1</td>\n",
       "      <td>171000</td>\n",
       "      <td>755190</td>\n",
       "      <td>...</td>\n",
       "      <td>0,0073</td>\n",
       "      <td>brick</td>\n",
       "      <td>N</td>\n",
       "      <td>-1773.0</td>\n",
       "      <td>0.0</td>\n",
       "      <td>0.0</td>\n",
       "      <td>0.0</td>\n",
       "      <td>0.0</td>\n",
       "      <td>0.0</td>\n",
       "      <td>2.0</td>\n",
       "    </tr>\n",
       "    <tr>\n",
       "      <th>221908</th>\n",
       "      <td>221908</td>\n",
       "      <td>357064</td>\n",
       "      <td>0</td>\n",
       "      <td>personal loan</td>\n",
       "      <td>M</td>\n",
       "      <td>Y</td>\n",
       "      <td>Y</td>\n",
       "      <td>0</td>\n",
       "      <td>157500</td>\n",
       "      <td>221031</td>\n",
       "      <td>...</td>\n",
       "      <td>NaN</td>\n",
       "      <td>NaN</td>\n",
       "      <td>NaN</td>\n",
       "      <td>-2000.0</td>\n",
       "      <td>NaN</td>\n",
       "      <td>NaN</td>\n",
       "      <td>NaN</td>\n",
       "      <td>NaN</td>\n",
       "      <td>NaN</td>\n",
       "      <td>NaN</td>\n",
       "    </tr>\n",
       "    <tr>\n",
       "      <th>40570</th>\n",
       "      <td>40570</td>\n",
       "      <td>146987</td>\n",
       "      <td>0</td>\n",
       "      <td>credit card</td>\n",
       "      <td>F</td>\n",
       "      <td>N</td>\n",
       "      <td>N</td>\n",
       "      <td>0</td>\n",
       "      <td>135000</td>\n",
       "      <td>180000</td>\n",
       "      <td>...</td>\n",
       "      <td>NaN</td>\n",
       "      <td>NaN</td>\n",
       "      <td>NaN</td>\n",
       "      <td>-1912.0</td>\n",
       "      <td>0.0</td>\n",
       "      <td>0.0</td>\n",
       "      <td>0.0</td>\n",
       "      <td>1.0</td>\n",
       "      <td>0.0</td>\n",
       "      <td>6.0</td>\n",
       "    </tr>\n",
       "    <tr>\n",
       "      <th>103817</th>\n",
       "      <td>103817</td>\n",
       "      <td>220490</td>\n",
       "      <td>0</td>\n",
       "      <td>personal loan</td>\n",
       "      <td>F</td>\n",
       "      <td>N</td>\n",
       "      <td>Y</td>\n",
       "      <td>0</td>\n",
       "      <td>90000</td>\n",
       "      <td>450000</td>\n",
       "      <td>...</td>\n",
       "      <td>NaN</td>\n",
       "      <td>NaN</td>\n",
       "      <td>NaN</td>\n",
       "      <td>-1743.0</td>\n",
       "      <td>0.0</td>\n",
       "      <td>0.0</td>\n",
       "      <td>0.0</td>\n",
       "      <td>0.0</td>\n",
       "      <td>0.0</td>\n",
       "      <td>3.0</td>\n",
       "    </tr>\n",
       "    <tr>\n",
       "      <th>269684</th>\n",
       "      <td>269684</td>\n",
       "      <td>412538</td>\n",
       "      <td>0</td>\n",
       "      <td>credit card</td>\n",
       "      <td>F</td>\n",
       "      <td>N</td>\n",
       "      <td>Y</td>\n",
       "      <td>0</td>\n",
       "      <td>126000</td>\n",
       "      <td>202500</td>\n",
       "      <td>...</td>\n",
       "      <td>NaN</td>\n",
       "      <td>NaN</td>\n",
       "      <td>NaN</td>\n",
       "      <td>-583.0</td>\n",
       "      <td>0.0</td>\n",
       "      <td>0.0</td>\n",
       "      <td>0.0</td>\n",
       "      <td>0.0</td>\n",
       "      <td>0.0</td>\n",
       "      <td>1.0</td>\n",
       "    </tr>\n",
       "  </tbody>\n",
       "</table>\n",
       "<p>10 rows × 98 columns</p>\n",
       "</div>"
      ],
      "text/plain": [
       "        Unnamed: 0      id  default  contract_type gender flag_vehicle  \\\n",
       "36820        36820  142643        0  personal loan      F            Y   \n",
       "287882      287882  433489        0  personal loan      F            N   \n",
       "118584      118584  237515        0  personal loan      F            N   \n",
       "30760        30760  135702        0  personal loan      F            N   \n",
       "242533      242533  380743        0  personal loan      F            N   \n",
       "91701        91701  206491        0  personal loan      F            N   \n",
       "221908      221908  357064        0  personal loan      M            Y   \n",
       "40570        40570  146987        0    credit card      F            N   \n",
       "103817      103817  220490        0  personal loan      F            N   \n",
       "269684      269684  412538        0    credit card      F            N   \n",
       "\n",
       "       flag_properties  num_children total_income loan_amount  ... total_area  \\\n",
       "36820                Y             0       166500       9e+05  ...        NaN   \n",
       "287882               Y             0       216000     1125000  ...        NaN   \n",
       "118584               Y             1       130500      427500  ...        NaN   \n",
       "30760                Y             0        54000      210456  ...        NaN   \n",
       "242533               Y             0        67500      360000  ...        NaN   \n",
       "91701                N             1       171000      755190  ...     0,0073   \n",
       "221908               Y             0       157500      221031  ...        NaN   \n",
       "40570                N             0       135000      180000  ...        NaN   \n",
       "103817               Y             0        90000      450000  ...        NaN   \n",
       "269684               Y             0       126000      202500  ...        NaN   \n",
       "\n",
       "       wall_materials emergency_exits age_mobilephone_days  \\\n",
       "36820             NaN             NaN               -160.0   \n",
       "287882            NaN             NaN                -81.0   \n",
       "118584            NaN             NaN                  0.0   \n",
       "30760             NaN             NaN               -421.0   \n",
       "242533            NaN             NaN              -2254.0   \n",
       "91701           brick               N              -1773.0   \n",
       "221908            NaN             NaN              -2000.0   \n",
       "40570             NaN             NaN              -1912.0   \n",
       "103817            NaN             NaN              -1743.0   \n",
       "269684            NaN             NaN               -583.0   \n",
       "\n",
       "        num_petic_bureau_hour num_petic_bureau_day  num_petic_bureau_week  \\\n",
       "36820                     0.0                  0.0                    0.0   \n",
       "287882                    NaN                  NaN                    NaN   \n",
       "118584                    0.0                  0.0                    0.0   \n",
       "30760                     0.0                  0.0                    0.0   \n",
       "242533                    0.0                  0.0                    0.0   \n",
       "91701                     0.0                  0.0                    0.0   \n",
       "221908                    NaN                  NaN                    NaN   \n",
       "40570                     0.0                  0.0                    0.0   \n",
       "103817                    0.0                  0.0                    0.0   \n",
       "269684                    0.0                  0.0                    0.0   \n",
       "\n",
       "       num_petic_bureau_month  num_petic_bureau_quarter  num_petic_bureau_year  \n",
       "36820                     0.0                       0.0                    3.0  \n",
       "287882                    NaN                       NaN                    NaN  \n",
       "118584                    0.0                       0.0                    2.0  \n",
       "30760                     0.0                       0.0                    1.0  \n",
       "242533                    0.0                       0.0                    4.0  \n",
       "91701                     0.0                       0.0                    2.0  \n",
       "221908                    NaN                       NaN                    NaN  \n",
       "40570                     1.0                       0.0                    6.0  \n",
       "103817                    0.0                       0.0                    3.0  \n",
       "269684                    0.0                       0.0                    1.0  \n",
       "\n",
       "[10 rows x 98 columns]"
      ]
     },
     "execution_count": 131,
     "metadata": {},
     "output_type": "execute_result"
    }
   ],
   "source": [
    "df.sample(10)"
   ]
  },
  {
   "cell_type": "markdown",
   "id": "bd1b3ff3",
   "metadata": {},
   "source": [
    "# Preprocessing and EDA"
   ]
  },
  {
   "cell_type": "markdown",
   "id": "9012eba4",
   "metadata": {},
   "source": [
    "Some numeric variabes have a , as decimal separator, I will find them to change it to . and convert the variables to numeric"
   ]
  },
  {
   "cell_type": "code",
   "execution_count": 132,
   "id": "9cfd41d6",
   "metadata": {},
   "outputs": [
    {
     "name": "stdout",
     "output_type": "stream",
     "text": [
      "57\n",
      "['total_income', 'loan_amount', 'anual_payment', 'product_amount', 'accompained', 'normalised_pop', 'registry_age', 'occupation', 'external_score_1', 'external_score_2', 'external_score_3', 'num_apart_average', 'area_basement_average', 'age_expl_average', 'age_building_average', 'area_common_average', 'num_lifts_average', 'num_entries_average', 'max_floor_average', 'min_floor_average', 'area_building_average', 'num_apart_habit_average', 'area_habit_average', 'num_apart_nohabit_average', 'area_nohabit_average', 'num_apart_mode', 'area_basement_mode', 'age_expl_mode', 'age_building_mode', 'area_common_mode', 'num_lifts_mode', 'num_entries_mode', 'max_floor_mode', 'min_floor_mode', 'area_building_mode', 'num_apart_habit_mode', 'area_habit_mode', 'num_apart_nohabit_mode', 'area_nohabit_mode', 'num_apart_median', 'area_basement_median', 'age_expl_median', 'age_building_median', 'area_common_median', 'num_lifts_median', 'num_entries_median', 'max_floor_median', 'min_floor_median', 'area_building_median', 'num_apart_habit_median', 'area_habit_median', 'num_apart_nohabit_median', 'area_nohabit_median', 'type_building', 'total_area', 'wall_materials', 'emergency_exits']\n"
     ]
    }
   ],
   "source": [
    "# Find variables with comma (,)\n",
    "cols_with_comma = list()\n",
    "for col in df.select_dtypes('object').columns:\n",
    "    if any(df[col].str.contains(',')):\n",
    "        cols_with_comma.append(col)\n",
    "    else:\n",
    "        pass\n",
    "    \n",
    "print(len(cols_with_comma))\n",
    "print(cols_with_comma)"
   ]
  },
  {
   "cell_type": "code",
   "execution_count": 133,
   "id": "c36dacf3",
   "metadata": {},
   "outputs": [],
   "source": [
    "# Check wich ones are really numeric columns\n",
    "#for col in cols_with_comma:\n",
    "#    print(df[col].sample(10))"
   ]
  },
  {
   "cell_type": "code",
   "execution_count": 134,
   "id": "a16f852e",
   "metadata": {},
   "outputs": [],
   "source": [
    "not_numeric_with_comma = ['emergency_exits', 'wall_materials', 'type_building', 'occupation', 'accompained']"
   ]
  },
  {
   "cell_type": "code",
   "execution_count": 135,
   "id": "b56aca25",
   "metadata": {},
   "outputs": [],
   "source": [
    "# Change , by . and convert to numeric\n",
    "for col in [col for col in cols_with_comma if col not in not_numeric_with_comma]:\n",
    "    df[col] = df[col].str.replace(',', '.').astype(float)\n",
    "\n",
    "#df.info()"
   ]
  },
  {
   "cell_type": "markdown",
   "id": "1f7d7ac2",
   "metadata": {},
   "source": [
    "Delete columns that do not have data"
   ]
  },
  {
   "cell_type": "code",
   "execution_count": 136,
   "id": "7ebea7ad",
   "metadata": {},
   "outputs": [],
   "source": [
    "df.drop(['Unnamed: 0','education', 'residence_type'], axis=1, inplace=True)"
   ]
  },
  {
   "cell_type": "markdown",
   "id": "e33d6659",
   "metadata": {},
   "source": [
    "## Analysis fo missing values"
   ]
  },
  {
   "cell_type": "code",
   "execution_count": 139,
   "id": "0f42d60f",
   "metadata": {},
   "outputs": [
    {
     "data": {
      "text/plain": [
       "<AxesSubplot:>"
      ]
     },
     "execution_count": 139,
     "metadata": {},
     "output_type": "execute_result"
    },
    {
     "data": {
      "image/png": "[encoded data removed]",
      "text/plain": [
       "<Figure size 1152x864 with 2 Axes>"
      ]
     },
     "metadata": {
      "needs_background": "light"
     },
     "output_type": "display_data"
    }
   ],
   "source": [
    "#plt.figure(figsize=(16,12))\n",
    "#sns.heatmap(df.sample(100000).isna().transpose(), cmap=\"YlGnBu\", cbar_kws={'label': 'Missing Data'})"
   ]
  },
  {
   "cell_type": "code",
   "execution_count": 54,
   "id": "c935ca69",
   "metadata": {},
   "outputs": [
    {
     "name": "stdout",
     "output_type": "stream",
     "text": [
      "Prop. positive class: 8.1%\n"
     ]
    },
    {
     "data": {
      "image/png": "[encoded data removed]",
      "text/plain": [
       "<Figure size 432x288 with 1 Axes>"
      ]
     },
     "metadata": {
      "needs_background": "light"
     },
     "output_type": "display_data"
    }
   ],
   "source": [
    "sns.histplot(df['default'])\n",
    "print('Prop. positive class: {}%'.format(round(df['default'].mean(),3)*100))"
   ]
  },
  {
   "cell_type": "code",
   "execution_count": 140,
   "id": "efec6ab9",
   "metadata": {},
   "outputs": [
    {
     "name": "stdout",
     "output_type": "stream",
     "text": [
      "(8947, 95)\n",
      "Prop. positive class: 6.1%\n"
     ]
    },
    {
     "data": {
      "image/png": "[encoded data removed]",
      "text/plain": [
       "<Figure size 432x288 with 1 Axes>"
      ]
     },
     "metadata": {
      "needs_background": "light"
     },
     "output_type": "display_data"
    }
   ],
   "source": [
    "df_nna = df.dropna()\n",
    "print(df_nna.dropna().shape)\n",
    "sns.histplot(df_nna['default'])\n",
    "print('Prop. positive class: {}%'.format(round(df_nna['default'].mean(),3)*100))"
   ]
  },
  {
   "cell_type": "markdown",
   "id": "0f9307c2",
   "metadata": {},
   "source": [
    "When deleting missing values the proportion of the positive class decreases, this means that 1) the missings are not missing at random 2) there are more missing values on the rows of those who default the credit. This brings me the idea of creating a column that accounts for this information"
   ]
  },
  {
   "cell_type": "code",
   "execution_count": 141,
   "id": "5c2917da",
   "metadata": {},
   "outputs": [],
   "source": [
    "# Column for number of missing information (number of columns with na for each row)\n",
    "df['missing_count'] = df.isnull().sum(axis=1)"
   ]
  },
  {
   "cell_type": "code",
   "execution_count": 142,
   "id": "0298326f",
   "metadata": {},
   "outputs": [
    {
     "data": {
      "text/plain": [
       "<AxesSubplot:title={'center':'Prop. of missing values'}>"
      ]
     },
     "execution_count": 142,
     "metadata": {},
     "output_type": "execute_result"
    },
    {
     "data": {
      "image/png": "[encoded data removed]",
      "text/plain": [
       "<Figure size 864x576 with 1 Axes>"
      ]
     },
     "metadata": {
      "needs_background": "light"
     },
     "output_type": "display_data"
    }
   ],
   "source": [
    "plt.figure(figsize=(12,8))\n",
    "df.isnull().mean().sort_values(ascending=False)[:40].plot(kind='barh', title='Prop. of missing values')"
   ]
  },
  {
   "cell_type": "code",
   "execution_count": 143,
   "id": "ffe87696",
   "metadata": {},
   "outputs": [
    {
     "data": {
      "text/plain": [
       "<AxesSubplot:title={'center':'Prop. of missing values'}>"
      ]
     },
     "execution_count": 143,
     "metadata": {},
     "output_type": "execute_result"
    },
    {
     "data": {
      "image/png": "[encoded data removed]",
      "text/plain": [
       "<Figure size 864x576 with 1 Axes>"
      ]
     },
     "metadata": {
      "needs_background": "light"
     },
     "output_type": "display_data"
    }
   ],
   "source": [
    "plt.figure(figsize=(12,8))\n",
    "df.isnull().mean().sort_values(ascending=False)[-40:].plot(kind='barh', title='Prop. of missing values')"
   ]
  },
  {
   "cell_type": "markdown",
   "id": "99ae0cac",
   "metadata": {},
   "source": [
    "Correlation plots:"
   ]
  },
  {
   "cell_type": "code",
   "execution_count": 144,
   "id": "eec869f0",
   "metadata": {},
   "outputs": [
    {
     "data": {
      "text/plain": [
       "<AxesSubplot:title={'center':'Corr with Target (positive)'}>"
      ]
     },
     "execution_count": 144,
     "metadata": {},
     "output_type": "execute_result"
    },
    {
     "data": {
      "image/png": "[encoded data removed]",
      "text/plain": [
       "<Figure size 1152x360 with 1 Axes>"
      ]
     },
     "metadata": {
      "needs_background": "light"
     },
     "output_type": "display_data"
    }
   ],
   "source": [
    "plt.figure(figsize=(16,5))\n",
    "df_nna.corr()['default'].sort_values(ascending=False)[1:21].plot(kind='barh', title='Corr with Target (positive)')"
   ]
  },
  {
   "cell_type": "code",
   "execution_count": 145,
   "id": "2a7e1c01",
   "metadata": {},
   "outputs": [
    {
     "data": {
      "text/plain": [
       "<AxesSubplot:title={'center':'Corr with Target (positive)'}>"
      ]
     },
     "execution_count": 145,
     "metadata": {},
     "output_type": "execute_result"
    },
    {
     "data": {
      "image/png": "[encoded data removed]",
      "text/plain": [
       "<Figure size 1152x360 with 1 Axes>"
      ]
     },
     "metadata": {
      "needs_background": "light"
     },
     "output_type": "display_data"
    }
   ],
   "source": [
    "plt.figure(figsize=(16,5))\n",
    "df_nna.corr()['default'].sort_values(ascending=False)[-21:].plot(kind='barh', title='Corr with Target (positive)')"
   ]
  },
  {
   "cell_type": "markdown",
   "id": "9f8a7654",
   "metadata": {},
   "source": [
    "***What are the most important features in the dataframe with no missing data?***\n",
    "\n"
   ]
  },
  {
   "cell_type": "code",
   "execution_count": 146,
   "id": "c920796f",
   "metadata": {},
   "outputs": [],
   "source": [
    "y_nna = df_nna['default']\n",
    "X_nna = df_nna.drop(['default'], axis=1)\n",
    "\n",
    "X_nna = pd.get_dummies(X_nna)"
   ]
  },
  {
   "cell_type": "code",
   "execution_count": 147,
   "id": "c3169f85",
   "metadata": {},
   "outputs": [
    {
     "data": {
      "text/plain": [
       "LogisticRegression(max_iter=1000, penalty='l1', solver='liblinear')"
      ]
     },
     "execution_count": 147,
     "metadata": {},
     "output_type": "execute_result"
    }
   ],
   "source": [
    "# Simple Logit for feature importance\n",
    "scaler = StandardScaler()\n",
    "\n",
    "X_nna_s = scaler.fit_transform(X_nna)\n",
    "\n",
    "lr_feat_impor = LogisticRegression(penalty='l1', max_iter = 1000, solver='liblinear')\n",
    "lr_feat_impor.fit(X_nna_s, y_nna)"
   ]
  },
  {
   "cell_type": "code",
   "execution_count": 148,
   "id": "87441dbe",
   "metadata": {},
   "outputs": [
    {
     "data": {
      "text/plain": [
       "<AxesSubplot:title={'center':'Top 30 colums according to Logistic Regression'}>"
      ]
     },
     "execution_count": 148,
     "metadata": {},
     "output_type": "execute_result"
    },
    {
     "data": {
      "image/png": "[encoded data removed]",
      "text/plain": [
       "<Figure size 864x576 with 1 Axes>"
      ]
     },
     "metadata": {
      "needs_background": "light"
     },
     "output_type": "display_data"
    }
   ],
   "source": [
    "# Plot of feature importance\n",
    "plt.figure(figsize=(12,8))\n",
    "lr_feat_impor_s = pd.Series(data=lr_feat_impor.coef_.reshape(-1), index=X_nna.columns).abs()\n",
    "lr_feat_impor_s.sort_values(ascending=False)[:30].plot(kind='barh', \n",
    "                                                       title='Top 30 colums according to Logistic Regression')\n"
   ]
  },
  {
   "cell_type": "code",
   "execution_count": 149,
   "id": "d71a5df6",
   "metadata": {},
   "outputs": [
    {
     "data": {
      "text/plain": [
       "<AxesSubplot:title={'center':'Top 30 colums according to Logistic Regression'}>"
      ]
     },
     "execution_count": 149,
     "metadata": {},
     "output_type": "execute_result"
    },
    {
     "data": {
      "image/png": "[encoded data removed]",
      "text/plain": [
       "<Figure size 864x576 with 1 Axes>"
      ]
     },
     "metadata": {
      "needs_background": "light"
     },
     "output_type": "display_data"
    }
   ],
   "source": [
    "# Simple decision tree for feature importance\n",
    "dt_feat_impor = DecisionTreeClassifier(class_weight='balanced')\n",
    "dt_feat_impor.fit(X_nna_s, y_nna)\n",
    "\n",
    "plt.figure(figsize=(12,8))\n",
    "dt_feat_impor_s = pd.Series(data=dt_feat_impor.feature_importances_, index=X_nna.columns).abs()\n",
    "dt_feat_impor_s.sort_values(ascending=False)[:30].plot(kind='barh', title='Top 30 colums according to Logistic Regression')"
   ]
  },
  {
   "cell_type": "markdown",
   "id": "59026d14",
   "metadata": {},
   "source": [
    "Here, rather that asses the feature importance, I want to know what columns are not important and delete those that have many missing values."
   ]
  },
  {
   "cell_type": "code",
   "execution_count": 150,
   "id": "b39f28c5",
   "metadata": {},
   "outputs": [],
   "source": [
    "# Feature importance lr\n",
    "lr_feat_impor_df = lr_feat_impor_s.to_frame().reset_index()\n",
    "lr_feat_impor_df.columns = ['Colname', 'LR_Importance']\n",
    "\n",
    "# Feature imporntance DT\n",
    "dt_feat_impor_df = dt_feat_impor_s.to_frame().reset_index()\n",
    "dt_feat_impor_df.columns = ['Colname', 'DT_Importance']\n",
    "\n",
    "# Prop of missing values\n",
    "mv_df = df.isnull().mean().to_frame().reset_index()\n",
    "mv_df.columns = ['Colname', 'Prop_missing']\n",
    "\n",
    "# Correlation with the target variable\n",
    "corr_df = df.corr()['default'].abs().to_frame().reset_index()\n",
    "corr_df.columns = ['Colname', 'Corr_Importance']\n",
    "\n",
    "# One dataframe with al the info\n",
    "missing_a = lr_feat_impor_df.merge(dt_feat_impor_df, on='Colname')\n",
    "missing_a = missing_a.merge(mv_df, on='Colname')\n",
    "missing_a = missing_a.merge(corr_df, on='Colname')\n",
    "\n",
    "missing_a.set_index('Colname', inplace=True)\n",
    "missing_a.sort_values(by='Prop_missing', ascending=True,inplace=True)\n",
    "#missing_a"
   ]
  },
  {
   "cell_type": "code",
   "execution_count": 151,
   "id": "75c3c64f",
   "metadata": {},
   "outputs": [
    {
     "data": {
      "text/plain": [
       "<AxesSubplot:title={'center':'Feature importance (LR, DT and corr) vs. Proportion of missing values [numeric columns]'}, ylabel='Colname'>"
      ]
     },
     "execution_count": 151,
     "metadata": {},
     "output_type": "execute_result"
    },
    {
     "data": {
      "image/png": "[encoded data removed]",
      "text/plain": [
       "<Figure size 1008x1728 with 1 Axes>"
      ]
     },
     "metadata": {
      "needs_background": "light"
     },
     "output_type": "display_data"
    }
   ],
   "source": [
    "missing_a.plot(kind='barh', \n",
    "               figsize=(14,24), \n",
    "               title='Feature importance (LR, DT and corr) vs. Proportion of missing values [numeric columns]')"
   ]
  },
  {
   "cell_type": "markdown",
   "id": "db19f32b",
   "metadata": {},
   "source": [
    "Given the plot above, some columns with a high amount of missing values have low explanatory power or importance. I will delete those columns but keep the information that there were missing values on those variables.\n",
    "\n",
    "Dummies for missing values for each variable with missing data:"
   ]
  },
  {
   "cell_type": "code",
   "execution_count": 152,
   "id": "fa478051",
   "metadata": {},
   "outputs": [],
   "source": [
    "cols_wmissings = list(mv_df.query(\"Prop_missing>0\")['Colname']) # Cols with missing values\n",
    "num_petic_vars = [col for col in cols_wmissings if col.startswith('num_petic_')] # Cols from petic-bureau\n",
    "\n",
    "# Cols to create dummies that indicate if there is data or not in that variable\n",
    "cols_to_dummy_missing = [col for col in cols_wmissings if col.endswith(('mode', 'average'))==False]\n",
    "cols_to_dummy_missing = [col for col in cols_to_dummy_missing if col not in num_petic_vars[1:]]\n",
    "\n",
    "# New columns\n",
    "for col in cols_to_dummy_missing:\n",
    "    df[col+'_NA'] = df[col].isna().astype(int)"
   ]
  },
  {
   "cell_type": "markdown",
   "id": "2786bf16",
   "metadata": {},
   "source": [
    "Delete columns with low importance given the analysis above:"
   ]
  },
  {
   "cell_type": "code",
   "execution_count": 153,
   "id": "a69ef85b",
   "metadata": {},
   "outputs": [
    {
     "name": "stdout",
     "output_type": "stream",
     "text": [
      "31\n"
     ]
    }
   ],
   "source": [
    "# Look the criteria to delete the columns: more that a 40% of missing and importance lower that 0.1 in the graphs above\n",
    "to_detele_cols = missing_a.query(\"Prop_missing>0.4 & LR_Importance<0.1 & DT_Importance<0.1 & Corr_Importance<0.1\").sort_values(by='LR_Importance', ascending=False).index.to_list()\n",
    "print(len(to_detele_cols))\n",
    "df.drop(to_detele_cols, axis=1, inplace=True)"
   ]
  },
  {
   "cell_type": "markdown",
   "id": "e7e7ed47",
   "metadata": {},
   "source": [
    "Fill missing with cero because probabily those varables are for people has that the asset, for example house with a basement"
   ]
  },
  {
   "cell_type": "code",
   "execution_count": 154,
   "id": "3d2173ed",
   "metadata": {},
   "outputs": [],
   "source": [
    "fill_with_0 = ['area_basement_mode', 'area_basement_average', 'area_nohabit_median', 'num_lifts_mode', 'num_apart_average',\n",
    "              'num_apart_mode', 'num_entries_mode', 'num_entries_average', 'area_habit_median', 'area_habit_mode', 'area_habit_average',\n",
    "              'max_floor_mode', 'emergency_exits']\n",
    "\n",
    "df[fill_with_0]= df[fill_with_0].fillna(0)"
   ]
  },
  {
   "cell_type": "markdown",
   "id": "da058eb3",
   "metadata": {},
   "source": [
    "Filling with kind: 'unknowing'"
   ]
  },
  {
   "cell_type": "code",
   "execution_count": 156,
   "id": "b7688aa9",
   "metadata": {},
   "outputs": [],
   "source": [
    "fill_with_unknow = ['wall_materials', 'occupation', 'type_building']\n",
    "df[fill_with_unknowing] = df[fill_with_unknowing].fillna('fill_with_unknow')"
   ]
  },
  {
   "cell_type": "markdown",
   "id": "78d5dc5c",
   "metadata": {},
   "source": [
    "Other in accompained to fill missing values"
   ]
  },
  {
   "cell_type": "code",
   "execution_count": 177,
   "id": "76e451bb",
   "metadata": {},
   "outputs": [],
   "source": [
    "df['accompained'] = df['accompained'].replace(to_replace=['other_2', 'other_1', 'group', np.nan], value='other')"
   ]
  },
  {
   "cell_type": "code",
   "execution_count": 182,
   "id": "f7e0ccdc",
   "metadata": {},
   "outputs": [
    {
     "data": {
      "text/html": [
       "<div>\n",
       "<style scoped>\n",
       "    .dataframe tbody tr th:only-of-type {\n",
       "        vertical-align: middle;\n",
       "    }\n",
       "\n",
       "    .dataframe tbody tr th {\n",
       "        vertical-align: top;\n",
       "    }\n",
       "\n",
       "    .dataframe thead th {\n",
       "        text-align: right;\n",
       "    }\n",
       "</style>\n",
       "<table border=\"1\" class=\"dataframe\">\n",
       "  <thead>\n",
       "    <tr style=\"text-align: right;\">\n",
       "      <th></th>\n",
       "      <th>external_score_1</th>\n",
       "      <th>external_score_2</th>\n",
       "      <th>external_score_3</th>\n",
       "    </tr>\n",
       "  </thead>\n",
       "  <tbody>\n",
       "    <tr>\n",
       "      <th>count</th>\n",
       "      <td>134133.000000</td>\n",
       "      <td>3.068510e+05</td>\n",
       "      <td>246546.000000</td>\n",
       "    </tr>\n",
       "    <tr>\n",
       "      <th>mean</th>\n",
       "      <td>0.502130</td>\n",
       "      <td>5.143927e-01</td>\n",
       "      <td>0.510853</td>\n",
       "    </tr>\n",
       "    <tr>\n",
       "      <th>std</th>\n",
       "      <td>0.211062</td>\n",
       "      <td>1.910602e-01</td>\n",
       "      <td>0.194844</td>\n",
       "    </tr>\n",
       "    <tr>\n",
       "      <th>min</th>\n",
       "      <td>0.014568</td>\n",
       "      <td>8.173617e-08</td>\n",
       "      <td>0.000527</td>\n",
       "    </tr>\n",
       "    <tr>\n",
       "      <th>25%</th>\n",
       "      <td>0.334007</td>\n",
       "      <td>3.924574e-01</td>\n",
       "      <td>0.370650</td>\n",
       "    </tr>\n",
       "    <tr>\n",
       "      <th>50%</th>\n",
       "      <td>0.505998</td>\n",
       "      <td>5.659614e-01</td>\n",
       "      <td>0.535276</td>\n",
       "    </tr>\n",
       "    <tr>\n",
       "      <th>75%</th>\n",
       "      <td>0.675053</td>\n",
       "      <td>6.636171e-01</td>\n",
       "      <td>0.669057</td>\n",
       "    </tr>\n",
       "    <tr>\n",
       "      <th>max</th>\n",
       "      <td>0.962693</td>\n",
       "      <td>8.549997e-01</td>\n",
       "      <td>0.896010</td>\n",
       "    </tr>\n",
       "  </tbody>\n",
       "</table>\n",
       "</div>"
      ],
      "text/plain": [
       "       external_score_1  external_score_2  external_score_3\n",
       "count     134133.000000      3.068510e+05     246546.000000\n",
       "mean           0.502130      5.143927e-01          0.510853\n",
       "std            0.211062      1.910602e-01          0.194844\n",
       "min            0.014568      8.173617e-08          0.000527\n",
       "25%            0.334007      3.924574e-01          0.370650\n",
       "50%            0.505998      5.659614e-01          0.535276\n",
       "75%            0.675053      6.636171e-01          0.669057\n",
       "max            0.962693      8.549997e-01          0.896010"
      ]
     },
     "execution_count": 182,
     "metadata": {},
     "output_type": "execute_result"
    }
   ],
   "source": [
    "df[['external_score_1', 'external_score_2',  'external_score_3']].describe()"
   ]
  },
  {
   "cell_type": "code",
   "execution_count": null,
   "id": "12acbed1",
   "metadata": {},
   "outputs": [],
   "source": []
  },
  {
   "cell_type": "code",
   "execution_count": 181,
   "id": "28c5bfe8",
   "metadata": {},
   "outputs": [
    {
     "data": {
      "text/plain": [
       "external_score_1            0.563811\n",
       "age_expl_average            0.487810\n",
       "external_score_3            0.198253\n",
       "num_petic_bureau_year       0.135016\n",
       "num_petic_bureau_day        0.135016\n",
       "num_petic_bureau_quarter    0.135016\n",
       "num_petic_bureau_month      0.135016\n",
       "num_petic_bureau_week       0.135016\n",
       "num_petic_bureau_hour       0.135016\n",
       "external_score_2            0.002146\n",
       "product_amount              0.000904\n",
       "anual_payment               0.000039\n",
       "family_num                  0.000007\n",
       "age_mobilephone_days        0.000003\n",
       "anual_payment_NA            0.000000\n",
       "product_amount_NA           0.000000\n",
       "accompained_NA              0.000000\n",
       "vehicle_age_NA              0.000000\n",
       "occupation_NA               0.000000\n",
       "id                          0.000000\n",
       "dtype: float64"
      ]
     },
     "execution_count": 181,
     "metadata": {},
     "output_type": "execute_result"
    }
   ],
   "source": [
    "df.isnull().mean().sort_values(ascending=False)[:20]\n",
    "#df.dropna().info()"
   ]
  },
  {
   "cell_type": "code",
   "execution_count": null,
   "id": "9d505e90",
   "metadata": {},
   "outputs": [],
   "source": []
  },
  {
   "cell_type": "code",
   "execution_count": null,
   "id": "b496a30f",
   "metadata": {},
   "outputs": [],
   "source": []
  },
  {
   "cell_type": "code",
   "execution_count": null,
   "id": "10de300a",
   "metadata": {},
   "outputs": [],
   "source": []
  },
  {
   "cell_type": "code",
   "execution_count": null,
   "id": "205a1964",
   "metadata": {},
   "outputs": [],
   "source": [
    "# Fillna"
   ]
  },
  {
   "cell_type": "code",
   "execution_count": null,
   "id": "1aaa2160",
   "metadata": {},
   "outputs": [],
   "source": []
  },
  {
   "cell_type": "code",
   "execution_count": null,
   "id": "d8cc0979",
   "metadata": {},
   "outputs": [],
   "source": []
  },
  {
   "cell_type": "code",
   "execution_count": null,
   "id": "1bd5accd",
   "metadata": {},
   "outputs": [],
   "source": []
  },
  {
   "cell_type": "code",
   "execution_count": null,
   "id": "61eba7a1",
   "metadata": {},
   "outputs": [],
   "source": []
  },
  {
   "cell_type": "code",
   "execution_count": 14,
   "id": "3b8febe6",
   "metadata": {},
   "outputs": [],
   "source": [
    "# Filling missings that are naturally 0\n",
    "fill_na_0 = ['area_common_median', 'area_common_mode', 'area_common_average', 'num_apart_nohabit_median', 'num_apart_nohabit_mode', 'num_apart_nohabit_average',\n",
    "             'min_floor_average', 'min_floor_mode', 'min_floor_median', 'area_basement_median', 'area_basement_mode', 'area_basement_average',\n",
    "             'area_nohabit_median', 'area_nohabit_average', 'area_nohabit_mode', 'num_lifts_average', 'num_lifts_mode',\n",
    "             'num_lifts_median', 'num_apart_mode', 'num_apart_median', 'num_apart_average', 'area_habit_average', 'area_habit_median', 'area_habit_mode',\n",
    "             'total_area']\n",
    "\n",
    "#fill_na_1 = []\n",
    "#df.\n",
    "\n",
    "\n",
    "# age_building_..., 'vehicle_age', area_building_..., 'external_score_1', 'wall_materials' , num_entries_..., \n",
    "# 'type_building', max_floor_..., age_expl_..., 'total_area', 'emergency_exits', 'occupation', 'external_score_3'\n",
    "\n",
    "\n"
   ]
  },
  {
   "cell_type": "code",
   "execution_count": 271,
   "id": "aebc28fb",
   "metadata": {},
   "outputs": [],
   "source": [
    "target_cols = fill_na_0\n",
    "rest_cols = [col for col in df.columns if col not in fill_na_0]"
   ]
  },
  {
   "cell_type": "code",
   "execution_count": 285,
   "id": "79ffeb9e",
   "metadata": {},
   "outputs": [],
   "source": [
    "# Preprocessing of the data taken all the columns so far\n",
    "target_cols_transformer =  Pipeline(steps = [('missing_creation', IfMissing(target_cols)),\n",
    "                                             ('missings', FillWith0(target_cols)),\n",
    "                                             ('dummies', ce.OneHotEncoder()),\n",
    "                                             ('stardarizer', StandardScaler())])\n",
    "\n",
    "rest_cols_transformer =    Pipeline(steps = [('missing_creation', IfMissing(rest_cols)),\n",
    "                                             ('delete_cols', DropColsRowsNA()),\n",
    "                                             ('dummies', ce.OneHotEncoder()),\n",
    "                                             ('stardarizer', StandardScaler())])\n",
    "\n",
    "preprocessor = ColumnTransformer(\n",
    "   transformers=[\n",
    "       ('target', target_cols_transformer, target_cols),\n",
    "       ('rest', rest_cols_transformer, rest_cols)])"
   ]
  },
  {
   "cell_type": "code",
   "execution_count": 286,
   "id": "df095e5d",
   "metadata": {},
   "outputs": [],
   "source": [
    "X = df.drop('default', axis=1)\n",
    "y = df['default']"
   ]
  },
  {
   "cell_type": "code",
   "execution_count": 287,
   "id": "d4d7040e",
   "metadata": {},
   "outputs": [],
   "source": [
    "predict_out_pipeline = Pipeline(steps = [('preprocessing',  preprocessor), \n",
    "                                         ('classifier' , RandomForestClassifier())])\n",
    "\n",
    "# Parameters of a random forest\n",
    "outliers_pred_params = {'classifier__class_weight': ['balanced', None],\n",
    "                        'classifier__random_state': [2022]}\n",
    "\n",
    "outliers_pred_gs = GridSearchCV(predict_out_pipeline, \n",
    "                                outliers_pred_params, \n",
    "                                cv = 5, \n",
    "                                scoring='f1', \n",
    "                                n_jobs=-1, \n",
    "                                verbose=1)"
   ]
  },
  {
   "cell_type": "code",
   "execution_count": null,
   "id": "8d9c582e",
   "metadata": {},
   "outputs": [],
   "source": [
    "gs_result_0 = outliers_pred_gs.fit(X, y)"
   ]
  },
  {
   "cell_type": "code",
   "execution_count": null,
   "id": "bf9ef736",
   "metadata": {},
   "outputs": [],
   "source": []
  },
  {
   "cell_type": "code",
   "execution_count": null,
   "id": "806d9e4a",
   "metadata": {},
   "outputs": [],
   "source": []
  },
  {
   "cell_type": "code",
   "execution_count": null,
   "id": "b1f0fc56",
   "metadata": {},
   "outputs": [],
   "source": []
  },
  {
   "cell_type": "code",
   "execution_count": 284,
   "id": "8639b996",
   "metadata": {},
   "outputs": [],
   "source": [
    "import numpy as np\n",
    "import pandas as pd\n",
    "from sklearn.base import BaseEstimator, TransformerMixin\n",
    "from sklearn.utils.validation import check_is_fitted\n",
    "\n",
    "\n",
    "class IfMissing(BaseEstimator, TransformerMixin):\n",
    "    def __init__(self, cols_to_operate):\n",
    "         self.columns = cols_to_operate\n",
    "    \n",
    "    def fit(self, X, y = None):\n",
    "        self.X = X\n",
    "        return self\n",
    " \n",
    "    def transform(self, X):\n",
    "        check_is_fitted(self, 'X')\n",
    "        X = X.copy() \n",
    "        for col in self.columns:\n",
    "            X[col+'_NA'] = X[col].isna().astype(int)\n",
    "        return X\n",
    "    \n",
    "    "
   ]
  },
  {
   "cell_type": "code",
   "execution_count": 249,
   "id": "2fd564f3",
   "metadata": {},
   "outputs": [
    {
     "name": "stdout",
     "output_type": "stream",
     "text": [
      "(307511, 96)\n",
      "(307511, 96)\n"
     ]
    },
    {
     "data": {
      "text/html": [
       "<div>\n",
       "<style scoped>\n",
       "    .dataframe tbody tr th:only-of-type {\n",
       "        vertical-align: middle;\n",
       "    }\n",
       "\n",
       "    .dataframe tbody tr th {\n",
       "        vertical-align: top;\n",
       "    }\n",
       "\n",
       "    .dataframe thead th {\n",
       "        text-align: right;\n",
       "    }\n",
       "</style>\n",
       "<table border=\"1\" class=\"dataframe\">\n",
       "  <thead>\n",
       "    <tr style=\"text-align: right;\">\n",
       "      <th></th>\n",
       "      <th>id</th>\n",
       "      <th>default</th>\n",
       "      <th>contract_type</th>\n",
       "      <th>gender</th>\n",
       "      <th>flag_vehicle</th>\n",
       "      <th>flag_properties</th>\n",
       "      <th>num_children</th>\n",
       "      <th>total_income</th>\n",
       "      <th>loan_amount</th>\n",
       "      <th>anual_payment</th>\n",
       "      <th>...</th>\n",
       "      <th>wall_materials</th>\n",
       "      <th>emergency_exits</th>\n",
       "      <th>age_mobilephone_days</th>\n",
       "      <th>num_petic_bureau_hour</th>\n",
       "      <th>num_petic_bureau_day</th>\n",
       "      <th>num_petic_bureau_week</th>\n",
       "      <th>num_petic_bureau_month</th>\n",
       "      <th>num_petic_bureau_quarter</th>\n",
       "      <th>num_petic_bureau_year</th>\n",
       "      <th>missing_count</th>\n",
       "    </tr>\n",
       "  </thead>\n",
       "  <tbody>\n",
       "    <tr>\n",
       "      <th>0</th>\n",
       "      <td>100002</td>\n",
       "      <td>1</td>\n",
       "      <td>personal loan</td>\n",
       "      <td>M</td>\n",
       "      <td>N</td>\n",
       "      <td>Y</td>\n",
       "      <td>0</td>\n",
       "      <td>202500.0</td>\n",
       "      <td>406597.5</td>\n",
       "      <td>24700.5</td>\n",
       "      <td>...</td>\n",
       "      <td>brick</td>\n",
       "      <td>N</td>\n",
       "      <td>-1134.0</td>\n",
       "      <td>0.0</td>\n",
       "      <td>0.0</td>\n",
       "      <td>0.0</td>\n",
       "      <td>0.0</td>\n",
       "      <td>0.0</td>\n",
       "      <td>1.0</td>\n",
       "      <td>1</td>\n",
       "    </tr>\n",
       "    <tr>\n",
       "      <th>1</th>\n",
       "      <td>100003</td>\n",
       "      <td>0</td>\n",
       "      <td>personal loan</td>\n",
       "      <td>F</td>\n",
       "      <td>N</td>\n",
       "      <td>N</td>\n",
       "      <td>0</td>\n",
       "      <td>270000.0</td>\n",
       "      <td>1293502.5</td>\n",
       "      <td>35698.5</td>\n",
       "      <td>...</td>\n",
       "      <td>concrete</td>\n",
       "      <td>N</td>\n",
       "      <td>-828.0</td>\n",
       "      <td>0.0</td>\n",
       "      <td>0.0</td>\n",
       "      <td>0.0</td>\n",
       "      <td>0.0</td>\n",
       "      <td>0.0</td>\n",
       "      <td>0.0</td>\n",
       "      <td>2</td>\n",
       "    </tr>\n",
       "    <tr>\n",
       "      <th>2</th>\n",
       "      <td>100004</td>\n",
       "      <td>0</td>\n",
       "      <td>credit card</td>\n",
       "      <td>M</td>\n",
       "      <td>Y</td>\n",
       "      <td>Y</td>\n",
       "      <td>0</td>\n",
       "      <td>67500.0</td>\n",
       "      <td>135000.0</td>\n",
       "      <td>6750.0</td>\n",
       "      <td>...</td>\n",
       "      <td>NaN</td>\n",
       "      <td>NaN</td>\n",
       "      <td>-815.0</td>\n",
       "      <td>0.0</td>\n",
       "      <td>0.0</td>\n",
       "      <td>0.0</td>\n",
       "      <td>0.0</td>\n",
       "      <td>0.0</td>\n",
       "      <td>0.0</td>\n",
       "      <td>47</td>\n",
       "    </tr>\n",
       "    <tr>\n",
       "      <th>3</th>\n",
       "      <td>100006</td>\n",
       "      <td>0</td>\n",
       "      <td>personal loan</td>\n",
       "      <td>F</td>\n",
       "      <td>N</td>\n",
       "      <td>Y</td>\n",
       "      <td>0</td>\n",
       "      <td>135000.0</td>\n",
       "      <td>312682.5</td>\n",
       "      <td>29686.5</td>\n",
       "      <td>...</td>\n",
       "      <td>NaN</td>\n",
       "      <td>NaN</td>\n",
       "      <td>-617.0</td>\n",
       "      <td>NaN</td>\n",
       "      <td>NaN</td>\n",
       "      <td>NaN</td>\n",
       "      <td>NaN</td>\n",
       "      <td>NaN</td>\n",
       "      <td>NaN</td>\n",
       "      <td>55</td>\n",
       "    </tr>\n",
       "    <tr>\n",
       "      <th>4</th>\n",
       "      <td>100007</td>\n",
       "      <td>0</td>\n",
       "      <td>personal loan</td>\n",
       "      <td>M</td>\n",
       "      <td>N</td>\n",
       "      <td>Y</td>\n",
       "      <td>0</td>\n",
       "      <td>121500.0</td>\n",
       "      <td>513000.0</td>\n",
       "      <td>21865.5</td>\n",
       "      <td>...</td>\n",
       "      <td>NaN</td>\n",
       "      <td>NaN</td>\n",
       "      <td>-1106.0</td>\n",
       "      <td>0.0</td>\n",
       "      <td>0.0</td>\n",
       "      <td>0.0</td>\n",
       "      <td>0.0</td>\n",
       "      <td>0.0</td>\n",
       "      <td>0.0</td>\n",
       "      <td>49</td>\n",
       "    </tr>\n",
       "  </tbody>\n",
       "</table>\n",
       "<p>5 rows × 96 columns</p>\n",
       "</div>"
      ],
      "text/plain": [
       "       id  default  contract_type gender flag_vehicle flag_properties  \\\n",
       "0  100002        1  personal loan      M            N               Y   \n",
       "1  100003        0  personal loan      F            N               N   \n",
       "2  100004        0    credit card      M            Y               Y   \n",
       "3  100006        0  personal loan      F            N               Y   \n",
       "4  100007        0  personal loan      M            N               Y   \n",
       "\n",
       "   num_children  total_income  loan_amount  anual_payment  ...  \\\n",
       "0             0      202500.0     406597.5        24700.5  ...   \n",
       "1             0      270000.0    1293502.5        35698.5  ...   \n",
       "2             0       67500.0     135000.0         6750.0  ...   \n",
       "3             0      135000.0     312682.5        29686.5  ...   \n",
       "4             0      121500.0     513000.0        21865.5  ...   \n",
       "\n",
       "   wall_materials emergency_exits age_mobilephone_days num_petic_bureau_hour  \\\n",
       "0           brick               N              -1134.0                   0.0   \n",
       "1        concrete               N               -828.0                   0.0   \n",
       "2             NaN             NaN               -815.0                   0.0   \n",
       "3             NaN             NaN               -617.0                   NaN   \n",
       "4             NaN             NaN              -1106.0                   0.0   \n",
       "\n",
       "   num_petic_bureau_day  num_petic_bureau_week  num_petic_bureau_month  \\\n",
       "0                   0.0                    0.0                     0.0   \n",
       "1                   0.0                    0.0                     0.0   \n",
       "2                   0.0                    0.0                     0.0   \n",
       "3                   NaN                    NaN                     NaN   \n",
       "4                   0.0                    0.0                     0.0   \n",
       "\n",
       "   num_petic_bureau_quarter  num_petic_bureau_year  missing_count  \n",
       "0                       0.0                    1.0              1  \n",
       "1                       0.0                    0.0              2  \n",
       "2                       0.0                    0.0             47  \n",
       "3                       NaN                    NaN             55  \n",
       "4                       0.0                    0.0             49  \n",
       "\n",
       "[5 rows x 96 columns]"
      ]
     },
     "execution_count": 249,
     "metadata": {},
     "output_type": "execute_result"
    }
   ],
   "source": [
    "missing_label = FillWith0(fill_na_0)\n",
    "missing_label.fit(df)\n",
    "print(df.shape)\n",
    "df_c = missing_label.transform(df)\n",
    "print(df_c.shape)\n",
    "df_c.head()"
   ]
  },
  {
   "cell_type": "code",
   "execution_count": null,
   "id": "a68e2578",
   "metadata": {},
   "outputs": [],
   "source": []
  },
  {
   "cell_type": "code",
   "execution_count": null,
   "id": "ac439a5c",
   "metadata": {},
   "outputs": [],
   "source": []
  },
  {
   "cell_type": "code",
   "execution_count": 223,
   "id": "7784cf1f",
   "metadata": {},
   "outputs": [
    {
     "data": {
      "text/plain": [
       "False    307188\n",
       "True        323\n",
       "Name: num_entries_average, dtype: int64"
      ]
     },
     "execution_count": 223,
     "metadata": {},
     "output_type": "execute_result"
    }
   ],
   "source": [
    "#df[['num_entries_average', 'num_entries_median', 'num_entries_mode']].describe()\n",
    "(df['num_entries_average']==0).value_counts()"
   ]
  },
  {
   "cell_type": "code",
   "execution_count": 227,
   "id": "56b6d37d",
   "metadata": {},
   "outputs": [
    {
     "data": {
      "text/plain": [
       "0.0    264366\n",
       "1.0      1560\n",
       "2.0        56\n",
       "3.0         9\n",
       "4.0         1\n",
       "Name: num_petic_bureau_hour, dtype: int64"
      ]
     },
     "execution_count": 227,
     "metadata": {},
     "output_type": "execute_result"
    }
   ],
   "source": [
    "df['num_petic_bureau_hour'].value_counts()"
   ]
  },
  {
   "cell_type": "code",
   "execution_count": null,
   "id": "7bc69df3",
   "metadata": {},
   "outputs": [],
   "source": []
  },
  {
   "cell_type": "code",
   "execution_count": null,
   "id": "37faf6d8",
   "metadata": {},
   "outputs": [],
   "source": []
  },
  {
   "cell_type": "code",
   "execution_count": 228,
   "id": "e5aa3580",
   "metadata": {},
   "outputs": [
    {
     "data": {
      "text/plain": [
       "area_common_median          0.698723\n",
       "area_common_mode            0.698723\n",
       "area_common_average         0.698723\n",
       "num_apart_nohabit_median    0.694330\n",
       "num_apart_nohabit_mode      0.694330\n",
       "dtype: float64"
      ]
     },
     "execution_count": 228,
     "metadata": {},
     "output_type": "execute_result"
    }
   ],
   "source": [
    "df.isnull().mean().sort_values(ascending=False)[:5]"
   ]
  },
  {
   "cell_type": "code",
   "execution_count": 225,
   "id": "f7d461f9",
   "metadata": {},
   "outputs": [
    {
     "data": {
      "text/plain": [
       "max_floor_mode              0.497608\n",
       "max_floor_median            0.497608\n",
       "max_floor_average           0.497608\n",
       "age_expl_mode               0.487810\n",
       "age_expl_average            0.487810\n",
       "age_expl_median             0.487810\n",
       "total_area                  0.482685\n",
       "emergency_exits             0.473983\n",
       "occupation                  0.313455\n",
       "external_score_3            0.198253\n",
       "num_petic_bureau_hour       0.135016\n",
       "num_petic_bureau_day        0.135016\n",
       "num_petic_bureau_week       0.135016\n",
       "num_petic_bureau_month      0.135016\n",
       "num_petic_bureau_quarter    0.135016\n",
       "num_petic_bureau_year       0.135016\n",
       "accompained                 0.004201\n",
       "external_score_2            0.002146\n",
       "product_amount              0.000904\n",
       "anual_payment               0.000039\n",
       "family_num                  0.000007\n",
       "age_mobilephone_days        0.000003\n",
       "id                          0.000000\n",
       "default                     0.000000\n",
       "flag_cellphone              0.000000\n",
       "contract_type               0.000000\n",
       "gender                      0.000000\n",
       "flag_vehicle                0.000000\n",
       "flag_properties             0.000000\n",
       "num_children                0.000000\n",
       "total_income                0.000000\n",
       "loan_amount                 0.000000\n",
       "income_type                 0.000000\n",
       "marital_status              0.000000\n",
       "normalised_pop              0.000000\n",
       "age                         0.000000\n",
       "work_age                    0.000000\n",
       "registry_age                0.000000\n",
       "id_age                      0.000000\n",
       "flag_work_phone             0.000000\n",
       "dtype: float64"
      ]
     },
     "execution_count": 225,
     "metadata": {},
     "output_type": "execute_result"
    }
   ],
   "source": [
    "df.isnull().mean().sort_values(ascending=False)[40:80]"
   ]
  },
  {
   "cell_type": "code",
   "execution_count": null,
   "id": "80257254",
   "metadata": {},
   "outputs": [],
   "source": []
  },
  {
   "cell_type": "code",
   "execution_count": null,
   "id": "602ac018",
   "metadata": {},
   "outputs": [],
   "source": []
  },
  {
   "cell_type": "code",
   "execution_count": null,
   "id": "684105b1",
   "metadata": {},
   "outputs": [],
   "source": []
  },
  {
   "cell_type": "code",
   "execution_count": null,
   "id": "c94c63de",
   "metadata": {},
   "outputs": [],
   "source": [
    "delete_1 = ['area_common_median' , 'area_common_median', 'area_common_average', 'num_apart_nohabit_average',\n",
    "            'num_apart_nohabit_median']\n",
    "delete_2 ="
   ]
  },
  {
   "cell_type": "code",
   "execution_count": 209,
   "id": "c8bb2fd1",
   "metadata": {},
   "outputs": [
    {
     "data": {
      "text/plain": [
       "area_common_median           0.698723\n",
       "area_common_mode             0.698723\n",
       "area_common_average          0.698723\n",
       "num_apart_nohabit_median     0.694330\n",
       "num_apart_nohabit_mode       0.694330\n",
       "num_apart_nohabit_average    0.694330\n",
       "num_apart_habit_mode         0.683550\n",
       "num_apart_habit_average      0.683550\n",
       "num_apart_habit_median       0.683550\n",
       "min_floor_average            0.678486\n",
       "min_floor_mode               0.678486\n",
       "min_floor_median             0.678486\n",
       "age_building_median          0.664978\n",
       "age_building_average         0.664978\n",
       "age_building_mode            0.664978\n",
       "vehicle_age                  0.659908\n",
       "area_building_median         0.593767\n",
       "area_building_average        0.593767\n",
       "area_building_mode           0.593767\n",
       "area_basement_median         0.585160\n",
       "dtype: float64"
      ]
     },
     "execution_count": 209,
     "metadata": {},
     "output_type": "execute_result"
    }
   ],
   "source": [
    "df.isnull().mean().sort_values(ascending=False)[:20]"
   ]
  },
  {
   "cell_type": "code",
   "execution_count": 218,
   "id": "65a0844a",
   "metadata": {
    "scrolled": true
   },
   "outputs": [
    {
     "data": {
      "text/html": [
       "<div>\n",
       "<style scoped>\n",
       "    .dataframe tbody tr th:only-of-type {\n",
       "        vertical-align: middle;\n",
       "    }\n",
       "\n",
       "    .dataframe tbody tr th {\n",
       "        vertical-align: top;\n",
       "    }\n",
       "\n",
       "    .dataframe thead th {\n",
       "        text-align: right;\n",
       "    }\n",
       "</style>\n",
       "<table border=\"1\" class=\"dataframe\">\n",
       "  <thead>\n",
       "    <tr style=\"text-align: right;\">\n",
       "      <th></th>\n",
       "      <th>num_apart_nohabit_average</th>\n",
       "      <th>num_apart_nohabit_mode</th>\n",
       "      <th>num_apart_nohabit_median</th>\n",
       "      <th>total_area</th>\n",
       "    </tr>\n",
       "  </thead>\n",
       "  <tbody>\n",
       "    <tr>\n",
       "      <th>0</th>\n",
       "      <td>0.0000</td>\n",
       "      <td>0.0</td>\n",
       "      <td>0.0000</td>\n",
       "      <td>0.0149</td>\n",
       "    </tr>\n",
       "    <tr>\n",
       "      <th>1</th>\n",
       "      <td>0.0039</td>\n",
       "      <td>0.0</td>\n",
       "      <td>0.0039</td>\n",
       "      <td>0.0714</td>\n",
       "    </tr>\n",
       "    <tr>\n",
       "      <th>2</th>\n",
       "      <td>NaN</td>\n",
       "      <td>NaN</td>\n",
       "      <td>NaN</td>\n",
       "      <td>NaN</td>\n",
       "    </tr>\n",
       "    <tr>\n",
       "      <th>3</th>\n",
       "      <td>NaN</td>\n",
       "      <td>NaN</td>\n",
       "      <td>NaN</td>\n",
       "      <td>NaN</td>\n",
       "    </tr>\n",
       "    <tr>\n",
       "      <th>4</th>\n",
       "      <td>NaN</td>\n",
       "      <td>NaN</td>\n",
       "      <td>NaN</td>\n",
       "      <td>NaN</td>\n",
       "    </tr>\n",
       "    <tr>\n",
       "      <th>...</th>\n",
       "      <td>...</td>\n",
       "      <td>...</td>\n",
       "      <td>...</td>\n",
       "      <td>...</td>\n",
       "    </tr>\n",
       "    <tr>\n",
       "      <th>307506</th>\n",
       "      <td>0.0753</td>\n",
       "      <td>0.0</td>\n",
       "      <td>0.0757</td>\n",
       "      <td>0.2898</td>\n",
       "    </tr>\n",
       "    <tr>\n",
       "      <th>307507</th>\n",
       "      <td>0.0000</td>\n",
       "      <td>0.0</td>\n",
       "      <td>0.0000</td>\n",
       "      <td>0.0214</td>\n",
       "    </tr>\n",
       "    <tr>\n",
       "      <th>307508</th>\n",
       "      <td>0.0000</td>\n",
       "      <td>0.0</td>\n",
       "      <td>0.0000</td>\n",
       "      <td>0.7970</td>\n",
       "    </tr>\n",
       "    <tr>\n",
       "      <th>307509</th>\n",
       "      <td>NaN</td>\n",
       "      <td>NaN</td>\n",
       "      <td>NaN</td>\n",
       "      <td>0.0086</td>\n",
       "    </tr>\n",
       "    <tr>\n",
       "      <th>307510</th>\n",
       "      <td>NaN</td>\n",
       "      <td>NaN</td>\n",
       "      <td>NaN</td>\n",
       "      <td>0.0718</td>\n",
       "    </tr>\n",
       "  </tbody>\n",
       "</table>\n",
       "<p>307511 rows × 4 columns</p>\n",
       "</div>"
      ],
      "text/plain": [
       "        num_apart_nohabit_average  num_apart_nohabit_mode  \\\n",
       "0                          0.0000                     0.0   \n",
       "1                          0.0039                     0.0   \n",
       "2                             NaN                     NaN   \n",
       "3                             NaN                     NaN   \n",
       "4                             NaN                     NaN   \n",
       "...                           ...                     ...   \n",
       "307506                     0.0753                     0.0   \n",
       "307507                     0.0000                     0.0   \n",
       "307508                     0.0000                     0.0   \n",
       "307509                        NaN                     NaN   \n",
       "307510                        NaN                     NaN   \n",
       "\n",
       "        num_apart_nohabit_median  total_area  \n",
       "0                         0.0000      0.0149  \n",
       "1                         0.0039      0.0714  \n",
       "2                            NaN         NaN  \n",
       "3                            NaN         NaN  \n",
       "4                            NaN         NaN  \n",
       "...                          ...         ...  \n",
       "307506                    0.0757      0.2898  \n",
       "307507                    0.0000      0.0214  \n",
       "307508                    0.0000      0.7970  \n",
       "307509                       NaN      0.0086  \n",
       "307510                       NaN      0.0718  \n",
       "\n",
       "[307511 rows x 4 columns]"
      ]
     },
     "execution_count": 218,
     "metadata": {},
     "output_type": "execute_result"
    }
   ],
   "source": [
    "df[['num_apart_nohabit_average', 'num_apart_nohabit_mode', 'num_apart_nohabit_median', 'total_area']]"
   ]
  },
  {
   "cell_type": "code",
   "execution_count": null,
   "id": "8aa74bf7",
   "metadata": {},
   "outputs": [],
   "source": []
  },
  {
   "cell_type": "code",
   "execution_count": null,
   "id": "ad0d6c9f",
   "metadata": {},
   "outputs": [],
   "source": []
  },
  {
   "cell_type": "code",
   "execution_count": null,
   "id": "991ae1d9",
   "metadata": {},
   "outputs": [],
   "source": []
  },
  {
   "cell_type": "code",
   "execution_count": null,
   "id": "6ac49012",
   "metadata": {},
   "outputs": [],
   "source": []
  },
  {
   "cell_type": "code",
   "execution_count": null,
   "id": "f2238fc6",
   "metadata": {},
   "outputs": [],
   "source": []
  },
  {
   "cell_type": "code",
   "execution_count": null,
   "id": "be2f68e1",
   "metadata": {},
   "outputs": [],
   "source": []
  },
  {
   "cell_type": "code",
   "execution_count": null,
   "id": "632531b4",
   "metadata": {},
   "outputs": [],
   "source": []
  },
  {
   "cell_type": "code",
   "execution_count": null,
   "id": "bc7ebd0c",
   "metadata": {},
   "outputs": [],
   "source": []
  },
  {
   "cell_type": "code",
   "execution_count": null,
   "id": "91e57eaf",
   "metadata": {},
   "outputs": [],
   "source": [
    "'total_area', 'num_apart_habit_median','num_apart_nohabit_median'"
   ]
  },
  {
   "cell_type": "code",
   "execution_count": null,
   "id": "22ca21aa",
   "metadata": {},
   "outputs": [],
   "source": []
  },
  {
   "cell_type": "code",
   "execution_count": null,
   "id": "86bef65b",
   "metadata": {},
   "outputs": [],
   "source": []
  },
  {
   "cell_type": "code",
   "execution_count": null,
   "id": "2c7c442b",
   "metadata": {},
   "outputs": [],
   "source": []
  },
  {
   "cell_type": "code",
   "execution_count": null,
   "id": "692d886e",
   "metadata": {},
   "outputs": [],
   "source": []
  },
  {
   "cell_type": "code",
   "execution_count": null,
   "id": "0cb216d7",
   "metadata": {},
   "outputs": [],
   "source": []
  },
  {
   "cell_type": "code",
   "execution_count": null,
   "id": "79411ae2",
   "metadata": {},
   "outputs": [],
   "source": []
  },
  {
   "cell_type": "code",
   "execution_count": null,
   "id": "a36a95c8",
   "metadata": {},
   "outputs": [],
   "source": []
  },
  {
   "cell_type": "code",
   "execution_count": null,
   "id": "4d4102c0",
   "metadata": {},
   "outputs": [],
   "source": []
  },
  {
   "cell_type": "code",
   "execution_count": null,
   "id": "62ab079a",
   "metadata": {},
   "outputs": [],
   "source": []
  },
  {
   "cell_type": "code",
   "execution_count": null,
   "id": "a9aa62b7",
   "metadata": {},
   "outputs": [],
   "source": []
  },
  {
   "cell_type": "code",
   "execution_count": null,
   "id": "b6c4bc2e",
   "metadata": {},
   "outputs": [],
   "source": []
  },
  {
   "cell_type": "code",
   "execution_count": null,
   "id": "ade3a5fa",
   "metadata": {},
   "outputs": [],
   "source": []
  },
  {
   "cell_type": "code",
   "execution_count": null,
   "id": "70137360",
   "metadata": {},
   "outputs": [],
   "source": []
  },
  {
   "cell_type": "code",
   "execution_count": null,
   "id": "fed972ab",
   "metadata": {},
   "outputs": [],
   "source": []
  },
  {
   "cell_type": "code",
   "execution_count": null,
   "id": "ee296eb3",
   "metadata": {},
   "outputs": [],
   "source": []
  },
  {
   "cell_type": "code",
   "execution_count": null,
   "id": "7f850ac6",
   "metadata": {},
   "outputs": [],
   "source": []
  },
  {
   "cell_type": "code",
   "execution_count": null,
   "id": "acc5db08",
   "metadata": {},
   "outputs": [],
   "source": []
  },
  {
   "cell_type": "code",
   "execution_count": 137,
   "id": "ae4fd140",
   "metadata": {},
   "outputs": [
    {
     "data": {
      "text/plain": [
       "Index(['id_age', 'flag_cellphone', 'flag_cellphone_answer', 'family_num',\n",
       "       'area_common_average', 'num_lifts_average', 'max_floor_average',\n",
       "       'min_floor_average', 'area_building_average', 'area_nohabit_average',\n",
       "       'age_expl_mode', 'area_common_mode', 'min_floor_mode',\n",
       "       'num_apart_habit_mode', 'num_apart_median', 'age_building_median',\n",
       "       'area_common_median', 'area_building_median', 'num_apart_habit_median',\n",
       "       'num_apart_nohabit_median', 'flag_vehicle_Y', 'accompained_alone',\n",
       "       'income_type_salary', 'marital_status_married', 'occupation_commercial',\n",
       "       'occupation_professional', 'occupation_real estate agent',\n",
       "       'dayofweek_application_Thu', 'type_organisation_construction',\n",
       "       'type_building_row-house', 'wall_materials_concrete'],\n",
       "      dtype='object')"
      ]
     },
     "execution_count": 137,
     "metadata": {},
     "output_type": "execute_result"
    }
   ],
   "source": [
    "lr_feat_impor_s[lr_feat_impor_s==0].index"
   ]
  },
  {
   "cell_type": "code",
   "execution_count": 141,
   "id": "d73c2dca",
   "metadata": {},
   "outputs": [
    {
     "data": {
      "text/plain": [
       "Index(['flag_cellphone', 'flag_work_phone', 'flag_homephone', 'region_score',\n",
       "       'flag_direperm_direcon_ciu', 'flag_direperm_diretra_ciu',\n",
       "       'flag_direcon_diretra_ciu', 'num_lifts_average', 'max_floor_mode',\n",
       "       'num_lifts_median', 'contract_type_credit card',\n",
       "       'contract_type_personal loan', 'flag_vehicle_Y', 'flag_properties_Y',\n",
       "       'accompained_children', 'income_type_salary', 'income_type_shareholder',\n",
       "       'marital_status_divorced', 'marital_status_single', 'occupation_HR',\n",
       "       'occupation_accounting', 'occupation_cooking', 'occupation_external',\n",
       "       'occupation_health', 'occupation_real estate agent',\n",
       "       'occupation_secretary', 'occupation_technical',\n",
       "       'dayofweek_application_Fri', 'dayofweek_application_Sat',\n",
       "       'dayofweek_application_Thu', 'type_organisation_agriculture',\n",
       "       'type_organisation_bank', 'type_organisation_business type 1',\n",
       "       'type_organisation_business type 3', 'type_organisation_cleaning',\n",
       "       'type_organisation_culture', 'type_organisation_hotel industry',\n",
       "       'type_organisation_indusry type 2', 'type_organisation_industry type 1',\n",
       "       'type_organisation_industry type 12',\n",
       "       'type_organisation_industry type 3',\n",
       "       'type_organisation_industry type 5',\n",
       "       'type_organisation_industry type 6',\n",
       "       'type_organisation_industry type 8',\n",
       "       'type_organisation_industry type 9', 'type_organisation_insurance',\n",
       "       'type_organisation_legal services', 'type_organisation_mobile phone',\n",
       "       'type_organisation_religion', 'type_organisation_restoration',\n",
       "       'type_organisation_store type 1', 'type_organisation_store type 4',\n",
       "       'type_organisation_store type 6',\n",
       "       'type_organisation_telecommunications',\n",
       "       'type_organisation_transport type 1',\n",
       "       'type_organisation_transport type 2',\n",
       "       'type_building_appartment building', 'type_building_row-house',\n",
       "       'wall_materials_mixed', 'wall_materials_monolithic',\n",
       "       'wall_materials_wood', 'emergency_exits_N', 'emergency_exits_Y'],\n",
       "      dtype='object')"
      ]
     },
     "execution_count": 141,
     "metadata": {},
     "output_type": "execute_result"
    }
   ],
   "source": [
    "dt_feat_impor_s[dt_feat_impor_s==0].index"
   ]
  },
  {
   "cell_type": "code",
   "execution_count": null,
   "id": "90ba41c2",
   "metadata": {},
   "outputs": [],
   "source": []
  },
  {
   "cell_type": "code",
   "execution_count": null,
   "id": "ab9ff166",
   "metadata": {},
   "outputs": [],
   "source": []
  },
  {
   "cell_type": "code",
   "execution_count": null,
   "id": "590f84ae",
   "metadata": {},
   "outputs": [],
   "source": []
  },
  {
   "cell_type": "code",
   "execution_count": null,
   "id": "1a8d7c62",
   "metadata": {},
   "outputs": [],
   "source": []
  },
  {
   "cell_type": "code",
   "execution_count": null,
   "id": "69b4ad25",
   "metadata": {},
   "outputs": [],
   "source": []
  },
  {
   "cell_type": "code",
   "execution_count": null,
   "id": "110aa2ad",
   "metadata": {},
   "outputs": [],
   "source": []
  },
  {
   "cell_type": "code",
   "execution_count": null,
   "id": "ade3d1a8",
   "metadata": {},
   "outputs": [],
   "source": []
  },
  {
   "cell_type": "code",
   "execution_count": null,
   "id": "026ba031",
   "metadata": {},
   "outputs": [],
   "source": []
  },
  {
   "cell_type": "code",
   "execution_count": null,
   "id": "59efebca",
   "metadata": {},
   "outputs": [],
   "source": []
  },
  {
   "cell_type": "code",
   "execution_count": null,
   "id": "af4bc51a",
   "metadata": {},
   "outputs": [],
   "source": []
  },
  {
   "cell_type": "code",
   "execution_count": null,
   "id": "6d135d6b",
   "metadata": {},
   "outputs": [],
   "source": []
  },
  {
   "cell_type": "code",
   "execution_count": null,
   "id": "4745704c",
   "metadata": {},
   "outputs": [],
   "source": []
  },
  {
   "cell_type": "code",
   "execution_count": null,
   "id": "26517631",
   "metadata": {},
   "outputs": [],
   "source": []
  },
  {
   "cell_type": "code",
   "execution_count": null,
   "id": "0350324b",
   "metadata": {},
   "outputs": [],
   "source": []
  },
  {
   "cell_type": "code",
   "execution_count": null,
   "id": "30458aab",
   "metadata": {},
   "outputs": [],
   "source": []
  },
  {
   "cell_type": "code",
   "execution_count": null,
   "id": "3ccc95b5",
   "metadata": {},
   "outputs": [],
   "source": []
  },
  {
   "cell_type": "code",
   "execution_count": null,
   "id": "1b89a44d",
   "metadata": {},
   "outputs": [],
   "source": []
  },
  {
   "cell_type": "code",
   "execution_count": null,
   "id": "79e08f81",
   "metadata": {},
   "outputs": [],
   "source": []
  },
  {
   "cell_type": "code",
   "execution_count": null,
   "id": "d6daea0e",
   "metadata": {},
   "outputs": [],
   "source": []
  },
  {
   "cell_type": "code",
   "execution_count": null,
   "id": "dedaeeb5",
   "metadata": {},
   "outputs": [],
   "source": []
  },
  {
   "cell_type": "code",
   "execution_count": null,
   "id": "878c954a",
   "metadata": {},
   "outputs": [],
   "source": []
  },
  {
   "cell_type": "code",
   "execution_count": null,
   "id": "218ac581",
   "metadata": {},
   "outputs": [],
   "source": []
  },
  {
   "cell_type": "code",
   "execution_count": null,
   "id": "6bcfd61b",
   "metadata": {},
   "outputs": [],
   "source": []
  },
  {
   "cell_type": "code",
   "execution_count": null,
   "id": "a1ef6872",
   "metadata": {},
   "outputs": [],
   "source": []
  },
  {
   "cell_type": "code",
   "execution_count": null,
   "id": "d33bdce5",
   "metadata": {},
   "outputs": [],
   "source": []
  },
  {
   "cell_type": "code",
   "execution_count": null,
   "id": "b8689bb2",
   "metadata": {},
   "outputs": [],
   "source": []
  },
  {
   "cell_type": "code",
   "execution_count": null,
   "id": "ad6511cc",
   "metadata": {},
   "outputs": [],
   "source": []
  },
  {
   "cell_type": "code",
   "execution_count": null,
   "id": "1e6803a2",
   "metadata": {},
   "outputs": [],
   "source": []
  },
  {
   "cell_type": "code",
   "execution_count": null,
   "id": "b9c2107c",
   "metadata": {},
   "outputs": [],
   "source": []
  },
  {
   "cell_type": "code",
   "execution_count": null,
   "id": "3b43171a",
   "metadata": {},
   "outputs": [],
   "source": []
  },
  {
   "cell_type": "code",
   "execution_count": null,
   "id": "03f181f8",
   "metadata": {},
   "outputs": [],
   "source": []
  },
  {
   "cell_type": "code",
   "execution_count": null,
   "id": "3262c73a",
   "metadata": {},
   "outputs": [],
   "source": []
  },
  {
   "cell_type": "code",
   "execution_count": null,
   "id": "ee37dc2b",
   "metadata": {},
   "outputs": [],
   "source": []
  },
  {
   "cell_type": "code",
   "execution_count": null,
   "id": "2feedaa1",
   "metadata": {},
   "outputs": [],
   "source": [
    "# Threeshold to delete"
   ]
  },
  {
   "cell_type": "code",
   "execution_count": 36,
   "id": "c65aa2ae",
   "metadata": {},
   "outputs": [
    {
     "ename": "SyntaxError",
     "evalue": "invalid syntax (3781525808.py, line 1)",
     "output_type": "error",
     "traceback": [
      "\u001b[0;36m  File \u001b[0;32m\"/var/folders/4s/1snmk3fx0sjc2qb4hxc7hyph0000gn/T/ipykernel_1509/3781525808.py\"\u001b[0;36m, line \u001b[0;32m1\u001b[0m\n\u001b[0;31m    print(df_nna.dropna(thresh=).shape)\u001b[0m\n\u001b[0m                               ^\u001b[0m\n\u001b[0;31mSyntaxError\u001b[0m\u001b[0;31m:\u001b[0m invalid syntax\n"
     ]
    }
   ],
   "source": [
    "print(df_nna.dropna(thresh=).shape)\n",
    "sns.histplot(df_nna['default'])\n",
    "print('Prop. positive class: {}%'.format(round(df_nna['default'].mean(),3)*100))"
   ]
  },
  {
   "cell_type": "code",
   "execution_count": null,
   "id": "785012cd",
   "metadata": {},
   "outputs": [],
   "source": []
  },
  {
   "cell_type": "code",
   "execution_count": 35,
   "id": "32642281",
   "metadata": {},
   "outputs": [
    {
     "name": "stdout",
     "output_type": "stream",
     "text": [
      "N    159428\n",
      "Y      2328\n",
      "Name: emergency_exits, dtype: int64\n",
      "panel         66040\n",
      "brick         64815\n",
      "concrete       9253\n",
      "wood           5362\n",
      "mixed          2296\n",
      "monolithic     1779\n",
      "other          1625\n",
      "Name: wall_materials, dtype: int64\n",
      "appartment building    150503\n",
      "house                    1499\n",
      "row-house                1212\n",
      "Name: type_building, dtype: int64\n",
      "external             55186\n",
      "commercial           32102\n",
      "internal             27570\n",
      "managers             21371\n",
      "drivers              18603\n",
      "technical            11380\n",
      "accounting            9813\n",
      "health                8537\n",
      "security              6721\n",
      "cooking               5946\n",
      "cleaning              4653\n",
      "private sector        2652\n",
      "professional          2093\n",
      "waiter                1348\n",
      "secretary             1305\n",
      "real estate agent      751\n",
      "HR                     563\n",
      "IT                     526\n",
      "Name: occupation, dtype: int64\n",
      "alone       248526\n",
      "family       40149\n",
      "couple       11370\n",
      "children      3267\n",
      "other_2       1770\n",
      "other_1        866\n",
      "group          271\n",
      "Name: accompained, dtype: int64\n"
     ]
    }
   ],
   "source": [
    "for col in not_numeric_with_comma:\n",
    "    print(df[col].value_counts())"
   ]
  },
  {
   "cell_type": "code",
   "execution_count": null,
   "id": "f7d5510d",
   "metadata": {},
   "outputs": [],
   "source": []
  },
  {
   "cell_type": "code",
   "execution_count": null,
   "id": "8cecccc4",
   "metadata": {},
   "outputs": [],
   "source": []
  },
  {
   "cell_type": "code",
   "execution_count": null,
   "id": "ff96ed83",
   "metadata": {},
   "outputs": [],
   "source": []
  },
  {
   "cell_type": "code",
   "execution_count": null,
   "id": "60952ed0",
   "metadata": {},
   "outputs": [],
   "source": []
  },
  {
   "cell_type": "code",
   "execution_count": null,
   "id": "3e0432d4",
   "metadata": {},
   "outputs": [],
   "source": []
  },
  {
   "cell_type": "code",
   "execution_count": null,
   "id": "af7f0a2e",
   "metadata": {},
   "outputs": [],
   "source": []
  },
  {
   "cell_type": "code",
   "execution_count": null,
   "id": "86b20deb",
   "metadata": {},
   "outputs": [],
   "source": []
  },
  {
   "cell_type": "code",
   "execution_count": null,
   "id": "890a850a",
   "metadata": {},
   "outputs": [],
   "source": []
  },
  {
   "cell_type": "code",
   "execution_count": null,
   "id": "9333bae9",
   "metadata": {},
   "outputs": [],
   "source": []
  },
  {
   "cell_type": "code",
   "execution_count": null,
   "id": "6796d3a1",
   "metadata": {},
   "outputs": [],
   "source": []
  },
  {
   "cell_type": "code",
   "execution_count": 18,
   "id": "5ec6979c",
   "metadata": {},
   "outputs": [
    {
     "data": {
      "text/plain": [
       "0          406597,5\n",
       "1         1293502,5\n",
       "2            135000\n",
       "3          312682,5\n",
       "4            513000\n",
       "            ...    \n",
       "307506       254700\n",
       "307507       269550\n",
       "307508       677664\n",
       "307509       370107\n",
       "307510       675000\n",
       "Name: loan_amount, Length: 307511, dtype: object"
      ]
     },
     "execution_count": 18,
     "metadata": {},
     "output_type": "execute_result"
    }
   ],
   "source": [
    "df['loan_amount']"
   ]
  },
  {
   "cell_type": "code",
   "execution_count": null,
   "id": "7a15de22",
   "metadata": {},
   "outputs": [],
   "source": []
  },
  {
   "cell_type": "code",
   "execution_count": null,
   "id": "bd2df1fb",
   "metadata": {},
   "outputs": [],
   "source": []
  },
  {
   "cell_type": "code",
   "execution_count": null,
   "id": "d72430ac",
   "metadata": {},
   "outputs": [],
   "source": []
  },
  {
   "cell_type": "code",
   "execution_count": null,
   "id": "25637522",
   "metadata": {},
   "outputs": [],
   "source": []
  },
  {
   "cell_type": "code",
   "execution_count": 13,
   "id": "b4f0e7d9",
   "metadata": {},
   "outputs": [
    {
     "data": {
      "text/plain": [
       "450000       9709\n",
       "675000       8877\n",
       "225000       8162\n",
       "180000       7342\n",
       "270000       7241\n",
       "             ... \n",
       "487318,5        1\n",
       "630400,5        1\n",
       "1875276         1\n",
       "1395895,5       1\n",
       "1391130         1\n",
       "Name: loan_amount, Length: 5603, dtype: int64"
      ]
     },
     "execution_count": 13,
     "metadata": {},
     "output_type": "execute_result"
    }
   ],
   "source": [
    "#df['max_floor_median'].value_counts()\n",
    "df['loan_amount'].value_counts()"
   ]
  },
  {
   "cell_type": "code",
   "execution_count": null,
   "id": "f66488e9",
   "metadata": {},
   "outputs": [],
   "source": []
  },
  {
   "cell_type": "code",
   "execution_count": null,
   "id": "8696107c",
   "metadata": {},
   "outputs": [],
   "source": []
  },
  {
   "cell_type": "code",
   "execution_count": null,
   "id": "19043499",
   "metadata": {},
   "outputs": [],
   "source": []
  },
  {
   "cell_type": "code",
   "execution_count": null,
   "id": "cd5ed764",
   "metadata": {},
   "outputs": [],
   "source": []
  },
  {
   "cell_type": "code",
   "execution_count": null,
   "id": "d7327bdb",
   "metadata": {},
   "outputs": [],
   "source": []
  },
  {
   "cell_type": "code",
   "execution_count": null,
   "id": "47c44d18",
   "metadata": {},
   "outputs": [],
   "source": []
  },
  {
   "cell_type": "code",
   "execution_count": null,
   "id": "8d7cc473",
   "metadata": {},
   "outputs": [],
   "source": []
  },
  {
   "cell_type": "code",
   "execution_count": null,
   "id": "86cd577e",
   "metadata": {},
   "outputs": [],
   "source": []
  }
 ],
 "metadata": {
  "kernelspec": {
   "display_name": "Python 3 (ipykernel)",
   "language": "python",
   "name": "python3"
  },
  "language_info": {
   "codemirror_mode": {
    "name": "ipython",
    "version": 3
   },
   "file_extension": ".py",
   "mimetype": "text/x-python",
   "name": "python",
   "nbconvert_exporter": "python",
   "pygments_lexer": "ipython3",
   "version": "3.8.8"
  }
 },
 "nbformat": 4,
 "nbformat_minor": 5
}

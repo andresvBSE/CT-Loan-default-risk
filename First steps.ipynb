{
 "cells": [
  {
   "cell_type": "code",
   "execution_count": 117,
   "metadata": {},
   "outputs": [],
   "source": [
    "import numpy as np\n",
    "import pandas as pd\n",
    "\n",
    "import sklearn\n",
    "from sklearn.linear_model import LogisticRegression, LogisticRegressionCV\n",
    "from sklearn.tree import DecisionTreeClassifier\n",
    "from sklearn.preprocessing import StandardScaler\n",
    "from sklearn.ensemble import RandomForestClassifier\n",
    "from sklearn.pipeline import Pipeline\n",
    "from sklearn.compose import ColumnTransformer\n",
    "from sklearn.model_selection import GridSearchCV, cross_val_score, StratifiedKFold, train_test_split\n",
    "from sklearn.metrics import roc_auc_score, f1_score, recall_score, precision_score, classification_report, confusion_matrix\n",
    "\n",
    "import warnings\n",
    "warnings.filterwarnings(action='ignore')\n",
    "\n",
    "import category_encoders as ce\n",
    "\n",
    "import matplotlib.pyplot as plt\n",
    "import seaborn as sns"
   ]
  },
  {
   "cell_type": "code",
   "execution_count": 135,
   "metadata": {},
   "outputs": [],
   "source": [
    "from imblearn.over_sampling import SMOTE\n",
    "from imblearn.combine import SMOTEENN, SMOTETomek"
   ]
  },
  {
   "cell_type": "code",
   "execution_count": 86,
   "metadata": {},
   "outputs": [],
   "source": [
    "import sys\n",
    "sys.path.append('src')"
   ]
  },
  {
   "cell_type": "code",
   "execution_count": 87,
   "metadata": {},
   "outputs": [],
   "source": [
    "from preprocessing import *"
   ]
  },
  {
   "cell_type": "code",
   "execution_count": 45,
   "metadata": {},
   "outputs": [
    {
     "name": "stdout",
     "output_type": "stream",
     "text": [
      "<class 'pandas.core.frame.DataFrame'>\n",
      "RangeIndex: 307511 entries, 0 to 307510\n",
      "Data columns (total 98 columns):\n",
      " #   Column                     Non-Null Count   Dtype  \n",
      "---  ------                     --------------   -----  \n",
      " 0   Unnamed: 0                 307511 non-null  int64  \n",
      " 1   id                         307511 non-null  int64  \n",
      " 2   default                    307511 non-null  int64  \n",
      " 3   contract_type              307511 non-null  object \n",
      " 4   gender                     307511 non-null  object \n",
      " 5   flag_vehicle               307511 non-null  object \n",
      " 6   flag_properties            307511 non-null  object \n",
      " 7   num_children               307511 non-null  int64  \n",
      " 8   total_income               307511 non-null  object \n",
      " 9   loan_amount                307511 non-null  object \n",
      " 10  anual_payment              307499 non-null  object \n",
      " 11  product_amount             307233 non-null  object \n",
      " 12  accompained                306219 non-null  object \n",
      " 13  income_type                307511 non-null  object \n",
      " 14  education                  0 non-null       float64\n",
      " 15  marital_status             307511 non-null  object \n",
      " 16  residence_type             0 non-null       float64\n",
      " 17  normalised_pop             307511 non-null  object \n",
      " 18  age                        307511 non-null  int64  \n",
      " 19  work_age                   307511 non-null  int64  \n",
      " 20  registry_age               307511 non-null  object \n",
      " 21  id_age                     307511 non-null  int64  \n",
      " 22  vehicle_age                104582 non-null  float64\n",
      " 23  flag_cellphone             307511 non-null  int64  \n",
      " 24  flag_work_phone            307511 non-null  int64  \n",
      " 25  flag_work_company          307511 non-null  int64  \n",
      " 26  flag_cellphone_answer      307511 non-null  int64  \n",
      " 27  flag_homephone             307511 non-null  int64  \n",
      " 28  flag_email                 307511 non-null  int64  \n",
      " 29  occupation                 211120 non-null  object \n",
      " 30  family_num                 307509 non-null  float64\n",
      " 31  region_score               307511 non-null  int64  \n",
      " 32  region_city_score          307511 non-null  int64  \n",
      " 33  dayofweek_application      307511 non-null  object \n",
      " 34  hour_application           307511 non-null  int64  \n",
      " 35  flag_direperm_direcon_reg  307511 non-null  int64  \n",
      " 36  flag_direperm_diretra_reg  307511 non-null  int64  \n",
      " 37  flag_direcon_diretra_reg   307511 non-null  int64  \n",
      " 38  flag_direperm_direcon_ciu  307511 non-null  int64  \n",
      " 39  flag_direperm_diretra_ciu  307511 non-null  int64  \n",
      " 40  flag_direcon_diretra_ciu   307511 non-null  int64  \n",
      " 41  type_organisation          307511 non-null  object \n",
      " 42  external_score_1           134133 non-null  object \n",
      " 43  external_score_2           306851 non-null  object \n",
      " 44  external_score_3           246546 non-null  object \n",
      " 45  num_apart_average          151450 non-null  object \n",
      " 46  area_basement_average      127568 non-null  object \n",
      " 47  age_expl_average           157504 non-null  object \n",
      " 48  age_building_average       103023 non-null  object \n",
      " 49  area_common_average        92646 non-null   object \n",
      " 50  num_lifts_average          143620 non-null  object \n",
      " 51  num_entries_average        152683 non-null  object \n",
      " 52  max_floor_average          154491 non-null  object \n",
      " 53  min_floor_average          98869 non-null   object \n",
      " 54  area_building_average      124921 non-null  object \n",
      " 55  num_apart_habit_average    97312 non-null   object \n",
      " 56  area_habit_average         153161 non-null  object \n",
      " 57  num_apart_nohabit_average  93997 non-null   object \n",
      " 58  area_nohabit_average       137829 non-null  object \n",
      " 59  num_apart_mode             151450 non-null  object \n",
      " 60  area_basement_mode         127568 non-null  object \n",
      " 61  age_expl_mode              157504 non-null  object \n",
      " 62  age_building_mode          103023 non-null  object \n",
      " 63  area_common_mode           92646 non-null   object \n",
      " 64  num_lifts_mode             143620 non-null  object \n",
      " 65  num_entries_mode           152683 non-null  object \n",
      " 66  max_floor_mode             154491 non-null  object \n",
      " 67  min_floor_mode             98869 non-null   object \n",
      " 68  area_building_mode         124921 non-null  object \n",
      " 69  num_apart_habit_mode       97312 non-null   object \n",
      " 70  area_habit_mode            153161 non-null  object \n",
      " 71  num_apart_nohabit_mode     93997 non-null   object \n",
      " 72  area_nohabit_mode          137829 non-null  object \n",
      " 73  num_apart_median           151450 non-null  object \n",
      " 74  area_basement_median       127568 non-null  object \n",
      " 75  age_expl_median            157504 non-null  object \n",
      " 76  age_building_median        103023 non-null  object \n",
      " 77  area_common_median         92646 non-null   object \n",
      " 78  num_lifts_median           143620 non-null  object \n",
      " 79  num_entries_median         152683 non-null  object \n",
      " 80  max_floor_median           154491 non-null  object \n",
      " 81  min_floor_median           98869 non-null   object \n",
      " 82  area_building_median       124921 non-null  object \n",
      " 83  num_apart_habit_median     97312 non-null   object \n",
      " 84  area_habit_median          153161 non-null  object \n",
      " 85  num_apart_nohabit_median   93997 non-null   object \n",
      " 86  area_nohabit_median        137829 non-null  object \n",
      " 87  type_building              153214 non-null  object \n",
      " 88  total_area                 159080 non-null  object \n",
      " 89  wall_materials             151170 non-null  object \n",
      " 90  emergency_exits            161756 non-null  object \n",
      " 91  age_mobilephone_days       307510 non-null  float64\n",
      " 92  num_petic_bureau_hour      265992 non-null  float64\n",
      " 93  num_petic_bureau_day       265992 non-null  float64\n",
      " 94  num_petic_bureau_week      265992 non-null  float64\n",
      " 95  num_petic_bureau_month     265992 non-null  float64\n",
      " 96  num_petic_bureau_quarter   265992 non-null  float64\n",
      " 97  num_petic_bureau_year      265992 non-null  float64\n",
      "dtypes: float64(11), int64(22), object(65)\n",
      "memory usage: 229.9+ MB\n",
      "None\n"
     ]
    },
    {
     "data": {
      "text/html": [
       "<div>\n",
       "<style scoped>\n",
       "    .dataframe tbody tr th:only-of-type {\n",
       "        vertical-align: middle;\n",
       "    }\n",
       "\n",
       "    .dataframe tbody tr th {\n",
       "        vertical-align: top;\n",
       "    }\n",
       "\n",
       "    .dataframe thead th {\n",
       "        text-align: right;\n",
       "    }\n",
       "</style>\n",
       "<table border=\"1\" class=\"dataframe\">\n",
       "  <thead>\n",
       "    <tr style=\"text-align: right;\">\n",
       "      <th></th>\n",
       "      <th>Unnamed: 0</th>\n",
       "      <th>id</th>\n",
       "      <th>default</th>\n",
       "      <th>contract_type</th>\n",
       "      <th>gender</th>\n",
       "      <th>flag_vehicle</th>\n",
       "      <th>flag_properties</th>\n",
       "      <th>num_children</th>\n",
       "      <th>total_income</th>\n",
       "      <th>loan_amount</th>\n",
       "      <th>...</th>\n",
       "      <th>total_area</th>\n",
       "      <th>wall_materials</th>\n",
       "      <th>emergency_exits</th>\n",
       "      <th>age_mobilephone_days</th>\n",
       "      <th>num_petic_bureau_hour</th>\n",
       "      <th>num_petic_bureau_day</th>\n",
       "      <th>num_petic_bureau_week</th>\n",
       "      <th>num_petic_bureau_month</th>\n",
       "      <th>num_petic_bureau_quarter</th>\n",
       "      <th>num_petic_bureau_year</th>\n",
       "    </tr>\n",
       "  </thead>\n",
       "  <tbody>\n",
       "    <tr>\n",
       "      <th>0</th>\n",
       "      <td>0</td>\n",
       "      <td>100002</td>\n",
       "      <td>1</td>\n",
       "      <td>personal loan</td>\n",
       "      <td>M</td>\n",
       "      <td>N</td>\n",
       "      <td>Y</td>\n",
       "      <td>0</td>\n",
       "      <td>202500</td>\n",
       "      <td>406597,5</td>\n",
       "      <td>...</td>\n",
       "      <td>0,0149</td>\n",
       "      <td>brick</td>\n",
       "      <td>N</td>\n",
       "      <td>-1134.0</td>\n",
       "      <td>0.0</td>\n",
       "      <td>0.0</td>\n",
       "      <td>0.0</td>\n",
       "      <td>0.0</td>\n",
       "      <td>0.0</td>\n",
       "      <td>1.0</td>\n",
       "    </tr>\n",
       "    <tr>\n",
       "      <th>1</th>\n",
       "      <td>1</td>\n",
       "      <td>100003</td>\n",
       "      <td>0</td>\n",
       "      <td>personal loan</td>\n",
       "      <td>F</td>\n",
       "      <td>N</td>\n",
       "      <td>N</td>\n",
       "      <td>0</td>\n",
       "      <td>270000</td>\n",
       "      <td>1293502,5</td>\n",
       "      <td>...</td>\n",
       "      <td>0,0714</td>\n",
       "      <td>concrete</td>\n",
       "      <td>N</td>\n",
       "      <td>-828.0</td>\n",
       "      <td>0.0</td>\n",
       "      <td>0.0</td>\n",
       "      <td>0.0</td>\n",
       "      <td>0.0</td>\n",
       "      <td>0.0</td>\n",
       "      <td>0.0</td>\n",
       "    </tr>\n",
       "    <tr>\n",
       "      <th>2</th>\n",
       "      <td>2</td>\n",
       "      <td>100004</td>\n",
       "      <td>0</td>\n",
       "      <td>credit card</td>\n",
       "      <td>M</td>\n",
       "      <td>Y</td>\n",
       "      <td>Y</td>\n",
       "      <td>0</td>\n",
       "      <td>67500</td>\n",
       "      <td>135000</td>\n",
       "      <td>...</td>\n",
       "      <td>NaN</td>\n",
       "      <td>NaN</td>\n",
       "      <td>NaN</td>\n",
       "      <td>-815.0</td>\n",
       "      <td>0.0</td>\n",
       "      <td>0.0</td>\n",
       "      <td>0.0</td>\n",
       "      <td>0.0</td>\n",
       "      <td>0.0</td>\n",
       "      <td>0.0</td>\n",
       "    </tr>\n",
       "    <tr>\n",
       "      <th>3</th>\n",
       "      <td>3</td>\n",
       "      <td>100006</td>\n",
       "      <td>0</td>\n",
       "      <td>personal loan</td>\n",
       "      <td>F</td>\n",
       "      <td>N</td>\n",
       "      <td>Y</td>\n",
       "      <td>0</td>\n",
       "      <td>135000</td>\n",
       "      <td>312682,5</td>\n",
       "      <td>...</td>\n",
       "      <td>NaN</td>\n",
       "      <td>NaN</td>\n",
       "      <td>NaN</td>\n",
       "      <td>-617.0</td>\n",
       "      <td>NaN</td>\n",
       "      <td>NaN</td>\n",
       "      <td>NaN</td>\n",
       "      <td>NaN</td>\n",
       "      <td>NaN</td>\n",
       "      <td>NaN</td>\n",
       "    </tr>\n",
       "    <tr>\n",
       "      <th>4</th>\n",
       "      <td>4</td>\n",
       "      <td>100007</td>\n",
       "      <td>0</td>\n",
       "      <td>personal loan</td>\n",
       "      <td>M</td>\n",
       "      <td>N</td>\n",
       "      <td>Y</td>\n",
       "      <td>0</td>\n",
       "      <td>121500</td>\n",
       "      <td>513000</td>\n",
       "      <td>...</td>\n",
       "      <td>NaN</td>\n",
       "      <td>NaN</td>\n",
       "      <td>NaN</td>\n",
       "      <td>-1106.0</td>\n",
       "      <td>0.0</td>\n",
       "      <td>0.0</td>\n",
       "      <td>0.0</td>\n",
       "      <td>0.0</td>\n",
       "      <td>0.0</td>\n",
       "      <td>0.0</td>\n",
       "    </tr>\n",
       "  </tbody>\n",
       "</table>\n",
       "<p>5 rows × 98 columns</p>\n",
       "</div>"
      ],
      "text/plain": [
       "   Unnamed: 0      id  default  contract_type gender flag_vehicle  \\\n",
       "0           0  100002        1  personal loan      M            N   \n",
       "1           1  100003        0  personal loan      F            N   \n",
       "2           2  100004        0    credit card      M            Y   \n",
       "3           3  100006        0  personal loan      F            N   \n",
       "4           4  100007        0  personal loan      M            N   \n",
       "\n",
       "  flag_properties  num_children total_income loan_amount  ... total_area  \\\n",
       "0               Y             0       202500    406597,5  ...     0,0149   \n",
       "1               N             0       270000   1293502,5  ...     0,0714   \n",
       "2               Y             0        67500      135000  ...        NaN   \n",
       "3               Y             0       135000    312682,5  ...        NaN   \n",
       "4               Y             0       121500      513000  ...        NaN   \n",
       "\n",
       "  wall_materials emergency_exits age_mobilephone_days  num_petic_bureau_hour  \\\n",
       "0          brick               N              -1134.0                    0.0   \n",
       "1       concrete               N               -828.0                    0.0   \n",
       "2            NaN             NaN               -815.0                    0.0   \n",
       "3            NaN             NaN               -617.0                    NaN   \n",
       "4            NaN             NaN              -1106.0                    0.0   \n",
       "\n",
       "  num_petic_bureau_day  num_petic_bureau_week num_petic_bureau_month  \\\n",
       "0                  0.0                    0.0                    0.0   \n",
       "1                  0.0                    0.0                    0.0   \n",
       "2                  0.0                    0.0                    0.0   \n",
       "3                  NaN                    NaN                    NaN   \n",
       "4                  0.0                    0.0                    0.0   \n",
       "\n",
       "   num_petic_bureau_quarter  num_petic_bureau_year  \n",
       "0                       0.0                    1.0  \n",
       "1                       0.0                    0.0  \n",
       "2                       0.0                    0.0  \n",
       "3                       NaN                    NaN  \n",
       "4                       0.0                    0.0  \n",
       "\n",
       "[5 rows x 98 columns]"
      ]
     },
     "execution_count": 45,
     "metadata": {},
     "output_type": "execute_result"
    }
   ],
   "source": [
    "df = pd.read_csv('data/application_info.csv', low_memory=False)\n",
    "print(df.info())\n",
    "df.head()"
   ]
  },
  {
   "cell_type": "code",
   "execution_count": 46,
   "metadata": {},
   "outputs": [
    {
     "data": {
      "text/html": [
       "<div>\n",
       "<style scoped>\n",
       "    .dataframe tbody tr th:only-of-type {\n",
       "        vertical-align: middle;\n",
       "    }\n",
       "\n",
       "    .dataframe tbody tr th {\n",
       "        vertical-align: top;\n",
       "    }\n",
       "\n",
       "    .dataframe thead th {\n",
       "        text-align: right;\n",
       "    }\n",
       "</style>\n",
       "<table border=\"1\" class=\"dataframe\">\n",
       "  <thead>\n",
       "    <tr style=\"text-align: right;\">\n",
       "      <th></th>\n",
       "      <th>Unnamed: 0</th>\n",
       "      <th>id</th>\n",
       "      <th>default</th>\n",
       "      <th>contract_type</th>\n",
       "      <th>gender</th>\n",
       "      <th>flag_vehicle</th>\n",
       "      <th>flag_properties</th>\n",
       "      <th>num_children</th>\n",
       "      <th>total_income</th>\n",
       "      <th>loan_amount</th>\n",
       "      <th>...</th>\n",
       "      <th>total_area</th>\n",
       "      <th>wall_materials</th>\n",
       "      <th>emergency_exits</th>\n",
       "      <th>age_mobilephone_days</th>\n",
       "      <th>num_petic_bureau_hour</th>\n",
       "      <th>num_petic_bureau_day</th>\n",
       "      <th>num_petic_bureau_week</th>\n",
       "      <th>num_petic_bureau_month</th>\n",
       "      <th>num_petic_bureau_quarter</th>\n",
       "      <th>num_petic_bureau_year</th>\n",
       "    </tr>\n",
       "  </thead>\n",
       "  <tbody>\n",
       "    <tr>\n",
       "      <th>285876</th>\n",
       "      <td>285876</td>\n",
       "      <td>431094</td>\n",
       "      <td>0</td>\n",
       "      <td>personal loan</td>\n",
       "      <td>F</td>\n",
       "      <td>N</td>\n",
       "      <td>N</td>\n",
       "      <td>0</td>\n",
       "      <td>382500</td>\n",
       "      <td>1575000</td>\n",
       "      <td>...</td>\n",
       "      <td>0,0743</td>\n",
       "      <td>brick</td>\n",
       "      <td>N</td>\n",
       "      <td>-820.0</td>\n",
       "      <td>0.0</td>\n",
       "      <td>0.0</td>\n",
       "      <td>1.0</td>\n",
       "      <td>0.0</td>\n",
       "      <td>0.0</td>\n",
       "      <td>1.0</td>\n",
       "    </tr>\n",
       "    <tr>\n",
       "      <th>187787</th>\n",
       "      <td>187787</td>\n",
       "      <td>317693</td>\n",
       "      <td>0</td>\n",
       "      <td>personal loan</td>\n",
       "      <td>F</td>\n",
       "      <td>N</td>\n",
       "      <td>Y</td>\n",
       "      <td>0</td>\n",
       "      <td>45000</td>\n",
       "      <td>622188</td>\n",
       "      <td>...</td>\n",
       "      <td>NaN</td>\n",
       "      <td>NaN</td>\n",
       "      <td>NaN</td>\n",
       "      <td>0.0</td>\n",
       "      <td>0.0</td>\n",
       "      <td>0.0</td>\n",
       "      <td>1.0</td>\n",
       "      <td>0.0</td>\n",
       "      <td>0.0</td>\n",
       "      <td>2.0</td>\n",
       "    </tr>\n",
       "    <tr>\n",
       "      <th>225974</th>\n",
       "      <td>225974</td>\n",
       "      <td>361739</td>\n",
       "      <td>0</td>\n",
       "      <td>personal loan</td>\n",
       "      <td>F</td>\n",
       "      <td>N</td>\n",
       "      <td>Y</td>\n",
       "      <td>0</td>\n",
       "      <td>67500</td>\n",
       "      <td>728460</td>\n",
       "      <td>...</td>\n",
       "      <td>0,0566</td>\n",
       "      <td>brick</td>\n",
       "      <td>N</td>\n",
       "      <td>-935.0</td>\n",
       "      <td>0.0</td>\n",
       "      <td>0.0</td>\n",
       "      <td>0.0</td>\n",
       "      <td>0.0</td>\n",
       "      <td>0.0</td>\n",
       "      <td>0.0</td>\n",
       "    </tr>\n",
       "    <tr>\n",
       "      <th>268395</th>\n",
       "      <td>268395</td>\n",
       "      <td>411015</td>\n",
       "      <td>0</td>\n",
       "      <td>personal loan</td>\n",
       "      <td>F</td>\n",
       "      <td>N</td>\n",
       "      <td>Y</td>\n",
       "      <td>0</td>\n",
       "      <td>90000</td>\n",
       "      <td>751842</td>\n",
       "      <td>...</td>\n",
       "      <td>0,1785</td>\n",
       "      <td>concrete</td>\n",
       "      <td>N</td>\n",
       "      <td>-1471.0</td>\n",
       "      <td>0.0</td>\n",
       "      <td>0.0</td>\n",
       "      <td>0.0</td>\n",
       "      <td>0.0</td>\n",
       "      <td>0.0</td>\n",
       "      <td>1.0</td>\n",
       "    </tr>\n",
       "    <tr>\n",
       "      <th>208799</th>\n",
       "      <td>208799</td>\n",
       "      <td>342003</td>\n",
       "      <td>0</td>\n",
       "      <td>personal loan</td>\n",
       "      <td>F</td>\n",
       "      <td>N</td>\n",
       "      <td>Y</td>\n",
       "      <td>0</td>\n",
       "      <td>135000</td>\n",
       "      <td>522000</td>\n",
       "      <td>...</td>\n",
       "      <td>NaN</td>\n",
       "      <td>NaN</td>\n",
       "      <td>NaN</td>\n",
       "      <td>-1990.0</td>\n",
       "      <td>NaN</td>\n",
       "      <td>NaN</td>\n",
       "      <td>NaN</td>\n",
       "      <td>NaN</td>\n",
       "      <td>NaN</td>\n",
       "      <td>NaN</td>\n",
       "    </tr>\n",
       "    <tr>\n",
       "      <th>38558</th>\n",
       "      <td>38558</td>\n",
       "      <td>144655</td>\n",
       "      <td>0</td>\n",
       "      <td>personal loan</td>\n",
       "      <td>M</td>\n",
       "      <td>N</td>\n",
       "      <td>Y</td>\n",
       "      <td>0</td>\n",
       "      <td>90000</td>\n",
       "      <td>397881</td>\n",
       "      <td>...</td>\n",
       "      <td>NaN</td>\n",
       "      <td>NaN</td>\n",
       "      <td>NaN</td>\n",
       "      <td>-995.0</td>\n",
       "      <td>0.0</td>\n",
       "      <td>0.0</td>\n",
       "      <td>0.0</td>\n",
       "      <td>0.0</td>\n",
       "      <td>0.0</td>\n",
       "      <td>0.0</td>\n",
       "    </tr>\n",
       "    <tr>\n",
       "      <th>23006</th>\n",
       "      <td>23006</td>\n",
       "      <td>126771</td>\n",
       "      <td>0</td>\n",
       "      <td>personal loan</td>\n",
       "      <td>M</td>\n",
       "      <td>Y</td>\n",
       "      <td>Y</td>\n",
       "      <td>0</td>\n",
       "      <td>194400</td>\n",
       "      <td>640080</td>\n",
       "      <td>...</td>\n",
       "      <td>0,0686</td>\n",
       "      <td>brick</td>\n",
       "      <td>N</td>\n",
       "      <td>-1237.0</td>\n",
       "      <td>0.0</td>\n",
       "      <td>0.0</td>\n",
       "      <td>0.0</td>\n",
       "      <td>0.0</td>\n",
       "      <td>0.0</td>\n",
       "      <td>2.0</td>\n",
       "    </tr>\n",
       "    <tr>\n",
       "      <th>78592</th>\n",
       "      <td>78592</td>\n",
       "      <td>191105</td>\n",
       "      <td>1</td>\n",
       "      <td>credit card</td>\n",
       "      <td>F</td>\n",
       "      <td>Y</td>\n",
       "      <td>N</td>\n",
       "      <td>0</td>\n",
       "      <td>117130,5</td>\n",
       "      <td>135000</td>\n",
       "      <td>...</td>\n",
       "      <td>0,0949</td>\n",
       "      <td>concrete</td>\n",
       "      <td>N</td>\n",
       "      <td>-32.0</td>\n",
       "      <td>0.0</td>\n",
       "      <td>0.0</td>\n",
       "      <td>0.0</td>\n",
       "      <td>0.0</td>\n",
       "      <td>0.0</td>\n",
       "      <td>0.0</td>\n",
       "    </tr>\n",
       "    <tr>\n",
       "      <th>24892</th>\n",
       "      <td>24892</td>\n",
       "      <td>128950</td>\n",
       "      <td>1</td>\n",
       "      <td>personal loan</td>\n",
       "      <td>F</td>\n",
       "      <td>N</td>\n",
       "      <td>N</td>\n",
       "      <td>2</td>\n",
       "      <td>211500</td>\n",
       "      <td>675000</td>\n",
       "      <td>...</td>\n",
       "      <td>NaN</td>\n",
       "      <td>NaN</td>\n",
       "      <td>NaN</td>\n",
       "      <td>-837.0</td>\n",
       "      <td>0.0</td>\n",
       "      <td>0.0</td>\n",
       "      <td>0.0</td>\n",
       "      <td>0.0</td>\n",
       "      <td>1.0</td>\n",
       "      <td>2.0</td>\n",
       "    </tr>\n",
       "    <tr>\n",
       "      <th>78422</th>\n",
       "      <td>78422</td>\n",
       "      <td>190915</td>\n",
       "      <td>0</td>\n",
       "      <td>personal loan</td>\n",
       "      <td>F</td>\n",
       "      <td>N</td>\n",
       "      <td>N</td>\n",
       "      <td>0</td>\n",
       "      <td>135000</td>\n",
       "      <td>436032</td>\n",
       "      <td>...</td>\n",
       "      <td>0,1079</td>\n",
       "      <td>brick</td>\n",
       "      <td>N</td>\n",
       "      <td>-3114.0</td>\n",
       "      <td>0.0</td>\n",
       "      <td>0.0</td>\n",
       "      <td>0.0</td>\n",
       "      <td>0.0</td>\n",
       "      <td>2.0</td>\n",
       "      <td>2.0</td>\n",
       "    </tr>\n",
       "  </tbody>\n",
       "</table>\n",
       "<p>10 rows × 98 columns</p>\n",
       "</div>"
      ],
      "text/plain": [
       "        Unnamed: 0      id  default  contract_type gender flag_vehicle  \\\n",
       "285876      285876  431094        0  personal loan      F            N   \n",
       "187787      187787  317693        0  personal loan      F            N   \n",
       "225974      225974  361739        0  personal loan      F            N   \n",
       "268395      268395  411015        0  personal loan      F            N   \n",
       "208799      208799  342003        0  personal loan      F            N   \n",
       "38558        38558  144655        0  personal loan      M            N   \n",
       "23006        23006  126771        0  personal loan      M            Y   \n",
       "78592        78592  191105        1    credit card      F            Y   \n",
       "24892        24892  128950        1  personal loan      F            N   \n",
       "78422        78422  190915        0  personal loan      F            N   \n",
       "\n",
       "       flag_properties  num_children total_income loan_amount  ... total_area  \\\n",
       "285876               N             0       382500     1575000  ...     0,0743   \n",
       "187787               Y             0        45000      622188  ...        NaN   \n",
       "225974               Y             0        67500      728460  ...     0,0566   \n",
       "268395               Y             0        90000      751842  ...     0,1785   \n",
       "208799               Y             0       135000      522000  ...        NaN   \n",
       "38558                Y             0        90000      397881  ...        NaN   \n",
       "23006                Y             0       194400      640080  ...     0,0686   \n",
       "78592                N             0     117130,5      135000  ...     0,0949   \n",
       "24892                N             2       211500      675000  ...        NaN   \n",
       "78422                N             0       135000      436032  ...     0,1079   \n",
       "\n",
       "       wall_materials emergency_exits age_mobilephone_days  \\\n",
       "285876          brick               N               -820.0   \n",
       "187787            NaN             NaN                  0.0   \n",
       "225974          brick               N               -935.0   \n",
       "268395       concrete               N              -1471.0   \n",
       "208799            NaN             NaN              -1990.0   \n",
       "38558             NaN             NaN               -995.0   \n",
       "23006           brick               N              -1237.0   \n",
       "78592        concrete               N                -32.0   \n",
       "24892             NaN             NaN               -837.0   \n",
       "78422           brick               N              -3114.0   \n",
       "\n",
       "        num_petic_bureau_hour num_petic_bureau_day  num_petic_bureau_week  \\\n",
       "285876                    0.0                  0.0                    1.0   \n",
       "187787                    0.0                  0.0                    1.0   \n",
       "225974                    0.0                  0.0                    0.0   \n",
       "268395                    0.0                  0.0                    0.0   \n",
       "208799                    NaN                  NaN                    NaN   \n",
       "38558                     0.0                  0.0                    0.0   \n",
       "23006                     0.0                  0.0                    0.0   \n",
       "78592                     0.0                  0.0                    0.0   \n",
       "24892                     0.0                  0.0                    0.0   \n",
       "78422                     0.0                  0.0                    0.0   \n",
       "\n",
       "       num_petic_bureau_month  num_petic_bureau_quarter  num_petic_bureau_year  \n",
       "285876                    0.0                       0.0                    1.0  \n",
       "187787                    0.0                       0.0                    2.0  \n",
       "225974                    0.0                       0.0                    0.0  \n",
       "268395                    0.0                       0.0                    1.0  \n",
       "208799                    NaN                       NaN                    NaN  \n",
       "38558                     0.0                       0.0                    0.0  \n",
       "23006                     0.0                       0.0                    2.0  \n",
       "78592                     0.0                       0.0                    0.0  \n",
       "24892                     0.0                       1.0                    2.0  \n",
       "78422                     0.0                       2.0                    2.0  \n",
       "\n",
       "[10 rows x 98 columns]"
      ]
     },
     "execution_count": 46,
     "metadata": {},
     "output_type": "execute_result"
    }
   ],
   "source": [
    "df.sample(10)"
   ]
  },
  {
   "cell_type": "markdown",
   "metadata": {},
   "source": [
    "# Preprocessing and EDA"
   ]
  },
  {
   "cell_type": "markdown",
   "metadata": {},
   "source": [
    "Some numeric variabes have a , as decimal separator, I will find them to change it to . and convert the variables to numeric"
   ]
  },
  {
   "cell_type": "code",
   "execution_count": 47,
   "metadata": {},
   "outputs": [
    {
     "name": "stdout",
     "output_type": "stream",
     "text": [
      "57\n",
      "['total_income', 'loan_amount', 'anual_payment', 'product_amount', 'accompained', 'normalised_pop', 'registry_age', 'occupation', 'external_score_1', 'external_score_2', 'external_score_3', 'num_apart_average', 'area_basement_average', 'age_expl_average', 'age_building_average', 'area_common_average', 'num_lifts_average', 'num_entries_average', 'max_floor_average', 'min_floor_average', 'area_building_average', 'num_apart_habit_average', 'area_habit_average', 'num_apart_nohabit_average', 'area_nohabit_average', 'num_apart_mode', 'area_basement_mode', 'age_expl_mode', 'age_building_mode', 'area_common_mode', 'num_lifts_mode', 'num_entries_mode', 'max_floor_mode', 'min_floor_mode', 'area_building_mode', 'num_apart_habit_mode', 'area_habit_mode', 'num_apart_nohabit_mode', 'area_nohabit_mode', 'num_apart_median', 'area_basement_median', 'age_expl_median', 'age_building_median', 'area_common_median', 'num_lifts_median', 'num_entries_median', 'max_floor_median', 'min_floor_median', 'area_building_median', 'num_apart_habit_median', 'area_habit_median', 'num_apart_nohabit_median', 'area_nohabit_median', 'type_building', 'total_area', 'wall_materials', 'emergency_exits']\n"
     ]
    }
   ],
   "source": [
    "# Find variables with comma (,)\n",
    "cols_with_comma = list()\n",
    "for col in df.select_dtypes('object').columns:\n",
    "    if any(df[col].str.contains(',')):\n",
    "        cols_with_comma.append(col)\n",
    "    else:\n",
    "        pass\n",
    "    \n",
    "print(len(cols_with_comma))\n",
    "print(cols_with_comma)"
   ]
  },
  {
   "cell_type": "code",
   "execution_count": 48,
   "metadata": {},
   "outputs": [],
   "source": [
    "# Check wich ones are really numeric columns\n",
    "#for col in cols_with_comma:\n",
    "#    print(df[col].sample(10))"
   ]
  },
  {
   "cell_type": "code",
   "execution_count": 49,
   "metadata": {},
   "outputs": [],
   "source": [
    "not_numeric_with_comma = ['emergency_exits', 'wall_materials', 'type_building', 'occupation', 'accompained']"
   ]
  },
  {
   "cell_type": "code",
   "execution_count": 50,
   "metadata": {},
   "outputs": [],
   "source": [
    "# Change , by . and convert to numeric\n",
    "for col in [col for col in cols_with_comma if col not in not_numeric_with_comma]:\n",
    "    df[col] = df[col].str.replace(',', '.').astype(float)\n",
    "\n",
    "#df.info()"
   ]
  },
  {
   "cell_type": "markdown",
   "metadata": {},
   "source": [
    "Delete columns that do not have data"
   ]
  },
  {
   "cell_type": "code",
   "execution_count": 51,
   "metadata": {},
   "outputs": [],
   "source": [
    "df.drop(['Unnamed: 0','education', 'residence_type'], axis=1, inplace=True)"
   ]
  },
  {
   "cell_type": "markdown",
   "metadata": {},
   "source": [
    "## Creation of a validation data set\n",
    "\n",
    "just to know if what I am doing improves or not the classification"
   ]
  },
  {
   "cell_type": "code",
   "execution_count": 52,
   "metadata": {},
   "outputs": [
    {
     "name": "stdout",
     "output_type": "stream",
     "text": [
      "(230633, 95) (76878, 95)\n"
     ]
    }
   ],
   "source": [
    "df, val_df, _, _ = train_test_split(df, df['default'], random_state=2022, stratify=df['default'], test_size=0.25)\n",
    "print(df.shape, val_df.shape)"
   ]
  },
  {
   "cell_type": "code",
   "execution_count": 53,
   "metadata": {},
   "outputs": [
    {
     "name": "stdout",
     "output_type": "stream",
     "text": [
      "Prop. positive class training dataset: 8.1%\n",
      "Prop. positive class validation dataset: 8.1%\n"
     ]
    }
   ],
   "source": [
    "print('Prop. positive class training dataset: {}%'.format(round(df['default'].mean(),3)*100))\n",
    "print('Prop. positive class validation dataset: {}%'.format(round(val_df['default'].mean(),3)*100))"
   ]
  },
  {
   "cell_type": "markdown",
   "metadata": {},
   "source": [
    "## Analysis fo missing values"
   ]
  },
  {
   "cell_type": "code",
   "execution_count": 54,
   "metadata": {},
   "outputs": [],
   "source": [
    "#plt.figure(figsize=(16,12))\n",
    "#sns.heatmap(df.sample(100000).isna().transpose(), cmap=\"YlGnBu\", cbar_kws={'label': 'Missing Data'})"
   ]
  },
  {
   "cell_type": "code",
   "execution_count": 55,
   "metadata": {},
   "outputs": [
    {
     "name": "stdout",
     "output_type": "stream",
     "text": [
      "Prop. positive class: 8.1%\n"
     ]
    },
    {
     "data": {
      "image/png": "[encoded data removed]",
      "text/plain": [
       "<Figure size 432x288 with 1 Axes>"
      ]
     },
     "metadata": {
      "needs_background": "light"
     },
     "output_type": "display_data"
    }
   ],
   "source": [
    "sns.distplot(df['default'])\n",
    "print('Prop. positive class: {}%'.format(round(df['default'].mean(),3)*100))"
   ]
  },
  {
   "cell_type": "code",
   "execution_count": 56,
   "metadata": {},
   "outputs": [
    {
     "name": "stdout",
     "output_type": "stream",
     "text": [
      "(6678, 95)\n",
      "Prop. positive class: 6.1%\n"
     ]
    },
    {
     "data": {
      "image/png": "[encoded data removed]",
      "text/plain": [
       "<Figure size 432x288 with 1 Axes>"
      ]
     },
     "metadata": {
      "needs_background": "light"
     },
     "output_type": "display_data"
    }
   ],
   "source": [
    "df_nna = df.dropna()\n",
    "print(df_nna.dropna().shape)\n",
    "sns.distplot(df_nna['default'])\n",
    "print('Prop. positive class: {}%'.format(round(df_nna['default'].mean(),3)*100))"
   ]
  },
  {
   "cell_type": "markdown",
   "metadata": {},
   "source": [
    "When deleting missing values the proportion of the positive class decreases, this means that 1) the missings are not missing at random 2) there are more missing values on the rows of those who default the credit. This brings me the idea of creating a column that accounts for this information"
   ]
  },
  {
   "cell_type": "code",
   "execution_count": 57,
   "metadata": {},
   "outputs": [],
   "source": [
    "# Column for number of missing information (number of columns with na for each row)\n",
    "df['missing_count'] = df.isnull().sum(axis=1)"
   ]
  },
  {
   "cell_type": "code",
   "execution_count": 58,
   "metadata": {},
   "outputs": [
    {
     "data": {
      "text/plain": [
       "<matplotlib.axes._subplots.AxesSubplot at 0x7f6e5a8318b0>"
      ]
     },
     "execution_count": 58,
     "metadata": {},
     "output_type": "execute_result"
    },
    {
     "data": {
      "image/png": "[encoded data removed]",
      "text/plain": [
       "<Figure size 864x576 with 1 Axes>"
      ]
     },
     "metadata": {
      "needs_background": "light"
     },
     "output_type": "display_data"
    }
   ],
   "source": [
    "plt.figure(figsize=(12,8))\n",
    "df.isnull().mean().sort_values(ascending=False)[:40].plot(kind='barh', title='Prop. of missing values')"
   ]
  },
  {
   "cell_type": "code",
   "execution_count": 59,
   "metadata": {},
   "outputs": [
    {
     "data": {
      "text/plain": [
       "<matplotlib.axes._subplots.AxesSubplot at 0x7f6e5a809a00>"
      ]
     },
     "execution_count": 59,
     "metadata": {},
     "output_type": "execute_result"
    },
    {
     "data": {
      "image/png": "[encoded data removed]",
      "text/plain": [
       "<Figure size 864x576 with 1 Axes>"
      ]
     },
     "metadata": {
      "needs_background": "light"
     },
     "output_type": "display_data"
    }
   ],
   "source": [
    "plt.figure(figsize=(12,8))\n",
    "df.isnull().mean().sort_values(ascending=False)[-40:].plot(kind='barh', title='Prop. of missing values')"
   ]
  },
  {
   "cell_type": "markdown",
   "metadata": {},
   "source": [
    "Correlation plots:"
   ]
  },
  {
   "cell_type": "code",
   "execution_count": 60,
   "metadata": {},
   "outputs": [
    {
     "data": {
      "text/plain": [
       "<matplotlib.axes._subplots.AxesSubplot at 0x7f6e5aa88250>"
      ]
     },
     "execution_count": 60,
     "metadata": {},
     "output_type": "execute_result"
    },
    {
     "data": {
      "image/png": "[encoded data removed]",
      "text/plain": [
       "<Figure size 1152x360 with 1 Axes>"
      ]
     },
     "metadata": {
      "needs_background": "light"
     },
     "output_type": "display_data"
    }
   ],
   "source": [
    "plt.figure(figsize=(16,5))\n",
    "df_nna.corr()['default'].sort_values(ascending=False)[1:21].plot(kind='barh', title='Corr with Target (positive)')"
   ]
  },
  {
   "cell_type": "code",
   "execution_count": 61,
   "metadata": {},
   "outputs": [
    {
     "data": {
      "text/plain": [
       "<matplotlib.axes._subplots.AxesSubplot at 0x7f6e5a8d86d0>"
      ]
     },
     "execution_count": 61,
     "metadata": {},
     "output_type": "execute_result"
    },
    {
     "data": {
      "image/png": "[encoded data removed]",
      "text/plain": [
       "<Figure size 1152x360 with 1 Axes>"
      ]
     },
     "metadata": {
      "needs_background": "light"
     },
     "output_type": "display_data"
    }
   ],
   "source": [
    "plt.figure(figsize=(16,5))\n",
    "df_nna.corr()['default'].sort_values(ascending=False)[-21:].plot(kind='barh', title='Corr with Target (positive)')"
   ]
  },
  {
   "cell_type": "markdown",
   "metadata": {},
   "source": [
    "***What are the most important features in the dataframe with no missing data?***\n",
    "\n"
   ]
  },
  {
   "cell_type": "code",
   "execution_count": 62,
   "metadata": {},
   "outputs": [],
   "source": [
    "y_nna = df_nna['default']\n",
    "X_nna = df_nna.drop(['default'], axis=1)\n",
    "\n",
    "X_nna = pd.get_dummies(X_nna)"
   ]
  },
  {
   "cell_type": "code",
   "execution_count": 63,
   "metadata": {},
   "outputs": [
    {
     "data": {
      "text/html": [
       "<style>#sk-container-id-2 {color: black;background-color: white;}#sk-container-id-2 pre{padding: 0;}#sk-container-id-2 div.sk-toggleable {background-color: white;}#sk-container-id-2 label.sk-toggleable__label {cursor: pointer;display: block;width: 100%;margin-bottom: 0;padding: 0.3em;box-sizing: border-box;text-align: center;}#sk-container-id-2 label.sk-toggleable__label-arrow:before {content: \"▸\";float: left;margin-right: 0.25em;color: #696969;}#sk-container-id-2 label.sk-toggleable__label-arrow:hover:before {color: black;}#sk-container-id-2 div.sk-estimator:hover label.sk-toggleable__label-arrow:before {color: black;}#sk-container-id-2 div.sk-toggleable__content {max-height: 0;max-width: 0;overflow: hidden;text-align: left;background-color: #f0f8ff;}#sk-container-id-2 div.sk-toggleable__content pre {margin: 0.2em;color: black;border-radius: 0.25em;background-color: #f0f8ff;}#sk-container-id-2 input.sk-toggleable__control:checked~div.sk-toggleable__content {max-height: 200px;max-width: 100%;overflow: auto;}#sk-container-id-2 input.sk-toggleable__control:checked~label.sk-toggleable__label-arrow:before {content: \"▾\";}#sk-container-id-2 div.sk-estimator input.sk-toggleable__control:checked~label.sk-toggleable__label {background-color: #d4ebff;}#sk-container-id-2 div.sk-label input.sk-toggleable__control:checked~label.sk-toggleable__label {background-color: #d4ebff;}#sk-container-id-2 input.sk-hidden--visually {border: 0;clip: rect(1px 1px 1px 1px);clip: rect(1px, 1px, 1px, 1px);height: 1px;margin: -1px;overflow: hidden;padding: 0;position: absolute;width: 1px;}#sk-container-id-2 div.sk-estimator {font-family: monospace;background-color: #f0f8ff;border: 1px dotted black;border-radius: 0.25em;box-sizing: border-box;margin-bottom: 0.5em;}#sk-container-id-2 div.sk-estimator:hover {background-color: #d4ebff;}#sk-container-id-2 div.sk-parallel-item::after {content: \"\";width: 100%;border-bottom: 1px solid gray;flex-grow: 1;}#sk-container-id-2 div.sk-label:hover label.sk-toggleable__label {background-color: #d4ebff;}#sk-container-id-2 div.sk-serial::before {content: \"\";position: absolute;border-left: 1px solid gray;box-sizing: border-box;top: 0;bottom: 0;left: 50%;z-index: 0;}#sk-container-id-2 div.sk-serial {display: flex;flex-direction: column;align-items: center;background-color: white;padding-right: 0.2em;padding-left: 0.2em;position: relative;}#sk-container-id-2 div.sk-item {position: relative;z-index: 1;}#sk-container-id-2 div.sk-parallel {display: flex;align-items: stretch;justify-content: center;background-color: white;position: relative;}#sk-container-id-2 div.sk-item::before, #sk-container-id-2 div.sk-parallel-item::before {content: \"\";position: absolute;border-left: 1px solid gray;box-sizing: border-box;top: 0;bottom: 0;left: 50%;z-index: -1;}#sk-container-id-2 div.sk-parallel-item {display: flex;flex-direction: column;z-index: 1;position: relative;background-color: white;}#sk-container-id-2 div.sk-parallel-item:first-child::after {align-self: flex-end;width: 50%;}#sk-container-id-2 div.sk-parallel-item:last-child::after {align-self: flex-start;width: 50%;}#sk-container-id-2 div.sk-parallel-item:only-child::after {width: 0;}#sk-container-id-2 div.sk-dashed-wrapped {border: 1px dashed gray;margin: 0 0.4em 0.5em 0.4em;box-sizing: border-box;padding-bottom: 0.4em;background-color: white;}#sk-container-id-2 div.sk-label label {font-family: monospace;font-weight: bold;display: inline-block;line-height: 1.2em;}#sk-container-id-2 div.sk-label-container {text-align: center;}#sk-container-id-2 div.sk-container {/* jupyter's `normalize.less` sets `[hidden] { display: none; }` but bootstrap.min.css set `[hidden] { display: none !important; }` so we also need the `!important` here to be able to override the default hidden behavior on the sphinx rendered scikit-learn.org. See: https://github.com/scikit-learn/scikit-learn/issues/21755 */display: inline-block !important;position: relative;}#sk-container-id-2 div.sk-text-repr-fallback {display: none;}</style><div id=\"sk-container-id-2\" class=\"sk-top-container\"><div class=\"sk-text-repr-fallback\"><pre>LogisticRegression(C=0.1, class_weight=&#x27;balanced&#x27;, max_iter=1000, penalty=&#x27;l1&#x27;,\n",
       "                   random_state=2022, solver=&#x27;liblinear&#x27;)</pre><b>In a Jupyter environment, please rerun this cell to show the HTML representation or trust the notebook. <br />On GitHub, the HTML representation is unable to render, please try loading this page with nbviewer.org.</b></div><div class=\"sk-container\" hidden><div class=\"sk-item\"><div class=\"sk-estimator sk-toggleable\"><input class=\"sk-toggleable__control sk-hidden--visually\" id=\"sk-estimator-id-2\" type=\"checkbox\" checked><label for=\"sk-estimator-id-2\" class=\"sk-toggleable__label sk-toggleable__label-arrow\">LogisticRegression</label><div class=\"sk-toggleable__content\"><pre>LogisticRegression(C=0.1, class_weight=&#x27;balanced&#x27;, max_iter=1000, penalty=&#x27;l1&#x27;,\n",
       "                   random_state=2022, solver=&#x27;liblinear&#x27;)</pre></div></div></div></div></div>"
      ],
      "text/plain": [
       "LogisticRegression(C=0.1, class_weight='balanced', max_iter=1000, penalty='l1',\n",
       "                   random_state=2022, solver='liblinear')"
      ]
     },
     "execution_count": 63,
     "metadata": {},
     "output_type": "execute_result"
    }
   ],
   "source": [
    "# Simple Logit for feature importance\n",
    "scaler = StandardScaler()\n",
    "\n",
    "X_nna_s = scaler.fit_transform(X_nna)\n",
    "\n",
    "lr_feat_impor = LogisticRegression(C=0.1, penalty='l1', max_iter = 1000, solver='liblinear', class_weight='balanced', random_state=2022)\n",
    "lr_feat_impor.fit(X_nna_s, y_nna)"
   ]
  },
  {
   "cell_type": "code",
   "execution_count": 64,
   "metadata": {},
   "outputs": [
    {
     "data": {
      "text/plain": [
       "<matplotlib.axes._subplots.AxesSubplot at 0x7f6e5a8318e0>"
      ]
     },
     "execution_count": 64,
     "metadata": {},
     "output_type": "execute_result"
    },
    {
     "data": {
      "image/png": "[encoded data removed]",
      "text/plain": [
       "<Figure size 864x576 with 1 Axes>"
      ]
     },
     "metadata": {
      "needs_background": "light"
     },
     "output_type": "display_data"
    }
   ],
   "source": [
    "# Plot of feature importance\n",
    "plt.figure(figsize=(12,8))\n",
    "lr_feat_impor_s = pd.Series(data=lr_feat_impor.coef_.reshape(-1), index=X_nna.columns).abs()\n",
    "lr_feat_impor_s.sort_values(ascending=False)[:30].plot(kind='barh', \n",
    "                                                       title='Top 30 colums according to Logistic Regression')\n"
   ]
  },
  {
   "cell_type": "code",
   "execution_count": 65,
   "metadata": {},
   "outputs": [
    {
     "data": {
      "text/plain": [
       "<matplotlib.axes._subplots.AxesSubplot at 0x7f6e54261460>"
      ]
     },
     "execution_count": 65,
     "metadata": {},
     "output_type": "execute_result"
    },
    {
     "data": {
      "image/png": "[encoded data removed]",
      "text/plain": [
       "<Figure size 864x576 with 1 Axes>"
      ]
     },
     "metadata": {
      "needs_background": "light"
     },
     "output_type": "display_data"
    }
   ],
   "source": [
    "# Simple decision tree for feature importance\n",
    "dt_feat_impor = DecisionTreeClassifier(class_weight='balanced', random_state=2022)\n",
    "dt_feat_impor.fit(X_nna_s, y_nna)\n",
    "\n",
    "plt.figure(figsize=(12,8))\n",
    "dt_feat_impor_s = pd.Series(data=dt_feat_impor.feature_importances_, index=X_nna.columns).abs()\n",
    "dt_feat_impor_s.sort_values(ascending=False)[:30].plot(kind='barh', title='Top 30 colums according to Logistic Regression')"
   ]
  },
  {
   "cell_type": "markdown",
   "metadata": {},
   "source": [
    "Here, rather that asses the feature importance, I want to know what columns are not important and delete those that have many missing values."
   ]
  },
  {
   "cell_type": "code",
   "execution_count": 66,
   "metadata": {},
   "outputs": [],
   "source": [
    "# Feature importance lr\n",
    "lr_feat_impor_df = lr_feat_impor_s.to_frame().reset_index()\n",
    "lr_feat_impor_df.columns = ['Colname', 'LR_Importance']\n",
    "\n",
    "# Feature imporntance DT\n",
    "dt_feat_impor_df = dt_feat_impor_s.to_frame().reset_index()\n",
    "dt_feat_impor_df.columns = ['Colname', 'DT_Importance']\n",
    "\n",
    "# Prop of missing values\n",
    "mv_df = df.isnull().mean().to_frame().reset_index()\n",
    "mv_df.columns = ['Colname', 'Prop_missing']\n",
    "\n",
    "# Correlation with the target variable\n",
    "corr_df = df.corr()['default'].abs().to_frame().reset_index()\n",
    "corr_df.columns = ['Colname', 'Corr_Importance']\n",
    "\n",
    "# One dataframe with al the info\n",
    "missing_a = lr_feat_impor_df.merge(dt_feat_impor_df, on='Colname')\n",
    "missing_a = missing_a.merge(mv_df, on='Colname')\n",
    "missing_a = missing_a.merge(corr_df, on='Colname')\n",
    "\n",
    "missing_a.set_index('Colname', inplace=True)\n",
    "missing_a.sort_values(by='Prop_missing', ascending=True,inplace=True)\n",
    "#missing_a"
   ]
  },
  {
   "cell_type": "code",
   "execution_count": 67,
   "metadata": {},
   "outputs": [
    {
     "data": {
      "text/plain": [
       "<matplotlib.axes._subplots.AxesSubplot at 0x7f6e5a440c70>"
      ]
     },
     "execution_count": 67,
     "metadata": {},
     "output_type": "execute_result"
    },
    {
     "data": {
      "image/png": "[encoded data removed]",
      "text/plain": [
       "<Figure size 1008x1728 with 1 Axes>"
      ]
     },
     "metadata": {
      "needs_background": "light"
     },
     "output_type": "display_data"
    }
   ],
   "source": [
    "missing_a.plot(kind='barh', \n",
    "               figsize=(14,24), \n",
    "               title='Feature importance (LR, DT and corr) vs. Proportion of missing values [numeric columns]')"
   ]
  },
  {
   "cell_type": "markdown",
   "metadata": {},
   "source": [
    "Given the plot above, some columns with a high amount of missing values have low explanatory power or importance. I will delete those columns but keep the information that there were missing values on those variables.\n",
    "\n",
    "Dummies for missing values for each variable with missing data:"
   ]
  },
  {
   "cell_type": "code",
   "execution_count": 68,
   "metadata": {},
   "outputs": [
    {
     "name": "stdout",
     "output_type": "stream",
     "text": [
      "['anual_payment', 'product_amount', 'accompained', 'vehicle_age', 'occupation', 'family_num', 'external_score_1', 'external_score_2', 'external_score_3', 'num_apart_median', 'area_basement_median', 'age_expl_median', 'age_building_median', 'area_common_median', 'num_lifts_median', 'num_entries_median', 'max_floor_median', 'min_floor_median', 'area_building_median', 'num_apart_habit_median', 'area_habit_median', 'num_apart_nohabit_median', 'area_nohabit_median', 'type_building', 'total_area', 'wall_materials', 'emergency_exits', 'num_petic_bureau_hour']\n"
     ]
    }
   ],
   "source": [
    "cols_wmissings = list(mv_df.query(\"Prop_missing>0\")['Colname']) # Cols with missing values\n",
    "num_petic_vars = [col for col in cols_wmissings if col.startswith('num_petic_')] # Cols from petic-bureau\n",
    "\n",
    "# Cols to create dummies that indicate if there is data or not in that variable\n",
    "cols_to_dummy_missing = [col for col in cols_wmissings if col.endswith(('mode', 'average'))==False]\n",
    "cols_to_dummy_missing = [col for col in cols_to_dummy_missing if col not in num_petic_vars[1:]]\n",
    "\n",
    "print(cols_to_dummy_missing)\n",
    "\n",
    "# New columns\n",
    "for col in cols_to_dummy_missing:\n",
    "    df[col+'_NA'] = df[col].isna().astype(int)"
   ]
  },
  {
   "cell_type": "markdown",
   "metadata": {},
   "source": [
    "Delete columns with low importance given the analysis above:"
   ]
  },
  {
   "cell_type": "code",
   "execution_count": 69,
   "metadata": {},
   "outputs": [
    {
     "name": "stdout",
     "output_type": "stream",
     "text": [
      "37\n",
      "['num_apart_nohabit_mode', 'vehicle_age', 'area_common_median', 'area_basement_mode', 'num_lifts_median', 'area_nohabit_average', 'area_habit_median', 'area_building_mode', 'age_building_average', 'age_building_mode', 'age_building_median', 'min_floor_mode', 'min_floor_median', 'total_area', 'min_floor_average', 'num_apart_habit_median', 'num_apart_habit_average', 'num_apart_nohabit_average', 'num_apart_nohabit_median', 'area_common_mode', 'num_apart_habit_mode', 'area_building_median', 'area_building_average', 'age_expl_median', 'area_basement_average', 'area_basement_median', 'area_nohabit_median', 'area_nohabit_mode', 'num_lifts_average', 'num_apart_mode', 'num_apart_median', 'num_entries_average', 'area_habit_average', 'max_floor_median', 'max_floor_average', 'age_expl_mode', 'area_common_average']\n"
     ]
    }
   ],
   "source": [
    "# Look the criteria to delete the columns: more that a 40% of missing and importance lower that 0.1 in the graphs above\n",
    "to_detele_cols = missing_a.query(\"Prop_missing>0.4 & LR_Importance<0.1 & DT_Importance<0.1 & Corr_Importance<0.1\").sort_values(by='LR_Importance', ascending=False).index.to_list()\n",
    "\n",
    "print(len(to_detele_cols))\n",
    "print(to_detele_cols)\n",
    "df.drop(to_detele_cols, axis=1, inplace=True)"
   ]
  },
  {
   "cell_type": "markdown",
   "metadata": {},
   "source": [
    "Fill missing with cero because probabily those varables are for people has that the asset, for example house with a basement"
   ]
  },
  {
   "cell_type": "code",
   "execution_count": 70,
   "metadata": {},
   "outputs": [],
   "source": [
    "fill_with_0 = ['num_lifts_mode', 'num_apart_average', 'num_entries_median', 'num_entries_mode','area_habit_mode', 'max_floor_mode', 'emergency_exits']\n",
    "df[fill_with_0]= df[fill_with_0].fillna(0)"
   ]
  },
  {
   "cell_type": "markdown",
   "metadata": {},
   "source": [
    "Filling with kind: 'unknowing'"
   ]
  },
  {
   "cell_type": "code",
   "execution_count": 71,
   "metadata": {},
   "outputs": [],
   "source": [
    "fill_with_unknow = ['wall_materials', 'occupation', 'type_building']\n",
    "df[fill_with_unknow] = df[fill_with_unknow].fillna('fill_with_unknow')"
   ]
  },
  {
   "cell_type": "markdown",
   "metadata": {},
   "source": [
    "Other in accompained to fill missing values"
   ]
  },
  {
   "cell_type": "code",
   "execution_count": 72,
   "metadata": {},
   "outputs": [],
   "source": [
    "df['accompained'] = df['accompained'].replace(to_replace=['other_2', 'other_1', 'group', np.nan], value='other')"
   ]
  },
  {
   "cell_type": "markdown",
   "metadata": {},
   "source": [
    "Fill missing values in the scores"
   ]
  },
  {
   "cell_type": "code",
   "execution_count": 73,
   "metadata": {},
   "outputs": [
    {
     "name": "stdout",
     "output_type": "stream",
     "text": [
      "                                 OLS Regression Results                                \n",
      "=======================================================================================\n",
      "Dep. Variable:       external_score_1   R-squared (uncentered):                   0.909\n",
      "Model:                            OLS   Adj. R-squared (uncentered):              0.909\n",
      "Method:                 Least Squares   F-statistic:                          2.727e+05\n",
      "Date:                Wed, 24 Aug 2022   Prob (F-statistic):                        0.00\n",
      "Time:                        08:36:39   Log-Likelihood:                          30955.\n",
      "No. Observations:               82123   AIC:                                 -6.190e+04\n",
      "Df Residuals:                   82120   BIC:                                 -6.188e+04\n",
      "Df Model:                           3                                                  \n",
      "Covariance Type:            nonrobust                                                  \n",
      "====================================================================================\n",
      "                       coef    std err          t      P>|t|      [0.025      0.975]\n",
      "------------------------------------------------------------------------------------\n",
      "external_score_2     0.1190      0.003     41.805      0.000       0.113       0.125\n",
      "external_score_3     0.0504      0.003     17.545      0.000       0.045       0.056\n",
      "age                 -0.0103   4.22e-05   -242.932      0.000      -0.010      -0.010\n",
      "==============================================================================\n",
      "Omnibus:                      487.199   Durbin-Watson:                   1.997\n",
      "Prob(Omnibus):                  0.000   Jarque-Bera (JB):              369.806\n",
      "Skew:                          -0.071   Prob(JB):                     4.98e-81\n",
      "Kurtosis:                       2.703   Cond. No.                         240.\n",
      "==============================================================================\n",
      "\n",
      "Notes:\n",
      "[1] R² is computed without centering (uncentered) since the model does not contain a constant.\n",
      "[2] Standard Errors assume that the covariance matrix of the errors is correctly specified.\n"
     ]
    }
   ],
   "source": [
    "import statsmodels.api as sm\n",
    "\n",
    "df_fill_scores = df[['external_score_1', 'external_score_2',  'external_score_3', 'age']].dropna()\n",
    "df_fill_scores['age'] = df_fill_scores['age'] / 360\n",
    "\n",
    "y = df_fill_scores['external_score_1']\n",
    "X = df_fill_scores.drop('external_score_1',axis=1)\n",
    "\n",
    "model = sm.OLS(y, X).fit()\n",
    "print(model.summary())"
   ]
  },
  {
   "cell_type": "code",
   "execution_count": 74,
   "metadata": {},
   "outputs": [
    {
     "name": "stdout",
     "output_type": "stream",
     "text": [
      "                                 OLS Regression Results                                \n",
      "=======================================================================================\n",
      "Dep. Variable:       external_score_2   R-squared (uncentered):                   0.871\n",
      "Model:                            OLS   Adj. R-squared (uncentered):              0.871\n",
      "Method:                 Least Squares   F-statistic:                          1.843e+05\n",
      "Date:                Wed, 24 Aug 2022   Prob (F-statistic):                        0.00\n",
      "Time:                        08:36:39   Log-Likelihood:                          15093.\n",
      "No. Observations:               82123   AIC:                                 -3.018e+04\n",
      "Df Residuals:                   82120   BIC:                                 -3.015e+04\n",
      "Df Model:                           3                                                  \n",
      "Covariance Type:            nonrobust                                                  \n",
      "====================================================================================\n",
      "                       coef    std err          t      P>|t|      [0.025      0.975]\n",
      "------------------------------------------------------------------------------------\n",
      "external_score_1     0.1751      0.004     41.805      0.000       0.167       0.183\n",
      "external_score_3     0.2893      0.003     86.634      0.000       0.283       0.296\n",
      "age                 -0.0067    6.3e-05   -106.051      0.000      -0.007      -0.007\n",
      "==============================================================================\n",
      "Omnibus:                     4474.576   Durbin-Watson:                   1.974\n",
      "Prob(Omnibus):                  0.000   Jarque-Bera (JB):             5238.249\n",
      "Skew:                          -0.612   Prob(JB):                         0.00\n",
      "Kurtosis:                       3.174   Cond. No.                         256.\n",
      "==============================================================================\n",
      "\n",
      "Notes:\n",
      "[1] R² is computed without centering (uncentered) since the model does not contain a constant.\n",
      "[2] Standard Errors assume that the covariance matrix of the errors is correctly specified.\n"
     ]
    }
   ],
   "source": [
    "y = df_fill_scores['external_score_2']\n",
    "X = df_fill_scores.drop('external_score_2',axis=1)\n",
    "\n",
    "model = sm.OLS(y, X).fit()\n",
    "print(model.summary())"
   ]
  },
  {
   "cell_type": "code",
   "execution_count": 75,
   "metadata": {},
   "outputs": [
    {
     "name": "stdout",
     "output_type": "stream",
     "text": [
      "                                 OLS Regression Results                                \n",
      "=======================================================================================\n",
      "Dep. Variable:       external_score_3   R-squared (uncentered):                   0.857\n",
      "Model:                            OLS   Adj. R-squared (uncentered):              0.857\n",
      "Method:                 Least Squares   F-statistic:                          1.647e+05\n",
      "Date:                Wed, 24 Aug 2022   Prob (F-statistic):                        0.00\n",
      "Time:                        08:36:39   Log-Likelihood:                          15070.\n",
      "No. Observations:               82123   AIC:                                 -3.013e+04\n",
      "Df Residuals:                   82120   BIC:                                 -3.011e+04\n",
      "Df Model:                           3                                                  \n",
      "Covariance Type:            nonrobust                                                  \n",
      "====================================================================================\n",
      "                       coef    std err          t      P>|t|      [0.025      0.975]\n",
      "------------------------------------------------------------------------------------\n",
      "external_score_1     0.0742      0.004     17.545      0.000       0.066       0.082\n",
      "external_score_2     0.2895      0.003     86.634      0.000       0.283       0.296\n",
      "age                 -0.0071   6.25e-05   -113.218      0.000      -0.007      -0.007\n",
      "==============================================================================\n",
      "Omnibus:                     1627.369   Durbin-Watson:                   1.978\n",
      "Prob(Omnibus):                  0.000   Jarque-Bera (JB):             1400.433\n",
      "Skew:                          -0.260   Prob(JB):                    7.94e-305\n",
      "Kurtosis:                       2.626   Cond. No.                         262.\n",
      "==============================================================================\n",
      "\n",
      "Notes:\n",
      "[1] R² is computed without centering (uncentered) since the model does not contain a constant.\n",
      "[2] Standard Errors assume that the covariance matrix of the errors is correctly specified.\n"
     ]
    }
   ],
   "source": [
    "y = df_fill_scores['external_score_3']\n",
    "X = df_fill_scores.drop('external_score_3',axis=1)\n",
    "\n",
    "model = sm.OLS(y, X).fit()\n",
    "print(model.summary())"
   ]
  },
  {
   "cell_type": "markdown",
   "metadata": {},
   "source": [
    "With the outputs from above I know that there is a statistical relationship amonth the three scores and the age and with this information I will fill the missing values for each of the scores"
   ]
  },
  {
   "cell_type": "code",
   "execution_count": 76,
   "metadata": {},
   "outputs": [
    {
     "name": "stdout",
     "output_type": "stream",
     "text": [
      "Iter: 0 46032 46032 46032\n",
      "Iter: 1 46032 46032 46032\n",
      "Iter: 2 46032 46032 46032\n",
      "Iter: 3 46032 46032 46032\n",
      "Iter: 4 46032 46032 46032\n"
     ]
    }
   ],
   "source": [
    "# Fill the missing values\n",
    "\n",
    "\n",
    "for iter_ in range(5):\n",
    "    df['external_score_1'] = 0.1190 * df['external_score_2'] + 0.0504 * df['external_score_3'] - 0.0103 * df['age']/360\n",
    "    df['external_score_2'] = 0.1751 * df['external_score_1'] + 0.2893 * df['external_score_3'] - 0.0067 * df['age']/360\n",
    "    df['external_score_3'] = 0.0742 * df['external_score_1'] + 0.2895 * df['external_score_2'] - 0.0071 * df['age']/360\n",
    "\n",
    "    print('Iter:', iter_, df['external_score_1'].isnull().value_counts().loc[True], \n",
    "          df['external_score_2'].isnull().value_counts().loc[True],\n",
    "          df['external_score_3'].isnull().value_counts().loc[True])\n"
   ]
  },
  {
   "cell_type": "code",
   "execution_count": 77,
   "metadata": {},
   "outputs": [],
   "source": [
    "# Column to take into consideration this\n",
    "df['no_external_score'] = np.where(df['external_score_1'].isna(), 1, 0)"
   ]
  },
  {
   "cell_type": "markdown",
   "metadata": {},
   "source": [
    "Fill the rest of values with the average by some variables "
   ]
  },
  {
   "cell_type": "code",
   "execution_count": 78,
   "metadata": {},
   "outputs": [
    {
     "data": {
      "text/html": [
       "<div>\n",
       "<style scoped>\n",
       "    .dataframe tbody tr th:only-of-type {\n",
       "        vertical-align: middle;\n",
       "    }\n",
       "\n",
       "    .dataframe tbody tr th {\n",
       "        vertical-align: top;\n",
       "    }\n",
       "\n",
       "    .dataframe thead th {\n",
       "        text-align: right;\n",
       "    }\n",
       "</style>\n",
       "<table border=\"1\" class=\"dataframe\">\n",
       "  <thead>\n",
       "    <tr style=\"text-align: right;\">\n",
       "      <th></th>\n",
       "      <th>age</th>\n",
       "      <th>id_age</th>\n",
       "      <th>work_age</th>\n",
       "      <th>registry_age</th>\n",
       "    </tr>\n",
       "  </thead>\n",
       "  <tbody>\n",
       "    <tr>\n",
       "      <th>age</th>\n",
       "      <td>1.000000</td>\n",
       "      <td>0.272922</td>\n",
       "      <td>-0.616138</td>\n",
       "      <td>0.331667</td>\n",
       "    </tr>\n",
       "    <tr>\n",
       "      <th>id_age</th>\n",
       "      <td>0.272922</td>\n",
       "      <td>1.000000</td>\n",
       "      <td>-0.272776</td>\n",
       "      <td>0.103472</td>\n",
       "    </tr>\n",
       "    <tr>\n",
       "      <th>work_age</th>\n",
       "      <td>-0.616138</td>\n",
       "      <td>-0.272776</td>\n",
       "      <td>1.000000</td>\n",
       "      <td>-0.210521</td>\n",
       "    </tr>\n",
       "    <tr>\n",
       "      <th>registry_age</th>\n",
       "      <td>0.331667</td>\n",
       "      <td>0.103472</td>\n",
       "      <td>-0.210521</td>\n",
       "      <td>1.000000</td>\n",
       "    </tr>\n",
       "  </tbody>\n",
       "</table>\n",
       "</div>"
      ],
      "text/plain": [
       "                   age    id_age  work_age  registry_age\n",
       "age           1.000000  0.272922 -0.616138      0.331667\n",
       "id_age        0.272922  1.000000 -0.272776      0.103472\n",
       "work_age     -0.616138 -0.272776  1.000000     -0.210521\n",
       "registry_age  0.331667  0.103472 -0.210521      1.000000"
      ]
     },
     "execution_count": 78,
     "metadata": {},
     "output_type": "execute_result"
    }
   ],
   "source": [
    "# Issues with the age\n",
    "df[['age', 'id_age', 'work_age', 'registry_age']].corr()"
   ]
  },
  {
   "cell_type": "markdown",
   "metadata": {},
   "source": [
    "High negative correlation of ´age´ with ´work_age´ wich gives us the idea that age has a negative sing. Besides the max value of age in years is around -20 years."
   ]
  },
  {
   "cell_type": "code",
   "execution_count": 79,
   "metadata": {},
   "outputs": [],
   "source": [
    "# Create age in years and group of age\n",
    "df['age'] = (df['age'] / 365) * -1\n",
    "df['age_group'] = pd.cut(df['age'], \n",
    "                         bins = [0, 25, 35, 45, 60, df['age'].max()+1],\n",
    "                         labels = ['<25', '25-34', '35-44', '45-59', '60>'])"
   ]
  },
  {
   "cell_type": "code",
   "execution_count": 80,
   "metadata": {},
   "outputs": [],
   "source": [
    "df_ = df.copy()\n",
    "#df = df_.copy()"
   ]
  },
  {
   "cell_type": "code",
   "execution_count": 81,
   "metadata": {},
   "outputs": [],
   "source": [
    "fill_with_group_avg = ['age_expl_average', 'external_score_1', 'external_score_2', 'external_score_3', 'num_petic_bureau_hour',\n",
    "                      'num_petic_bureau_year', 'num_petic_bureau_quarter', 'num_petic_bureau_month', 'num_petic_bureau_week', 'num_petic_bureau_day',\n",
    "                       'product_amount', 'anual_payment', 'age_mobilephone_days', 'family_num']"
   ]
  },
  {
   "cell_type": "code",
   "execution_count": 82,
   "metadata": {},
   "outputs": [],
   "source": [
    "group = ['gender', 'age_group', 'marital_status']\n",
    "\n",
    "for col in fill_with_group_avg:\n",
    "    df[col] = df[col].fillna(df.groupby(group)[col].transform('mean'))\n",
    "    \n",
    "    # The rest with the global mean\n",
    "    df[col] = df[col].fillna(df[col].mean())"
   ]
  },
  {
   "cell_type": "code",
   "execution_count": 83,
   "metadata": {},
   "outputs": [
    {
     "data": {
      "text/plain": [
       "False"
      ]
     },
     "execution_count": 83,
     "metadata": {},
     "output_type": "execute_result"
    }
   ],
   "source": [
    "any(df.isnull().sum()>0)"
   ]
  },
  {
   "cell_type": "markdown",
   "metadata": {},
   "source": [
    "Finally, no missing data!\n",
    "\n",
    "\n",
    "Now I do the same in the validation dataset using the function from the preprocessing.py file"
   ]
  },
  {
   "cell_type": "code",
   "execution_count": 90,
   "metadata": {},
   "outputs": [
    {
     "name": "stdout",
     "output_type": "stream",
     "text": [
      "False\n",
      "(76878, 89)\n",
      "(230633, 89)\n"
     ]
    }
   ],
   "source": [
    "val_df = missings_preprocessing(val_df, df_) # ussing the training dataframe before filling nas\n",
    "print(any(val_df.isnull().sum()>0))\n",
    "print(val_df.shape)\n",
    "print(df.shape)"
   ]
  },
  {
   "cell_type": "markdown",
   "metadata": {},
   "source": [
    "## More on feature engineering and preprocessing"
   ]
  },
  {
   "cell_type": "code",
   "execution_count": 91,
   "metadata": {},
   "outputs": [
    {
     "data": {
      "text/html": [
       "<div>\n",
       "<style scoped>\n",
       "    .dataframe tbody tr th:only-of-type {\n",
       "        vertical-align: middle;\n",
       "    }\n",
       "\n",
       "    .dataframe tbody tr th {\n",
       "        vertical-align: top;\n",
       "    }\n",
       "\n",
       "    .dataframe thead th {\n",
       "        text-align: right;\n",
       "    }\n",
       "</style>\n",
       "<table border=\"1\" class=\"dataframe\">\n",
       "  <thead>\n",
       "    <tr style=\"text-align: right;\">\n",
       "      <th></th>\n",
       "      <th>id</th>\n",
       "      <th>default</th>\n",
       "      <th>num_children</th>\n",
       "      <th>total_income</th>\n",
       "      <th>loan_amount</th>\n",
       "      <th>anual_payment</th>\n",
       "      <th>product_amount</th>\n",
       "      <th>normalised_pop</th>\n",
       "      <th>age</th>\n",
       "      <th>work_age</th>\n",
       "      <th>...</th>\n",
       "      <th>num_apart_habit_median_NA</th>\n",
       "      <th>area_habit_median_NA</th>\n",
       "      <th>num_apart_nohabit_median_NA</th>\n",
       "      <th>area_nohabit_median_NA</th>\n",
       "      <th>type_building_NA</th>\n",
       "      <th>total_area_NA</th>\n",
       "      <th>wall_materials_NA</th>\n",
       "      <th>emergency_exits_NA</th>\n",
       "      <th>num_petic_bureau_hour_NA</th>\n",
       "      <th>no_external_score</th>\n",
       "    </tr>\n",
       "  </thead>\n",
       "  <tbody>\n",
       "    <tr>\n",
       "      <th>count</th>\n",
       "      <td>230633.000000</td>\n",
       "      <td>230633.000000</td>\n",
       "      <td>230633.000000</td>\n",
       "      <td>2.306330e+05</td>\n",
       "      <td>2.306330e+05</td>\n",
       "      <td>230633.000000</td>\n",
       "      <td>2.306330e+05</td>\n",
       "      <td>230633.000000</td>\n",
       "      <td>230633.000000</td>\n",
       "      <td>230633.000000</td>\n",
       "      <td>...</td>\n",
       "      <td>230633.000000</td>\n",
       "      <td>230633.000000</td>\n",
       "      <td>230633.000000</td>\n",
       "      <td>230633.000000</td>\n",
       "      <td>230633.000000</td>\n",
       "      <td>230633.000000</td>\n",
       "      <td>230633.000000</td>\n",
       "      <td>230633.000000</td>\n",
       "      <td>230633.000000</td>\n",
       "      <td>230633.000000</td>\n",
       "    </tr>\n",
       "    <tr>\n",
       "      <th>mean</th>\n",
       "      <td>278093.914418</td>\n",
       "      <td>0.080730</td>\n",
       "      <td>0.418604</td>\n",
       "      <td>1.688828e+05</td>\n",
       "      <td>5.989798e+05</td>\n",
       "      <td>27100.607523</td>\n",
       "      <td>5.382761e+05</td>\n",
       "      <td>0.020870</td>\n",
       "      <td>43.924744</td>\n",
       "      <td>63805.540478</td>\n",
       "      <td>...</td>\n",
       "      <td>0.683913</td>\n",
       "      <td>0.501515</td>\n",
       "      <td>0.694601</td>\n",
       "      <td>0.551569</td>\n",
       "      <td>0.501684</td>\n",
       "      <td>0.482598</td>\n",
       "      <td>0.508193</td>\n",
       "      <td>0.473774</td>\n",
       "      <td>0.135284</td>\n",
       "      <td>0.199590</td>\n",
       "    </tr>\n",
       "    <tr>\n",
       "      <th>std</th>\n",
       "      <td>102814.762419</td>\n",
       "      <td>0.272421</td>\n",
       "      <td>0.724151</td>\n",
       "      <td>2.673811e+05</td>\n",
       "      <td>4.021042e+05</td>\n",
       "      <td>14479.225491</td>\n",
       "      <td>3.689609e+05</td>\n",
       "      <td>0.013826</td>\n",
       "      <td>11.951582</td>\n",
       "      <td>141266.924549</td>\n",
       "      <td>...</td>\n",
       "      <td>0.464948</td>\n",
       "      <td>0.499999</td>\n",
       "      <td>0.460577</td>\n",
       "      <td>0.497335</td>\n",
       "      <td>0.499998</td>\n",
       "      <td>0.499698</td>\n",
       "      <td>0.499934</td>\n",
       "      <td>0.499313</td>\n",
       "      <td>0.342028</td>\n",
       "      <td>0.399693</td>\n",
       "    </tr>\n",
       "    <tr>\n",
       "      <th>min</th>\n",
       "      <td>100002.000000</td>\n",
       "      <td>0.000000</td>\n",
       "      <td>0.000000</td>\n",
       "      <td>2.565000e+04</td>\n",
       "      <td>4.500000e+04</td>\n",
       "      <td>1615.500000</td>\n",
       "      <td>4.050000e+04</td>\n",
       "      <td>0.000290</td>\n",
       "      <td>21.021918</td>\n",
       "      <td>-17912.000000</td>\n",
       "      <td>...</td>\n",
       "      <td>0.000000</td>\n",
       "      <td>0.000000</td>\n",
       "      <td>0.000000</td>\n",
       "      <td>0.000000</td>\n",
       "      <td>0.000000</td>\n",
       "      <td>0.000000</td>\n",
       "      <td>0.000000</td>\n",
       "      <td>0.000000</td>\n",
       "      <td>0.000000</td>\n",
       "      <td>0.000000</td>\n",
       "    </tr>\n",
       "    <tr>\n",
       "      <th>25%</th>\n",
       "      <td>189044.000000</td>\n",
       "      <td>0.000000</td>\n",
       "      <td>0.000000</td>\n",
       "      <td>1.125000e+05</td>\n",
       "      <td>2.700000e+05</td>\n",
       "      <td>16542.000000</td>\n",
       "      <td>2.385000e+05</td>\n",
       "      <td>0.010006</td>\n",
       "      <td>33.994521</td>\n",
       "      <td>-2758.000000</td>\n",
       "      <td>...</td>\n",
       "      <td>0.000000</td>\n",
       "      <td>0.000000</td>\n",
       "      <td>0.000000</td>\n",
       "      <td>0.000000</td>\n",
       "      <td>0.000000</td>\n",
       "      <td>0.000000</td>\n",
       "      <td>0.000000</td>\n",
       "      <td>0.000000</td>\n",
       "      <td>0.000000</td>\n",
       "      <td>0.000000</td>\n",
       "    </tr>\n",
       "    <tr>\n",
       "      <th>50%</th>\n",
       "      <td>277957.000000</td>\n",
       "      <td>0.000000</td>\n",
       "      <td>0.000000</td>\n",
       "      <td>1.462500e+05</td>\n",
       "      <td>5.147775e+05</td>\n",
       "      <td>24903.000000</td>\n",
       "      <td>4.500000e+05</td>\n",
       "      <td>0.018850</td>\n",
       "      <td>43.126027</td>\n",
       "      <td>-1212.000000</td>\n",
       "      <td>...</td>\n",
       "      <td>1.000000</td>\n",
       "      <td>1.000000</td>\n",
       "      <td>1.000000</td>\n",
       "      <td>1.000000</td>\n",
       "      <td>1.000000</td>\n",
       "      <td>0.000000</td>\n",
       "      <td>1.000000</td>\n",
       "      <td>0.000000</td>\n",
       "      <td>0.000000</td>\n",
       "      <td>0.000000</td>\n",
       "    </tr>\n",
       "    <tr>\n",
       "      <th>75%</th>\n",
       "      <td>367102.000000</td>\n",
       "      <td>0.000000</td>\n",
       "      <td>1.000000</td>\n",
       "      <td>2.025000e+05</td>\n",
       "      <td>8.086500e+05</td>\n",
       "      <td>34587.000000</td>\n",
       "      <td>6.795000e+05</td>\n",
       "      <td>0.028663</td>\n",
       "      <td>53.912329</td>\n",
       "      <td>-289.000000</td>\n",
       "      <td>...</td>\n",
       "      <td>1.000000</td>\n",
       "      <td>1.000000</td>\n",
       "      <td>1.000000</td>\n",
       "      <td>1.000000</td>\n",
       "      <td>1.000000</td>\n",
       "      <td>1.000000</td>\n",
       "      <td>1.000000</td>\n",
       "      <td>1.000000</td>\n",
       "      <td>0.000000</td>\n",
       "      <td>0.000000</td>\n",
       "    </tr>\n",
       "    <tr>\n",
       "      <th>max</th>\n",
       "      <td>456255.000000</td>\n",
       "      <td>1.000000</td>\n",
       "      <td>19.000000</td>\n",
       "      <td>1.170000e+08</td>\n",
       "      <td>4.050000e+06</td>\n",
       "      <td>258025.500000</td>\n",
       "      <td>4.050000e+06</td>\n",
       "      <td>0.072508</td>\n",
       "      <td>69.120548</td>\n",
       "      <td>365243.000000</td>\n",
       "      <td>...</td>\n",
       "      <td>1.000000</td>\n",
       "      <td>1.000000</td>\n",
       "      <td>1.000000</td>\n",
       "      <td>1.000000</td>\n",
       "      <td>1.000000</td>\n",
       "      <td>1.000000</td>\n",
       "      <td>1.000000</td>\n",
       "      <td>1.000000</td>\n",
       "      <td>1.000000</td>\n",
       "      <td>1.000000</td>\n",
       "    </tr>\n",
       "  </tbody>\n",
       "</table>\n",
       "<p>8 rows × 75 columns</p>\n",
       "</div>"
      ],
      "text/plain": [
       "                  id        default   num_children  total_income  \\\n",
       "count  230633.000000  230633.000000  230633.000000  2.306330e+05   \n",
       "mean   278093.914418       0.080730       0.418604  1.688828e+05   \n",
       "std    102814.762419       0.272421       0.724151  2.673811e+05   \n",
       "min    100002.000000       0.000000       0.000000  2.565000e+04   \n",
       "25%    189044.000000       0.000000       0.000000  1.125000e+05   \n",
       "50%    277957.000000       0.000000       0.000000  1.462500e+05   \n",
       "75%    367102.000000       0.000000       1.000000  2.025000e+05   \n",
       "max    456255.000000       1.000000      19.000000  1.170000e+08   \n",
       "\n",
       "        loan_amount  anual_payment  product_amount  normalised_pop  \\\n",
       "count  2.306330e+05  230633.000000    2.306330e+05   230633.000000   \n",
       "mean   5.989798e+05   27100.607523    5.382761e+05        0.020870   \n",
       "std    4.021042e+05   14479.225491    3.689609e+05        0.013826   \n",
       "min    4.500000e+04    1615.500000    4.050000e+04        0.000290   \n",
       "25%    2.700000e+05   16542.000000    2.385000e+05        0.010006   \n",
       "50%    5.147775e+05   24903.000000    4.500000e+05        0.018850   \n",
       "75%    8.086500e+05   34587.000000    6.795000e+05        0.028663   \n",
       "max    4.050000e+06  258025.500000    4.050000e+06        0.072508   \n",
       "\n",
       "                 age       work_age  ...  num_apart_habit_median_NA  \\\n",
       "count  230633.000000  230633.000000  ...              230633.000000   \n",
       "mean       43.924744   63805.540478  ...                   0.683913   \n",
       "std        11.951582  141266.924549  ...                   0.464948   \n",
       "min        21.021918  -17912.000000  ...                   0.000000   \n",
       "25%        33.994521   -2758.000000  ...                   0.000000   \n",
       "50%        43.126027   -1212.000000  ...                   1.000000   \n",
       "75%        53.912329    -289.000000  ...                   1.000000   \n",
       "max        69.120548  365243.000000  ...                   1.000000   \n",
       "\n",
       "       area_habit_median_NA  num_apart_nohabit_median_NA  \\\n",
       "count         230633.000000                230633.000000   \n",
       "mean               0.501515                     0.694601   \n",
       "std                0.499999                     0.460577   \n",
       "min                0.000000                     0.000000   \n",
       "25%                0.000000                     0.000000   \n",
       "50%                1.000000                     1.000000   \n",
       "75%                1.000000                     1.000000   \n",
       "max                1.000000                     1.000000   \n",
       "\n",
       "       area_nohabit_median_NA  type_building_NA  total_area_NA  \\\n",
       "count           230633.000000     230633.000000  230633.000000   \n",
       "mean                 0.551569          0.501684       0.482598   \n",
       "std                  0.497335          0.499998       0.499698   \n",
       "min                  0.000000          0.000000       0.000000   \n",
       "25%                  0.000000          0.000000       0.000000   \n",
       "50%                  1.000000          1.000000       0.000000   \n",
       "75%                  1.000000          1.000000       1.000000   \n",
       "max                  1.000000          1.000000       1.000000   \n",
       "\n",
       "       wall_materials_NA  emergency_exits_NA  num_petic_bureau_hour_NA  \\\n",
       "count      230633.000000       230633.000000             230633.000000   \n",
       "mean            0.508193            0.473774                  0.135284   \n",
       "std             0.499934            0.499313                  0.342028   \n",
       "min             0.000000            0.000000                  0.000000   \n",
       "25%             0.000000            0.000000                  0.000000   \n",
       "50%             1.000000            0.000000                  0.000000   \n",
       "75%             1.000000            1.000000                  0.000000   \n",
       "max             1.000000            1.000000                  1.000000   \n",
       "\n",
       "       no_external_score  \n",
       "count      230633.000000  \n",
       "mean            0.199590  \n",
       "std             0.399693  \n",
       "min             0.000000  \n",
       "25%             0.000000  \n",
       "50%             0.000000  \n",
       "75%             0.000000  \n",
       "max             1.000000  \n",
       "\n",
       "[8 rows x 75 columns]"
      ]
     },
     "execution_count": 91,
     "metadata": {},
     "output_type": "execute_result"
    }
   ],
   "source": [
    "df.describe()"
   ]
  },
  {
   "cell_type": "markdown",
   "metadata": {},
   "source": [
    "Fix the ages:"
   ]
  },
  {
   "cell_type": "code",
   "execution_count": 92,
   "metadata": {},
   "outputs": [],
   "source": [
    "df['id_age'] = df['id_age'] * -1\n",
    "df['registry_age'] = df['registry_age'] * -1\n",
    "df['age_mobilephone_days'] = df['age_mobilephone_days'] * -1"
   ]
  },
  {
   "cell_type": "markdown",
   "metadata": {},
   "source": [
    "More feature from the scores"
   ]
  },
  {
   "cell_type": "code",
   "execution_count": 93,
   "metadata": {},
   "outputs": [],
   "source": [
    "df['external_score_min'] = df[['external_score_1', 'external_score_2', 'external_score_3']].min(axis=1)\n",
    "df['external_score_max'] = df[['external_score_1', 'external_score_2', 'external_score_3']].max(axis=1)\n",
    "df['external_score_median'] = df[['external_score_1', 'external_score_2', 'external_score_3']].median(axis=1)\n",
    "df['external_score_mean'] = df[['external_score_1', 'external_score_2', 'external_score_3']].mean(axis=1)"
   ]
  },
  {
   "cell_type": "code",
   "execution_count": 100,
   "metadata": {},
   "outputs": [],
   "source": [
    "# the same as above but in the validation dataset\n",
    "val_df = more_preprocessing(val_df)                            "
   ]
  },
  {
   "cell_type": "code",
   "execution_count": 101,
   "metadata": {},
   "outputs": [
    {
     "name": "stdout",
     "output_type": "stream",
     "text": [
      "(230633, 93)\n",
      "(76878, 93)\n"
     ]
    }
   ],
   "source": [
    "print(df.shape)\n",
    "print(val_df.shape)"
   ]
  },
  {
   "cell_type": "markdown",
   "metadata": {},
   "source": [
    "# Modelling the default\n",
    "\n",
    "First a simple model to use a a benchmark"
   ]
  },
  {
   "cell_type": "code",
   "execution_count": 129,
   "metadata": {},
   "outputs": [
    {
     "name": "stdout",
     "output_type": "stream",
     "text": [
      "(230633, 210) (76878, 210) (230633,) (76878,)\n"
     ]
    }
   ],
   "source": [
    "y_train = df['default'].copy()\n",
    "X_train = df.drop('default', axis=1).copy()\n",
    "\n",
    "ohot_encoder = ce.OneHotEncoder()\n",
    "ohot_encoder.fit(X_train)\n",
    "\n",
    "X_train_ = ohot_encoder.transform(X_train)\n",
    "\n",
    "y_val = val_df['default'].copy()\n",
    "X_val = val_df.drop('default', axis=1).copy()\n",
    "\n",
    "X_val_ = ohot_encoder.transform(X_val)\n",
    "\n",
    "print(X_train_.shape, X_val_.shape, y_train.shape, y_val.shape)"
   ]
  },
  {
   "cell_type": "code",
   "execution_count": 106,
   "metadata": {},
   "outputs": [
    {
     "data": {
      "text/html": [
       "<style>#sk-container-id-3 {color: black;background-color: white;}#sk-container-id-3 pre{padding: 0;}#sk-container-id-3 div.sk-toggleable {background-color: white;}#sk-container-id-3 label.sk-toggleable__label {cursor: pointer;display: block;width: 100%;margin-bottom: 0;padding: 0.3em;box-sizing: border-box;text-align: center;}#sk-container-id-3 label.sk-toggleable__label-arrow:before {content: \"▸\";float: left;margin-right: 0.25em;color: #696969;}#sk-container-id-3 label.sk-toggleable__label-arrow:hover:before {color: black;}#sk-container-id-3 div.sk-estimator:hover label.sk-toggleable__label-arrow:before {color: black;}#sk-container-id-3 div.sk-toggleable__content {max-height: 0;max-width: 0;overflow: hidden;text-align: left;background-color: #f0f8ff;}#sk-container-id-3 div.sk-toggleable__content pre {margin: 0.2em;color: black;border-radius: 0.25em;background-color: #f0f8ff;}#sk-container-id-3 input.sk-toggleable__control:checked~div.sk-toggleable__content {max-height: 200px;max-width: 100%;overflow: auto;}#sk-container-id-3 input.sk-toggleable__control:checked~label.sk-toggleable__label-arrow:before {content: \"▾\";}#sk-container-id-3 div.sk-estimator input.sk-toggleable__control:checked~label.sk-toggleable__label {background-color: #d4ebff;}#sk-container-id-3 div.sk-label input.sk-toggleable__control:checked~label.sk-toggleable__label {background-color: #d4ebff;}#sk-container-id-3 input.sk-hidden--visually {border: 0;clip: rect(1px 1px 1px 1px);clip: rect(1px, 1px, 1px, 1px);height: 1px;margin: -1px;overflow: hidden;padding: 0;position: absolute;width: 1px;}#sk-container-id-3 div.sk-estimator {font-family: monospace;background-color: #f0f8ff;border: 1px dotted black;border-radius: 0.25em;box-sizing: border-box;margin-bottom: 0.5em;}#sk-container-id-3 div.sk-estimator:hover {background-color: #d4ebff;}#sk-container-id-3 div.sk-parallel-item::after {content: \"\";width: 100%;border-bottom: 1px solid gray;flex-grow: 1;}#sk-container-id-3 div.sk-label:hover label.sk-toggleable__label {background-color: #d4ebff;}#sk-container-id-3 div.sk-serial::before {content: \"\";position: absolute;border-left: 1px solid gray;box-sizing: border-box;top: 0;bottom: 0;left: 50%;z-index: 0;}#sk-container-id-3 div.sk-serial {display: flex;flex-direction: column;align-items: center;background-color: white;padding-right: 0.2em;padding-left: 0.2em;position: relative;}#sk-container-id-3 div.sk-item {position: relative;z-index: 1;}#sk-container-id-3 div.sk-parallel {display: flex;align-items: stretch;justify-content: center;background-color: white;position: relative;}#sk-container-id-3 div.sk-item::before, #sk-container-id-3 div.sk-parallel-item::before {content: \"\";position: absolute;border-left: 1px solid gray;box-sizing: border-box;top: 0;bottom: 0;left: 50%;z-index: -1;}#sk-container-id-3 div.sk-parallel-item {display: flex;flex-direction: column;z-index: 1;position: relative;background-color: white;}#sk-container-id-3 div.sk-parallel-item:first-child::after {align-self: flex-end;width: 50%;}#sk-container-id-3 div.sk-parallel-item:last-child::after {align-self: flex-start;width: 50%;}#sk-container-id-3 div.sk-parallel-item:only-child::after {width: 0;}#sk-container-id-3 div.sk-dashed-wrapped {border: 1px dashed gray;margin: 0 0.4em 0.5em 0.4em;box-sizing: border-box;padding-bottom: 0.4em;background-color: white;}#sk-container-id-3 div.sk-label label {font-family: monospace;font-weight: bold;display: inline-block;line-height: 1.2em;}#sk-container-id-3 div.sk-label-container {text-align: center;}#sk-container-id-3 div.sk-container {/* jupyter's `normalize.less` sets `[hidden] { display: none; }` but bootstrap.min.css set `[hidden] { display: none !important; }` so we also need the `!important` here to be able to override the default hidden behavior on the sphinx rendered scikit-learn.org. See: https://github.com/scikit-learn/scikit-learn/issues/21755 */display: inline-block !important;position: relative;}#sk-container-id-3 div.sk-text-repr-fallback {display: none;}</style><div id=\"sk-container-id-3\" class=\"sk-top-container\"><div class=\"sk-text-repr-fallback\"><pre>RandomForestClassifier(class_weight=&#x27;balanced&#x27;, random_state=2022)</pre><b>In a Jupyter environment, please rerun this cell to show the HTML representation or trust the notebook. <br />On GitHub, the HTML representation is unable to render, please try loading this page with nbviewer.org.</b></div><div class=\"sk-container\" hidden><div class=\"sk-item\"><div class=\"sk-estimator sk-toggleable\"><input class=\"sk-toggleable__control sk-hidden--visually\" id=\"sk-estimator-id-3\" type=\"checkbox\" checked><label for=\"sk-estimator-id-3\" class=\"sk-toggleable__label sk-toggleable__label-arrow\">RandomForestClassifier</label><div class=\"sk-toggleable__content\"><pre>RandomForestClassifier(class_weight=&#x27;balanced&#x27;, random_state=2022)</pre></div></div></div></div></div>"
      ],
      "text/plain": [
       "RandomForestClassifier(class_weight='balanced', random_state=2022)"
      ]
     },
     "execution_count": 106,
     "metadata": {},
     "output_type": "execute_result"
    }
   ],
   "source": [
    "rf = RandomForestClassifier(class_weight='balanced', random_state=2022)\n",
    "rf.fit(X_train_, y_train)"
   ]
  },
  {
   "cell_type": "code",
   "execution_count": 107,
   "metadata": {},
   "outputs": [],
   "source": [
    "in_pred = rf.predict(X_train_)\n",
    "out_pred = rf.predict(X_val_)"
   ]
  },
  {
   "cell_type": "code",
   "execution_count": 123,
   "metadata": {},
   "outputs": [
    {
     "name": "stdout",
     "output_type": "stream",
     "text": [
      "In sample report:\n",
      "AUC 0.9997851656909609\n",
      "              precision    recall  f1-score   support\n",
      "\n",
      "           0       1.00      1.00      1.00    212014\n",
      "           1       1.00      1.00      1.00     18619\n",
      "\n",
      "    accuracy                           1.00    230633\n",
      "   macro avg       1.00      1.00      1.00    230633\n",
      "weighted avg       1.00      1.00      1.00    230633\n",
      "\n"
     ]
    }
   ],
   "source": [
    "print('In sample report:')\n",
    "print('AUC', roc_auc_score(y_train, in_pred))\n",
    "print(classification_report(y_train, in_pred))"
   ]
  },
  {
   "cell_type": "code",
   "execution_count": 120,
   "metadata": {},
   "outputs": [
    {
     "data": {
      "text/plain": [
       "<matplotlib.axes._subplots.AxesSubplot at 0x7f6e5a631460>"
      ]
     },
     "execution_count": 120,
     "metadata": {},
     "output_type": "execute_result"
    },
    {
     "data": {
      "image/png": "[encoded data removed]",
      "text/plain": [
       "<Figure size 432x288 with 2 Axes>"
      ]
     },
     "metadata": {
      "needs_background": "light"
     },
     "output_type": "display_data"
    }
   ],
   "source": [
    "sns.heatmap(confusion_matrix(y_train, in_pred), annot=True)"
   ]
  },
  {
   "cell_type": "code",
   "execution_count": 122,
   "metadata": {},
   "outputs": [
    {
     "name": "stdout",
     "output_type": "stream",
     "text": [
      "Out sample report:\n",
      "AUC 0.5\n",
      "              precision    recall  f1-score   support\n",
      "\n",
      "           0       0.92      1.00      0.96     70672\n",
      "           1       0.00      0.00      0.00      6206\n",
      "\n",
      "    accuracy                           0.92     76878\n",
      "   macro avg       0.46      0.50      0.48     76878\n",
      "weighted avg       0.85      0.92      0.88     76878\n",
      "\n"
     ]
    }
   ],
   "source": [
    "print('Out sample report:')\n",
    "print('AUC', roc_auc_score(y_val, out_pred))\n",
    "print(classification_report(y_val, out_pred))"
   ]
  },
  {
   "cell_type": "code",
   "execution_count": 121,
   "metadata": {},
   "outputs": [
    {
     "data": {
      "text/plain": [
       "<matplotlib.axes._subplots.AxesSubplot at 0x7f6e5946e910>"
      ]
     },
     "execution_count": 121,
     "metadata": {},
     "output_type": "execute_result"
    },
    {
     "data": {
      "image/png": "[encoded data removed]",
      "text/plain": [
       "<Figure size 432x288 with 2 Axes>"
      ]
     },
     "metadata": {
      "needs_background": "light"
     },
     "output_type": "display_data"
    }
   ],
   "source": [
    "sns.heatmap(confusion_matrix(y_val, out_pred), annot=True)"
   ]
  },
  {
   "cell_type": "markdown",
   "metadata": {},
   "source": [
    "The model baseline model is highly overfit!\n",
    "\n",
    "Some things I can do onwards: test different methods for resampling and dealing with the class imbalace, tunning the model and  create new columns (target encodings)\n",
    "\n"
   ]
  },
  {
   "cell_type": "markdown",
   "metadata": {},
   "source": [
    "## Target encoding variables\n",
    "\n",
    "Instead of "
   ]
  },
  {
   "cell_type": "code",
   "execution_count": 128,
   "metadata": {},
   "outputs": [
    {
     "data": {
      "text/plain": [
       "<matplotlib.axes._subplots.AxesSubplot at 0x7f6e558c1a60>"
      ]
     },
     "execution_count": 128,
     "metadata": {},
     "output_type": "execute_result"
    },
    {
     "data": {
      "image/png": "[encoded data removed]",
      "text/plain": [
       "<Figure size 432x288 with 1 Axes>"
      ]
     },
     "metadata": {
      "needs_background": "light"
     },
     "output_type": "display_data"
    }
   ],
   "source": [
    "#plt.figure(figsize=(12,8))\n",
    "rfbl_feat_impor = pd.Series(data=rf.feature_importances_, index=X_train.columns)\n",
    "rfbl_feat_impor.sort_values(ascending=False)[:30].plot(kind='barh', title='Top 30 colums according to benchmark model')"
   ]
  },
  {
   "cell_type": "code",
   "execution_count": 127,
   "metadata": {},
   "outputs": [
    {
     "data": {
      "text/plain": [
       "<matplotlib.axes._subplots.AxesSubplot at 0x7f6e59221640>"
      ]
     },
     "execution_count": 127,
     "metadata": {},
     "output_type": "execute_result"
    },
    {
     "data": {
      "image/png": "[encoded data removed]",
      "text/plain": [
       "<Figure size 432x288 with 1 Axes>"
      ]
     },
     "metadata": {
      "needs_background": "light"
     },
     "output_type": "display_data"
    }
   ],
   "source": [
    "rfbl_feat_impor.sort_values(ascending=False)[-10:].plot(kind='barh', title='Top 30 colums according to benchmark model')"
   ]
  },
  {
   "cell_type": "code",
   "execution_count": null,
   "metadata": {},
   "outputs": [],
   "source": [
    "Most of the "
   ]
  },
  {
   "cell_type": "markdown",
   "metadata": {},
   "source": [
    "Lets keep the categorical variables as dummies and create also target encoded variables form them"
   ]
  },
  {
   "cell_type": "code",
   "execution_count": 131,
   "metadata": {},
   "outputs": [],
   "source": [
    "# Duplicater cat vars with a new name\n",
    "cat_vars = X_train.select_dtypes('object').columns\n",
    "\n",
    "for col in cat_vars:\n",
    "    X_train[col+'_C'] = X_train[col]\n",
    "    X_val[col+'_C'] = X_val[col]"
   ]
  },
  {
   "cell_type": "markdown",
   "metadata": {},
   "source": [
    "Pipeline"
   ]
  },
  {
   "cell_type": "code",
   "execution_count": 224,
   "metadata": {},
   "outputs": [
    {
     "data": {
      "text/html": [
       "<style>#sk-container-id-28 {color: black;background-color: white;}#sk-container-id-28 pre{padding: 0;}#sk-container-id-28 div.sk-toggleable {background-color: white;}#sk-container-id-28 label.sk-toggleable__label {cursor: pointer;display: block;width: 100%;margin-bottom: 0;padding: 0.3em;box-sizing: border-box;text-align: center;}#sk-container-id-28 label.sk-toggleable__label-arrow:before {content: \"▸\";float: left;margin-right: 0.25em;color: #696969;}#sk-container-id-28 label.sk-toggleable__label-arrow:hover:before {color: black;}#sk-container-id-28 div.sk-estimator:hover label.sk-toggleable__label-arrow:before {color: black;}#sk-container-id-28 div.sk-toggleable__content {max-height: 0;max-width: 0;overflow: hidden;text-align: left;background-color: #f0f8ff;}#sk-container-id-28 div.sk-toggleable__content pre {margin: 0.2em;color: black;border-radius: 0.25em;background-color: #f0f8ff;}#sk-container-id-28 input.sk-toggleable__control:checked~div.sk-toggleable__content {max-height: 200px;max-width: 100%;overflow: auto;}#sk-container-id-28 input.sk-toggleable__control:checked~label.sk-toggleable__label-arrow:before {content: \"▾\";}#sk-container-id-28 div.sk-estimator input.sk-toggleable__control:checked~label.sk-toggleable__label {background-color: #d4ebff;}#sk-container-id-28 div.sk-label input.sk-toggleable__control:checked~label.sk-toggleable__label {background-color: #d4ebff;}#sk-container-id-28 input.sk-hidden--visually {border: 0;clip: rect(1px 1px 1px 1px);clip: rect(1px, 1px, 1px, 1px);height: 1px;margin: -1px;overflow: hidden;padding: 0;position: absolute;width: 1px;}#sk-container-id-28 div.sk-estimator {font-family: monospace;background-color: #f0f8ff;border: 1px dotted black;border-radius: 0.25em;box-sizing: border-box;margin-bottom: 0.5em;}#sk-container-id-28 div.sk-estimator:hover {background-color: #d4ebff;}#sk-container-id-28 div.sk-parallel-item::after {content: \"\";width: 100%;border-bottom: 1px solid gray;flex-grow: 1;}#sk-container-id-28 div.sk-label:hover label.sk-toggleable__label {background-color: #d4ebff;}#sk-container-id-28 div.sk-serial::before {content: \"\";position: absolute;border-left: 1px solid gray;box-sizing: border-box;top: 0;bottom: 0;left: 50%;z-index: 0;}#sk-container-id-28 div.sk-serial {display: flex;flex-direction: column;align-items: center;background-color: white;padding-right: 0.2em;padding-left: 0.2em;position: relative;}#sk-container-id-28 div.sk-item {position: relative;z-index: 1;}#sk-container-id-28 div.sk-parallel {display: flex;align-items: stretch;justify-content: center;background-color: white;position: relative;}#sk-container-id-28 div.sk-item::before, #sk-container-id-28 div.sk-parallel-item::before {content: \"\";position: absolute;border-left: 1px solid gray;box-sizing: border-box;top: 0;bottom: 0;left: 50%;z-index: -1;}#sk-container-id-28 div.sk-parallel-item {display: flex;flex-direction: column;z-index: 1;position: relative;background-color: white;}#sk-container-id-28 div.sk-parallel-item:first-child::after {align-self: flex-end;width: 50%;}#sk-container-id-28 div.sk-parallel-item:last-child::after {align-self: flex-start;width: 50%;}#sk-container-id-28 div.sk-parallel-item:only-child::after {width: 0;}#sk-container-id-28 div.sk-dashed-wrapped {border: 1px dashed gray;margin: 0 0.4em 0.5em 0.4em;box-sizing: border-box;padding-bottom: 0.4em;background-color: white;}#sk-container-id-28 div.sk-label label {font-family: monospace;font-weight: bold;display: inline-block;line-height: 1.2em;}#sk-container-id-28 div.sk-label-container {text-align: center;}#sk-container-id-28 div.sk-container {/* jupyter's `normalize.less` sets `[hidden] { display: none; }` but bootstrap.min.css set `[hidden] { display: none !important; }` so we also need the `!important` here to be able to override the default hidden behavior on the sphinx rendered scikit-learn.org. See: https://github.com/scikit-learn/scikit-learn/issues/21755 */display: inline-block !important;position: relative;}#sk-container-id-28 div.sk-text-repr-fallback {display: none;}</style><div id=\"sk-container-id-28\" class=\"sk-top-container\"><div class=\"sk-text-repr-fallback\"><pre>Pipeline(steps=[(&#x27;target_encoding&#x27;,\n",
       "                 TargetEncoder(cols=Index([&#x27;contract_type&#x27;, &#x27;gender&#x27;, &#x27;flag_vehicle&#x27;, &#x27;flag_properties&#x27;,\n",
       "       &#x27;accompained&#x27;, &#x27;income_type&#x27;, &#x27;marital_status&#x27;, &#x27;occupation&#x27;,\n",
       "       &#x27;dayofweek_application&#x27;, &#x27;type_organisation&#x27;, &#x27;type_building&#x27;,\n",
       "       &#x27;wall_materials&#x27;, &#x27;emergency_exits&#x27;],\n",
       "      dtype=&#x27;object&#x27;))),\n",
       "                (&#x27;Ohot_encoding&#x27;, OneHotEncoder()),\n",
       "                (&#x27;Stardarizer&#x27;, StandardScaler()), (&#x27;resampling&#x27;, SMOTE()),\n",
       "                (&#x27;classifier&#x27;, RandomForestClassifier())])</pre><b>In a Jupyter environment, please rerun this cell to show the HTML representation or trust the notebook. <br />On GitHub, the HTML representation is unable to render, please try loading this page with nbviewer.org.</b></div><div class=\"sk-container\" hidden><div class=\"sk-item sk-dashed-wrapped\"><div class=\"sk-label-container\"><div class=\"sk-label sk-toggleable\"><input class=\"sk-toggleable__control sk-hidden--visually\" id=\"sk-estimator-id-143\" type=\"checkbox\" ><label for=\"sk-estimator-id-143\" class=\"sk-toggleable__label sk-toggleable__label-arrow\">Pipeline</label><div class=\"sk-toggleable__content\"><pre>Pipeline(steps=[(&#x27;target_encoding&#x27;,\n",
       "                 TargetEncoder(cols=Index([&#x27;contract_type&#x27;, &#x27;gender&#x27;, &#x27;flag_vehicle&#x27;, &#x27;flag_properties&#x27;,\n",
       "       &#x27;accompained&#x27;, &#x27;income_type&#x27;, &#x27;marital_status&#x27;, &#x27;occupation&#x27;,\n",
       "       &#x27;dayofweek_application&#x27;, &#x27;type_organisation&#x27;, &#x27;type_building&#x27;,\n",
       "       &#x27;wall_materials&#x27;, &#x27;emergency_exits&#x27;],\n",
       "      dtype=&#x27;object&#x27;))),\n",
       "                (&#x27;Ohot_encoding&#x27;, OneHotEncoder()),\n",
       "                (&#x27;Stardarizer&#x27;, StandardScaler()), (&#x27;resampling&#x27;, SMOTE()),\n",
       "                (&#x27;classifier&#x27;, RandomForestClassifier())])</pre></div></div></div><div class=\"sk-serial\"><div class=\"sk-item\"><div class=\"sk-estimator sk-toggleable\"><input class=\"sk-toggleable__control sk-hidden--visually\" id=\"sk-estimator-id-144\" type=\"checkbox\" ><label for=\"sk-estimator-id-144\" class=\"sk-toggleable__label sk-toggleable__label-arrow\">TargetEncoder</label><div class=\"sk-toggleable__content\"><pre>TargetEncoder(cols=Index([&#x27;contract_type&#x27;, &#x27;gender&#x27;, &#x27;flag_vehicle&#x27;, &#x27;flag_properties&#x27;,\n",
       "       &#x27;accompained&#x27;, &#x27;income_type&#x27;, &#x27;marital_status&#x27;, &#x27;occupation&#x27;,\n",
       "       &#x27;dayofweek_application&#x27;, &#x27;type_organisation&#x27;, &#x27;type_building&#x27;,\n",
       "       &#x27;wall_materials&#x27;, &#x27;emergency_exits&#x27;],\n",
       "      dtype=&#x27;object&#x27;))</pre></div></div></div><div class=\"sk-item\"><div class=\"sk-estimator sk-toggleable\"><input class=\"sk-toggleable__control sk-hidden--visually\" id=\"sk-estimator-id-145\" type=\"checkbox\" ><label for=\"sk-estimator-id-145\" class=\"sk-toggleable__label sk-toggleable__label-arrow\">OneHotEncoder</label><div class=\"sk-toggleable__content\"><pre>OneHotEncoder()</pre></div></div></div><div class=\"sk-item\"><div class=\"sk-estimator sk-toggleable\"><input class=\"sk-toggleable__control sk-hidden--visually\" id=\"sk-estimator-id-146\" type=\"checkbox\" ><label for=\"sk-estimator-id-146\" class=\"sk-toggleable__label sk-toggleable__label-arrow\">StandardScaler</label><div class=\"sk-toggleable__content\"><pre>StandardScaler()</pre></div></div></div><div class=\"sk-item\"><div class=\"sk-estimator sk-toggleable\"><input class=\"sk-toggleable__control sk-hidden--visually\" id=\"sk-estimator-id-147\" type=\"checkbox\" ><label for=\"sk-estimator-id-147\" class=\"sk-toggleable__label sk-toggleable__label-arrow\">SMOTE</label><div class=\"sk-toggleable__content\"><pre>SMOTE()</pre></div></div></div><div class=\"sk-item\"><div class=\"sk-estimator sk-toggleable\"><input class=\"sk-toggleable__control sk-hidden--visually\" id=\"sk-estimator-id-148\" type=\"checkbox\" ><label for=\"sk-estimator-id-148\" class=\"sk-toggleable__label sk-toggleable__label-arrow\">RandomForestClassifier</label><div class=\"sk-toggleable__content\"><pre>RandomForestClassifier()</pre></div></div></div></div></div></div></div>"
      ],
      "text/plain": [
       "Pipeline(steps=[('target_encoding',\n",
       "                 TargetEncoder(cols=Index(['contract_type', 'gender', 'flag_vehicle', 'flag_properties',\n",
       "       'accompained', 'income_type', 'marital_status', 'occupation',\n",
       "       'dayofweek_application', 'type_organisation', 'type_building',\n",
       "       'wall_materials', 'emergency_exits'],\n",
       "      dtype='object'))),\n",
       "                ('Ohot_encoding', OneHotEncoder()),\n",
       "                ('Stardarizer', StandardScaler()), ('resampling', SMOTE()),\n",
       "                ('classifier', RandomForestClassifier())])"
      ]
     },
     "execution_count": 224,
     "metadata": {},
     "output_type": "execute_result"
    }
   ],
   "source": [
    "SEED = 2022\n",
    "\n",
    "from imblearn.pipeline import Pipeline \n",
    "pipeline = Pipeline(steps = [('target_encoding', ce.TargetEncoder(cols=cat_vars)),\n",
    "                             ('Ohot_encoding', ce.OneHotEncoder()),\n",
    "                             ('Stardarizer', StandardScaler()),\n",
    "                             ('resampling', SMOTE(random_state=SEED, n_jobs=-1)),\n",
    "                             ('classifier', RandomForestClassifier(random_state=SEED))])\n",
    "pipeline"
   ]
  },
  {
   "cell_type": "code",
   "execution_count": 231,
   "metadata": {},
   "outputs": [],
   "source": [
    "# Parameters of a random forest\n",
    "params_pipeline = {'target_encoding__smoothing': [0.5, 1.0, 5.0],\n",
    "                   'resampling__k_neighbors' : [3, 5, 7],\n",
    "                   #'classifier__class_weight': ['balanced'],\n",
    "                   'classifier__max_depth': [3, 5, 7, 10, 15],\n",
    "                   #'classifier__min_samples_split': [2, 5, 10, 20, 50],\n",
    "                   #'classifier__min_samples_leaf' : [5, 10, 20, 50, 100], \n",
    "                   'classifier__max_features' : [25, 50, 100]}\n",
    "\n",
    "\n",
    "rf_gs = GridSearchCV(pipeline, \n",
    "                    params_pipeline, \n",
    "                    cv = 5, \n",
    "                    scoring='roc_auc', \n",
    "                    n_jobs=-1, \n",
    "                    verbose=3)"
   ]
  },
  {
   "cell_type": "code",
   "execution_count": 232,
   "metadata": {},
   "outputs": [
    {
     "name": "stdout",
     "output_type": "stream",
     "text": [
      "Fitting 5 folds for each of 135 candidates, totalling 675 fits\n"
     ]
    },
    {
     "data": {
      "text/html": [
       "<style>#sk-container-id-29 {color: black;background-color: white;}#sk-container-id-29 pre{padding: 0;}#sk-container-id-29 div.sk-toggleable {background-color: white;}#sk-container-id-29 label.sk-toggleable__label {cursor: pointer;display: block;width: 100%;margin-bottom: 0;padding: 0.3em;box-sizing: border-box;text-align: center;}#sk-container-id-29 label.sk-toggleable__label-arrow:before {content: \"▸\";float: left;margin-right: 0.25em;color: #696969;}#sk-container-id-29 label.sk-toggleable__label-arrow:hover:before {color: black;}#sk-container-id-29 div.sk-estimator:hover label.sk-toggleable__label-arrow:before {color: black;}#sk-container-id-29 div.sk-toggleable__content {max-height: 0;max-width: 0;overflow: hidden;text-align: left;background-color: #f0f8ff;}#sk-container-id-29 div.sk-toggleable__content pre {margin: 0.2em;color: black;border-radius: 0.25em;background-color: #f0f8ff;}#sk-container-id-29 input.sk-toggleable__control:checked~div.sk-toggleable__content {max-height: 200px;max-width: 100%;overflow: auto;}#sk-container-id-29 input.sk-toggleable__control:checked~label.sk-toggleable__label-arrow:before {content: \"▾\";}#sk-container-id-29 div.sk-estimator input.sk-toggleable__control:checked~label.sk-toggleable__label {background-color: #d4ebff;}#sk-container-id-29 div.sk-label input.sk-toggleable__control:checked~label.sk-toggleable__label {background-color: #d4ebff;}#sk-container-id-29 input.sk-hidden--visually {border: 0;clip: rect(1px 1px 1px 1px);clip: rect(1px, 1px, 1px, 1px);height: 1px;margin: -1px;overflow: hidden;padding: 0;position: absolute;width: 1px;}#sk-container-id-29 div.sk-estimator {font-family: monospace;background-color: #f0f8ff;border: 1px dotted black;border-radius: 0.25em;box-sizing: border-box;margin-bottom: 0.5em;}#sk-container-id-29 div.sk-estimator:hover {background-color: #d4ebff;}#sk-container-id-29 div.sk-parallel-item::after {content: \"\";width: 100%;border-bottom: 1px solid gray;flex-grow: 1;}#sk-container-id-29 div.sk-label:hover label.sk-toggleable__label {background-color: #d4ebff;}#sk-container-id-29 div.sk-serial::before {content: \"\";position: absolute;border-left: 1px solid gray;box-sizing: border-box;top: 0;bottom: 0;left: 50%;z-index: 0;}#sk-container-id-29 div.sk-serial {display: flex;flex-direction: column;align-items: center;background-color: white;padding-right: 0.2em;padding-left: 0.2em;position: relative;}#sk-container-id-29 div.sk-item {position: relative;z-index: 1;}#sk-container-id-29 div.sk-parallel {display: flex;align-items: stretch;justify-content: center;background-color: white;position: relative;}#sk-container-id-29 div.sk-item::before, #sk-container-id-29 div.sk-parallel-item::before {content: \"\";position: absolute;border-left: 1px solid gray;box-sizing: border-box;top: 0;bottom: 0;left: 50%;z-index: -1;}#sk-container-id-29 div.sk-parallel-item {display: flex;flex-direction: column;z-index: 1;position: relative;background-color: white;}#sk-container-id-29 div.sk-parallel-item:first-child::after {align-self: flex-end;width: 50%;}#sk-container-id-29 div.sk-parallel-item:last-child::after {align-self: flex-start;width: 50%;}#sk-container-id-29 div.sk-parallel-item:only-child::after {width: 0;}#sk-container-id-29 div.sk-dashed-wrapped {border: 1px dashed gray;margin: 0 0.4em 0.5em 0.4em;box-sizing: border-box;padding-bottom: 0.4em;background-color: white;}#sk-container-id-29 div.sk-label label {font-family: monospace;font-weight: bold;display: inline-block;line-height: 1.2em;}#sk-container-id-29 div.sk-label-container {text-align: center;}#sk-container-id-29 div.sk-container {/* jupyter's `normalize.less` sets `[hidden] { display: none; }` but bootstrap.min.css set `[hidden] { display: none !important; }` so we also need the `!important` here to be able to override the default hidden behavior on the sphinx rendered scikit-learn.org. See: https://github.com/scikit-learn/scikit-learn/issues/21755 */display: inline-block !important;position: relative;}#sk-container-id-29 div.sk-text-repr-fallback {display: none;}</style><div id=\"sk-container-id-29\" class=\"sk-top-container\"><div class=\"sk-text-repr-fallback\"><pre>GridSearchCV(cv=5,\n",
       "             estimator=Pipeline(steps=[(&#x27;target_encoding&#x27;,\n",
       "                                        TargetEncoder(cols=Index([&#x27;contract_type&#x27;, &#x27;gender&#x27;, &#x27;flag_vehicle&#x27;, &#x27;flag_properties&#x27;,\n",
       "       &#x27;accompained&#x27;, &#x27;income_type&#x27;, &#x27;marital_status&#x27;, &#x27;occupation&#x27;,\n",
       "       &#x27;dayofweek_application&#x27;, &#x27;type_organisation&#x27;, &#x27;type_building&#x27;,\n",
       "       &#x27;wall_materials&#x27;, &#x27;emergency_exits&#x27;],\n",
       "      dtype=&#x27;object&#x27;))),\n",
       "                                       (&#x27;Ohot_encoding&#x27;, OneHotEncoder()),\n",
       "                                       (&#x27;Stardarizer&#x27;, StandardScaler()),\n",
       "                                       (&#x27;resampling&#x27;, SMOTE()),\n",
       "                                       (&#x27;classifier&#x27;,\n",
       "                                        RandomForestClassifier())]),\n",
       "             n_jobs=-1,\n",
       "             param_grid={&#x27;classifier__class_weight&#x27;: [&#x27;balanced&#x27;],\n",
       "                         &#x27;classifier__max_depth&#x27;: [3, 5, 7, 10, 15],\n",
       "                         &#x27;classifier__max_features&#x27;: [25, 50, 100],\n",
       "                         &#x27;resampling__k_neighbors&#x27;: [3, 5, 7],\n",
       "                         &#x27;target_encoding__smoothing&#x27;: [0.5, 1.0, 5.0]},\n",
       "             scoring=&#x27;roc_auc&#x27;, verbose=3)</pre><b>In a Jupyter environment, please rerun this cell to show the HTML representation or trust the notebook. <br />On GitHub, the HTML representation is unable to render, please try loading this page with nbviewer.org.</b></div><div class=\"sk-container\" hidden><div class=\"sk-item sk-dashed-wrapped\"><div class=\"sk-label-container\"><div class=\"sk-label sk-toggleable\"><input class=\"sk-toggleable__control sk-hidden--visually\" id=\"sk-estimator-id-149\" type=\"checkbox\" ><label for=\"sk-estimator-id-149\" class=\"sk-toggleable__label sk-toggleable__label-arrow\">GridSearchCV</label><div class=\"sk-toggleable__content\"><pre>GridSearchCV(cv=5,\n",
       "             estimator=Pipeline(steps=[(&#x27;target_encoding&#x27;,\n",
       "                                        TargetEncoder(cols=Index([&#x27;contract_type&#x27;, &#x27;gender&#x27;, &#x27;flag_vehicle&#x27;, &#x27;flag_properties&#x27;,\n",
       "       &#x27;accompained&#x27;, &#x27;income_type&#x27;, &#x27;marital_status&#x27;, &#x27;occupation&#x27;,\n",
       "       &#x27;dayofweek_application&#x27;, &#x27;type_organisation&#x27;, &#x27;type_building&#x27;,\n",
       "       &#x27;wall_materials&#x27;, &#x27;emergency_exits&#x27;],\n",
       "      dtype=&#x27;object&#x27;))),\n",
       "                                       (&#x27;Ohot_encoding&#x27;, OneHotEncoder()),\n",
       "                                       (&#x27;Stardarizer&#x27;, StandardScaler()),\n",
       "                                       (&#x27;resampling&#x27;, SMOTE()),\n",
       "                                       (&#x27;classifier&#x27;,\n",
       "                                        RandomForestClassifier())]),\n",
       "             n_jobs=-1,\n",
       "             param_grid={&#x27;classifier__class_weight&#x27;: [&#x27;balanced&#x27;],\n",
       "                         &#x27;classifier__max_depth&#x27;: [3, 5, 7, 10, 15],\n",
       "                         &#x27;classifier__max_features&#x27;: [25, 50, 100],\n",
       "                         &#x27;resampling__k_neighbors&#x27;: [3, 5, 7],\n",
       "                         &#x27;target_encoding__smoothing&#x27;: [0.5, 1.0, 5.0]},\n",
       "             scoring=&#x27;roc_auc&#x27;, verbose=3)</pre></div></div></div><div class=\"sk-parallel\"><div class=\"sk-parallel-item\"><div class=\"sk-item\"><div class=\"sk-label-container\"><div class=\"sk-label sk-toggleable\"><input class=\"sk-toggleable__control sk-hidden--visually\" id=\"sk-estimator-id-150\" type=\"checkbox\" ><label for=\"sk-estimator-id-150\" class=\"sk-toggleable__label sk-toggleable__label-arrow\">estimator: Pipeline</label><div class=\"sk-toggleable__content\"><pre>Pipeline(steps=[(&#x27;target_encoding&#x27;,\n",
       "                 TargetEncoder(cols=Index([&#x27;contract_type&#x27;, &#x27;gender&#x27;, &#x27;flag_vehicle&#x27;, &#x27;flag_properties&#x27;,\n",
       "       &#x27;accompained&#x27;, &#x27;income_type&#x27;, &#x27;marital_status&#x27;, &#x27;occupation&#x27;,\n",
       "       &#x27;dayofweek_application&#x27;, &#x27;type_organisation&#x27;, &#x27;type_building&#x27;,\n",
       "       &#x27;wall_materials&#x27;, &#x27;emergency_exits&#x27;],\n",
       "      dtype=&#x27;object&#x27;))),\n",
       "                (&#x27;Ohot_encoding&#x27;, OneHotEncoder()),\n",
       "                (&#x27;Stardarizer&#x27;, StandardScaler()), (&#x27;resampling&#x27;, SMOTE()),\n",
       "                (&#x27;classifier&#x27;, RandomForestClassifier())])</pre></div></div></div><div class=\"sk-serial\"><div class=\"sk-item\"><div class=\"sk-serial\"><div class=\"sk-item\"><div class=\"sk-estimator sk-toggleable\"><input class=\"sk-toggleable__control sk-hidden--visually\" id=\"sk-estimator-id-151\" type=\"checkbox\" ><label for=\"sk-estimator-id-151\" class=\"sk-toggleable__label sk-toggleable__label-arrow\">TargetEncoder</label><div class=\"sk-toggleable__content\"><pre>TargetEncoder(cols=Index([&#x27;contract_type&#x27;, &#x27;gender&#x27;, &#x27;flag_vehicle&#x27;, &#x27;flag_properties&#x27;,\n",
       "       &#x27;accompained&#x27;, &#x27;income_type&#x27;, &#x27;marital_status&#x27;, &#x27;occupation&#x27;,\n",
       "       &#x27;dayofweek_application&#x27;, &#x27;type_organisation&#x27;, &#x27;type_building&#x27;,\n",
       "       &#x27;wall_materials&#x27;, &#x27;emergency_exits&#x27;],\n",
       "      dtype=&#x27;object&#x27;))</pre></div></div></div><div class=\"sk-item\"><div class=\"sk-estimator sk-toggleable\"><input class=\"sk-toggleable__control sk-hidden--visually\" id=\"sk-estimator-id-152\" type=\"checkbox\" ><label for=\"sk-estimator-id-152\" class=\"sk-toggleable__label sk-toggleable__label-arrow\">OneHotEncoder</label><div class=\"sk-toggleable__content\"><pre>OneHotEncoder()</pre></div></div></div><div class=\"sk-item\"><div class=\"sk-estimator sk-toggleable\"><input class=\"sk-toggleable__control sk-hidden--visually\" id=\"sk-estimator-id-153\" type=\"checkbox\" ><label for=\"sk-estimator-id-153\" class=\"sk-toggleable__label sk-toggleable__label-arrow\">StandardScaler</label><div class=\"sk-toggleable__content\"><pre>StandardScaler()</pre></div></div></div><div class=\"sk-item\"><div class=\"sk-estimator sk-toggleable\"><input class=\"sk-toggleable__control sk-hidden--visually\" id=\"sk-estimator-id-154\" type=\"checkbox\" ><label for=\"sk-estimator-id-154\" class=\"sk-toggleable__label sk-toggleable__label-arrow\">SMOTE</label><div class=\"sk-toggleable__content\"><pre>SMOTE()</pre></div></div></div><div class=\"sk-item\"><div class=\"sk-estimator sk-toggleable\"><input class=\"sk-toggleable__control sk-hidden--visually\" id=\"sk-estimator-id-155\" type=\"checkbox\" ><label for=\"sk-estimator-id-155\" class=\"sk-toggleable__label sk-toggleable__label-arrow\">RandomForestClassifier</label><div class=\"sk-toggleable__content\"><pre>RandomForestClassifier()</pre></div></div></div></div></div></div></div></div></div></div></div></div>"
      ],
      "text/plain": [
       "GridSearchCV(cv=5,\n",
       "             estimator=Pipeline(steps=[('target_encoding',\n",
       "                                        TargetEncoder(cols=Index(['contract_type', 'gender', 'flag_vehicle', 'flag_properties',\n",
       "       'accompained', 'income_type', 'marital_status', 'occupation',\n",
       "       'dayofweek_application', 'type_organisation', 'type_building',\n",
       "       'wall_materials', 'emergency_exits'],\n",
       "      dtype='object'))),\n",
       "                                       ('Ohot_encoding', OneHotEncoder()),\n",
       "                                       ('Stardarizer', StandardScaler()),\n",
       "                                       ('resampling', SMOTE()),\n",
       "                                       ('classifier',\n",
       "                                        RandomForestClassifier())]),\n",
       "             n_jobs=-1,\n",
       "             param_grid={'classifier__class_weight': ['balanced'],\n",
       "                         'classifier__max_depth': [3, 5, 7, 10, 15],\n",
       "                         'classifier__max_features': [25, 50, 100],\n",
       "                         'resampling__k_neighbors': [3, 5, 7],\n",
       "                         'target_encoding__smoothing': [0.5, 1.0, 5.0]},\n",
       "             scoring='roc_auc', verbose=3)"
      ]
     },
     "execution_count": 232,
     "metadata": {},
     "output_type": "execute_result"
    }
   ],
   "source": [
    "rf_gs.fit(X_train, y_train)"
   ]
  },
  {
   "cell_type": "code",
   "execution_count": 233,
   "metadata": {},
   "outputs": [
    {
     "data": {
      "text/plain": [
       "{'classifier__class_weight': 'balanced',\n",
       " 'classifier__max_depth': 15,\n",
       " 'classifier__max_features': 25,\n",
       " 'resampling__k_neighbors': 7,\n",
       " 'target_encoding__smoothing': 1.0}"
      ]
     },
     "execution_count": 233,
     "metadata": {},
     "output_type": "execute_result"
    }
   ],
   "source": [
    "rf_gs.best_params_"
   ]
  },
  {
   "cell_type": "code",
   "execution_count": 238,
   "metadata": {},
   "outputs": [
    {
     "data": {
      "text/html": [
       "<div>\n",
       "<style scoped>\n",
       "    .dataframe tbody tr th:only-of-type {\n",
       "        vertical-align: middle;\n",
       "    }\n",
       "\n",
       "    .dataframe tbody tr th {\n",
       "        vertical-align: top;\n",
       "    }\n",
       "\n",
       "    .dataframe thead th {\n",
       "        text-align: right;\n",
       "    }\n",
       "</style>\n",
       "<table border=\"1\" class=\"dataframe\">\n",
       "  <thead>\n",
       "    <tr style=\"text-align: right;\">\n",
       "      <th></th>\n",
       "      <th>mean_fit_time</th>\n",
       "      <th>std_fit_time</th>\n",
       "      <th>mean_score_time</th>\n",
       "      <th>std_score_time</th>\n",
       "      <th>param_classifier__class_weight</th>\n",
       "      <th>param_classifier__max_depth</th>\n",
       "      <th>param_classifier__max_features</th>\n",
       "      <th>param_resampling__k_neighbors</th>\n",
       "      <th>param_target_encoding__smoothing</th>\n",
       "      <th>params</th>\n",
       "      <th>split0_test_score</th>\n",
       "      <th>split1_test_score</th>\n",
       "      <th>split2_test_score</th>\n",
       "      <th>split3_test_score</th>\n",
       "      <th>split4_test_score</th>\n",
       "      <th>mean_test_score</th>\n",
       "      <th>std_test_score</th>\n",
       "      <th>rank_test_score</th>\n",
       "    </tr>\n",
       "  </thead>\n",
       "  <tbody>\n",
       "    <tr>\n",
       "      <th>115</th>\n",
       "      <td>307.487122</td>\n",
       "      <td>3.783991</td>\n",
       "      <td>3.468174</td>\n",
       "      <td>0.038502</td>\n",
       "      <td>balanced</td>\n",
       "      <td>15</td>\n",
       "      <td>25</td>\n",
       "      <td>7</td>\n",
       "      <td>1</td>\n",
       "      <td>{'classifier__class_weight': 'balanced', 'clas...</td>\n",
       "      <td>0.632077</td>\n",
       "      <td>0.635484</td>\n",
       "      <td>0.638992</td>\n",
       "      <td>0.631834</td>\n",
       "      <td>0.631250</td>\n",
       "      <td>0.633927</td>\n",
       "      <td>0.002934</td>\n",
       "      <td>1</td>\n",
       "    </tr>\n",
       "    <tr>\n",
       "      <th>113</th>\n",
       "      <td>303.693198</td>\n",
       "      <td>6.269778</td>\n",
       "      <td>3.699191</td>\n",
       "      <td>0.443398</td>\n",
       "      <td>balanced</td>\n",
       "      <td>15</td>\n",
       "      <td>25</td>\n",
       "      <td>5</td>\n",
       "      <td>5</td>\n",
       "      <td>{'classifier__class_weight': 'balanced', 'clas...</td>\n",
       "      <td>0.628920</td>\n",
       "      <td>0.635369</td>\n",
       "      <td>0.636806</td>\n",
       "      <td>0.631496</td>\n",
       "      <td>0.634171</td>\n",
       "      <td>0.633352</td>\n",
       "      <td>0.002820</td>\n",
       "      <td>2</td>\n",
       "    </tr>\n",
       "    <tr>\n",
       "      <th>116</th>\n",
       "      <td>304.651854</td>\n",
       "      <td>2.111593</td>\n",
       "      <td>3.591278</td>\n",
       "      <td>0.178489</td>\n",
       "      <td>balanced</td>\n",
       "      <td>15</td>\n",
       "      <td>25</td>\n",
       "      <td>7</td>\n",
       "      <td>5</td>\n",
       "      <td>{'classifier__class_weight': 'balanced', 'clas...</td>\n",
       "      <td>0.627894</td>\n",
       "      <td>0.635404</td>\n",
       "      <td>0.637200</td>\n",
       "      <td>0.631161</td>\n",
       "      <td>0.633431</td>\n",
       "      <td>0.633018</td>\n",
       "      <td>0.003257</td>\n",
       "      <td>3</td>\n",
       "    </tr>\n",
       "    <tr>\n",
       "      <th>110</th>\n",
       "      <td>314.997932</td>\n",
       "      <td>6.119169</td>\n",
       "      <td>3.598726</td>\n",
       "      <td>0.205276</td>\n",
       "      <td>balanced</td>\n",
       "      <td>15</td>\n",
       "      <td>25</td>\n",
       "      <td>3</td>\n",
       "      <td>5</td>\n",
       "      <td>{'classifier__class_weight': 'balanced', 'clas...</td>\n",
       "      <td>0.628488</td>\n",
       "      <td>0.634760</td>\n",
       "      <td>0.637695</td>\n",
       "      <td>0.629700</td>\n",
       "      <td>0.632646</td>\n",
       "      <td>0.632658</td>\n",
       "      <td>0.003345</td>\n",
       "      <td>4</td>\n",
       "    </tr>\n",
       "    <tr>\n",
       "      <th>114</th>\n",
       "      <td>303.474588</td>\n",
       "      <td>6.571325</td>\n",
       "      <td>3.444434</td>\n",
       "      <td>0.062985</td>\n",
       "      <td>balanced</td>\n",
       "      <td>15</td>\n",
       "      <td>25</td>\n",
       "      <td>7</td>\n",
       "      <td>0.5</td>\n",
       "      <td>{'classifier__class_weight': 'balanced', 'clas...</td>\n",
       "      <td>0.627586</td>\n",
       "      <td>0.634657</td>\n",
       "      <td>0.637942</td>\n",
       "      <td>0.629826</td>\n",
       "      <td>0.632995</td>\n",
       "      <td>0.632601</td>\n",
       "      <td>0.003627</td>\n",
       "      <td>5</td>\n",
       "    </tr>\n",
       "    <tr>\n",
       "      <th>112</th>\n",
       "      <td>306.224350</td>\n",
       "      <td>6.540441</td>\n",
       "      <td>3.513279</td>\n",
       "      <td>0.133547</td>\n",
       "      <td>balanced</td>\n",
       "      <td>15</td>\n",
       "      <td>25</td>\n",
       "      <td>5</td>\n",
       "      <td>1</td>\n",
       "      <td>{'classifier__class_weight': 'balanced', 'clas...</td>\n",
       "      <td>0.629474</td>\n",
       "      <td>0.635578</td>\n",
       "      <td>0.635154</td>\n",
       "      <td>0.631024</td>\n",
       "      <td>0.631561</td>\n",
       "      <td>0.632558</td>\n",
       "      <td>0.002397</td>\n",
       "      <td>6</td>\n",
       "    </tr>\n",
       "    <tr>\n",
       "      <th>109</th>\n",
       "      <td>307.646930</td>\n",
       "      <td>3.848807</td>\n",
       "      <td>3.505699</td>\n",
       "      <td>0.045415</td>\n",
       "      <td>balanced</td>\n",
       "      <td>15</td>\n",
       "      <td>25</td>\n",
       "      <td>3</td>\n",
       "      <td>1</td>\n",
       "      <td>{'classifier__class_weight': 'balanced', 'clas...</td>\n",
       "      <td>0.627929</td>\n",
       "      <td>0.631192</td>\n",
       "      <td>0.637131</td>\n",
       "      <td>0.630294</td>\n",
       "      <td>0.634069</td>\n",
       "      <td>0.632123</td>\n",
       "      <td>0.003183</td>\n",
       "      <td>7</td>\n",
       "    </tr>\n",
       "    <tr>\n",
       "      <th>111</th>\n",
       "      <td>306.378887</td>\n",
       "      <td>3.372668</td>\n",
       "      <td>3.550627</td>\n",
       "      <td>0.177385</td>\n",
       "      <td>balanced</td>\n",
       "      <td>15</td>\n",
       "      <td>25</td>\n",
       "      <td>5</td>\n",
       "      <td>0.5</td>\n",
       "      <td>{'classifier__class_weight': 'balanced', 'clas...</td>\n",
       "      <td>0.629591</td>\n",
       "      <td>0.631876</td>\n",
       "      <td>0.637329</td>\n",
       "      <td>0.630361</td>\n",
       "      <td>0.631290</td>\n",
       "      <td>0.632089</td>\n",
       "      <td>0.002734</td>\n",
       "      <td>8</td>\n",
       "    </tr>\n",
       "    <tr>\n",
       "      <th>108</th>\n",
       "      <td>307.486201</td>\n",
       "      <td>2.148333</td>\n",
       "      <td>3.513175</td>\n",
       "      <td>0.058813</td>\n",
       "      <td>balanced</td>\n",
       "      <td>15</td>\n",
       "      <td>25</td>\n",
       "      <td>3</td>\n",
       "      <td>0.5</td>\n",
       "      <td>{'classifier__class_weight': 'balanced', 'clas...</td>\n",
       "      <td>0.626690</td>\n",
       "      <td>0.635683</td>\n",
       "      <td>0.637581</td>\n",
       "      <td>0.628471</td>\n",
       "      <td>0.631839</td>\n",
       "      <td>0.632053</td>\n",
       "      <td>0.004132</td>\n",
       "      <td>9</td>\n",
       "    </tr>\n",
       "    <tr>\n",
       "      <th>124</th>\n",
       "      <td>517.854342</td>\n",
       "      <td>8.145511</td>\n",
       "      <td>3.502439</td>\n",
       "      <td>0.219666</td>\n",
       "      <td>balanced</td>\n",
       "      <td>15</td>\n",
       "      <td>50</td>\n",
       "      <td>7</td>\n",
       "      <td>1</td>\n",
       "      <td>{'classifier__class_weight': 'balanced', 'clas...</td>\n",
       "      <td>0.623800</td>\n",
       "      <td>0.630403</td>\n",
       "      <td>0.632203</td>\n",
       "      <td>0.624398</td>\n",
       "      <td>0.625002</td>\n",
       "      <td>0.627161</td>\n",
       "      <td>0.003450</td>\n",
       "      <td>10</td>\n",
       "    </tr>\n",
       "  </tbody>\n",
       "</table>\n",
       "</div>"
      ],
      "text/plain": [
       "     mean_fit_time  std_fit_time  mean_score_time  std_score_time  \\\n",
       "115     307.487122      3.783991         3.468174        0.038502   \n",
       "113     303.693198      6.269778         3.699191        0.443398   \n",
       "116     304.651854      2.111593         3.591278        0.178489   \n",
       "110     314.997932      6.119169         3.598726        0.205276   \n",
       "114     303.474588      6.571325         3.444434        0.062985   \n",
       "112     306.224350      6.540441         3.513279        0.133547   \n",
       "109     307.646930      3.848807         3.505699        0.045415   \n",
       "111     306.378887      3.372668         3.550627        0.177385   \n",
       "108     307.486201      2.148333         3.513175        0.058813   \n",
       "124     517.854342      8.145511         3.502439        0.219666   \n",
       "\n",
       "    param_classifier__class_weight param_classifier__max_depth  \\\n",
       "115                       balanced                          15   \n",
       "113                       balanced                          15   \n",
       "116                       balanced                          15   \n",
       "110                       balanced                          15   \n",
       "114                       balanced                          15   \n",
       "112                       balanced                          15   \n",
       "109                       balanced                          15   \n",
       "111                       balanced                          15   \n",
       "108                       balanced                          15   \n",
       "124                       balanced                          15   \n",
       "\n",
       "    param_classifier__max_features param_resampling__k_neighbors  \\\n",
       "115                             25                             7   \n",
       "113                             25                             5   \n",
       "116                             25                             7   \n",
       "110                             25                             3   \n",
       "114                             25                             7   \n",
       "112                             25                             5   \n",
       "109                             25                             3   \n",
       "111                             25                             5   \n",
       "108                             25                             3   \n",
       "124                             50                             7   \n",
       "\n",
       "    param_target_encoding__smoothing  \\\n",
       "115                                1   \n",
       "113                                5   \n",
       "116                                5   \n",
       "110                                5   \n",
       "114                              0.5   \n",
       "112                                1   \n",
       "109                                1   \n",
       "111                              0.5   \n",
       "108                              0.5   \n",
       "124                                1   \n",
       "\n",
       "                                                params  split0_test_score  \\\n",
       "115  {'classifier__class_weight': 'balanced', 'clas...           0.632077   \n",
       "113  {'classifier__class_weight': 'balanced', 'clas...           0.628920   \n",
       "116  {'classifier__class_weight': 'balanced', 'clas...           0.627894   \n",
       "110  {'classifier__class_weight': 'balanced', 'clas...           0.628488   \n",
       "114  {'classifier__class_weight': 'balanced', 'clas...           0.627586   \n",
       "112  {'classifier__class_weight': 'balanced', 'clas...           0.629474   \n",
       "109  {'classifier__class_weight': 'balanced', 'clas...           0.627929   \n",
       "111  {'classifier__class_weight': 'balanced', 'clas...           0.629591   \n",
       "108  {'classifier__class_weight': 'balanced', 'clas...           0.626690   \n",
       "124  {'classifier__class_weight': 'balanced', 'clas...           0.623800   \n",
       "\n",
       "     split1_test_score  split2_test_score  split3_test_score  \\\n",
       "115           0.635484           0.638992           0.631834   \n",
       "113           0.635369           0.636806           0.631496   \n",
       "116           0.635404           0.637200           0.631161   \n",
       "110           0.634760           0.637695           0.629700   \n",
       "114           0.634657           0.637942           0.629826   \n",
       "112           0.635578           0.635154           0.631024   \n",
       "109           0.631192           0.637131           0.630294   \n",
       "111           0.631876           0.637329           0.630361   \n",
       "108           0.635683           0.637581           0.628471   \n",
       "124           0.630403           0.632203           0.624398   \n",
       "\n",
       "     split4_test_score  mean_test_score  std_test_score  rank_test_score  \n",
       "115           0.631250         0.633927        0.002934                1  \n",
       "113           0.634171         0.633352        0.002820                2  \n",
       "116           0.633431         0.633018        0.003257                3  \n",
       "110           0.632646         0.632658        0.003345                4  \n",
       "114           0.632995         0.632601        0.003627                5  \n",
       "112           0.631561         0.632558        0.002397                6  \n",
       "109           0.634069         0.632123        0.003183                7  \n",
       "111           0.631290         0.632089        0.002734                8  \n",
       "108           0.631839         0.632053        0.004132                9  \n",
       "124           0.625002         0.627161        0.003450               10  "
      ]
     },
     "execution_count": 238,
     "metadata": {},
     "output_type": "execute_result"
    }
   ],
   "source": [
    "pd.DataFrame(rf_gs.cv_results_).sort_values(by='rank_test_score').head(10)"
   ]
  },
  {
   "cell_type": "code",
   "execution_count": 242,
   "metadata": {},
   "outputs": [],
   "source": [
    "# Predictions\n",
    "in_pred_gs = rf_gs.predict(X_train)\n",
    "out_pred_gs = rf_gs.predict(X_val)"
   ]
  },
  {
   "cell_type": "code",
   "execution_count": 253,
   "metadata": {},
   "outputs": [],
   "source": [
    "in_proba_gs = rf_gs.predict_proba(X_train)\n",
    "out_proba_gs = rf_gs.predict_proba(X_val)\n",
    "\n",
    "# Function to reweight probabilities\n",
    "def reweight_proba(pi,q1=0.5,r1=0.5):\n",
    "    r0 = 1-r1\n",
    "    q0 = 1-q1\n",
    "    tot = pi*(q1/r1)+(1-pi)*(q0/r0)\n",
    "    w = pi*(q1/r1)\n",
    "    w /= tot\n",
    "    return w\n",
    "\n",
    "in_proba_gs = reweight_proba(in_proba_gs[:,1] , 0.5, 0.08)\n",
    "out_proba_gs = reweight_proba(out_proba_gs[:,1] , 0.5, 0.08)"
   ]
  },
  {
   "cell_type": "code",
   "execution_count": 254,
   "metadata": {},
   "outputs": [],
   "source": [
    "in_pred_gs_rw = (in_proba_gs>0.5).astype(int)\n",
    "in_out_gs_rw = (out_proba_gs>0.5).astype(int)"
   ]
  },
  {
   "cell_type": "code",
   "execution_count": 255,
   "metadata": {},
   "outputs": [
    {
     "name": "stdout",
     "output_type": "stream",
     "text": [
      "In sample report:\n",
      "AUC 0.5472492382578509\n",
      "              precision    recall  f1-score   support\n",
      "\n",
      "           0       1.00      0.09      0.17    212014\n",
      "           1       0.09      1.00      0.16     18619\n",
      "\n",
      "    accuracy                           0.17    230633\n",
      "   macro avg       0.54      0.55      0.17    230633\n",
      "weighted avg       0.93      0.17      0.17    230633\n",
      "\n"
     ]
    }
   ],
   "source": [
    "print('In sample report:')\n",
    "print('AUC', roc_auc_score(y_train, in_pred_gs_rw))\n",
    "print(classification_report(y_train, in_pred_gs_rw))"
   ]
  },
  {
   "cell_type": "code",
   "execution_count": 256,
   "metadata": {},
   "outputs": [
    {
     "data": {
      "text/plain": [
       "<matplotlib.axes._subplots.AxesSubplot at 0x7f6eadcb15e0>"
      ]
     },
     "execution_count": 256,
     "metadata": {},
     "output_type": "execute_result"
    },
    {
     "data": {
      "image/png": "[encoded data removed]",
      "text/plain": [
       "<Figure size 432x288 with 2 Axes>"
      ]
     },
     "metadata": {
      "needs_background": "light"
     },
     "output_type": "display_data"
    }
   ],
   "source": [
    "sns.heatmap(confusion_matrix(y_train, in_pred_gs_rw), annot=True)"
   ]
  },
  {
   "cell_type": "code",
   "execution_count": 257,
   "metadata": {},
   "outputs": [
    {
     "name": "stdout",
     "output_type": "stream",
     "text": [
      "Out sample report:\n",
      "AUC 0.5204378215893228\n",
      "              precision    recall  f1-score   support\n",
      "\n",
      "           0       0.97      0.06      0.12     70672\n",
      "           1       0.08      0.98      0.15      6206\n",
      "\n",
      "    accuracy                           0.14     76878\n",
      "   macro avg       0.53      0.52      0.14     76878\n",
      "weighted avg       0.90      0.14      0.12     76878\n",
      "\n"
     ]
    }
   ],
   "source": [
    "print('Out sample report:')\n",
    "print('AUC', roc_auc_score(y_val, in_out_gs_rw))\n",
    "print(classification_report(y_val, in_out_gs_rw))"
   ]
  },
  {
   "cell_type": "code",
   "execution_count": null,
   "metadata": {},
   "outputs": [],
   "source": []
  },
  {
   "cell_type": "code",
   "execution_count": null,
   "metadata": {},
   "outputs": [],
   "source": []
  },
  {
   "cell_type": "code",
   "execution_count": null,
   "metadata": {},
   "outputs": [],
   "source": []
  },
  {
   "cell_type": "code",
   "execution_count": null,
   "metadata": {},
   "outputs": [],
   "source": []
  },
  {
   "cell_type": "code",
   "execution_count": 183,
   "metadata": {},
   "outputs": [],
   "source": [
    "X = df.drop('default', axis=1)\n",
    "X = pd.get_dummies(X)\n",
    "\n",
    "y = df['default']\n",
    "\n",
    "lr = LogisticRegression(C=0.1, penalty='l1', max_iter = 1000, solver='liblinear', class_weight='balanced', random_state=2022)"
   ]
  },
  {
   "cell_type": "code",
   "execution_count": 186,
   "metadata": {},
   "outputs": [
    {
     "name": "stderr",
     "output_type": "stream",
     "text": [
      "[Parallel(n_jobs=5)]: Using backend LokyBackend with 5 concurrent workers.\n",
      "[Parallel(n_jobs=5)]: Done   2 out of   5 | elapsed: 50.0min remaining: 75.0min\n",
      "[Parallel(n_jobs=5)]: Done   5 out of   5 | elapsed: 62.2min finished\n"
     ]
    },
    {
     "data": {
      "text/plain": [
       "array([0.21398957, 0.21660452, 0.21828623, 0.21556676, 0.2181022 ])"
      ]
     },
     "execution_count": 186,
     "metadata": {},
     "output_type": "execute_result"
    }
   ],
   "source": [
    "cross_val_score(lr, X, y, scoring='f1', n_jobs=5, verbose=3)"
   ]
  },
  {
   "cell_type": "code",
   "execution_count": 187,
   "metadata": {},
   "outputs": [
    {
     "name": "stderr",
     "output_type": "stream",
     "text": [
      "[Parallel(n_jobs=5)]: Using backend LokyBackend with 5 concurrent workers.\n",
      "[Parallel(n_jobs=5)]: Done   2 out of   5 | elapsed:   16.4s remaining:   24.6s\n",
      "[Parallel(n_jobs=5)]: Done   5 out of   5 | elapsed:   21.9s finished\n"
     ]
    },
    {
     "data": {
      "text/plain": [
       "array([0.08631813, 0.12182929, 0.12176783, 0.11798803, 0.08810764])"
      ]
     },
     "execution_count": 187,
     "metadata": {},
     "output_type": "execute_result"
    }
   ],
   "source": [
    "dt = DecisionTreeClassifier(class_weight='balanced', random_state=2022)\n",
    "cross_val_score(dt, X, y, scoring='f1', n_jobs=5, verbose=3)"
   ]
  },
  {
   "cell_type": "code",
   "execution_count": 192,
   "metadata": {},
   "outputs": [
    {
     "name": "stderr",
     "output_type": "stream",
     "text": [
      "[Parallel(n_jobs=5)]: Using backend LokyBackend with 5 concurrent workers.\n",
      "[Parallel(n_jobs=5)]: Done   2 out of   5 | elapsed:  1.6min remaining:  2.4min\n",
      "[Parallel(n_jobs=5)]: Done   5 out of   5 | elapsed:  2.1min finished\n"
     ]
    },
    {
     "data": {
      "text/plain": [
       "array([0.64107391, 0.63540173, 0.63663029, 0.63573226, 0.63857201])"
      ]
     },
     "execution_count": 192,
     "metadata": {},
     "output_type": "execute_result"
    }
   ],
   "source": [
    "rf = RandomForestClassifier(random_state=2022)\n",
    "cross_val_score(rf, X, y, scoring='roc_auc', n_jobs=5, verbose=3)"
   ]
  },
  {
   "cell_type": "code",
   "execution_count": 194,
   "metadata": {},
   "outputs": [
    {
     "name": "stderr",
     "output_type": "stream",
     "text": [
      "[Parallel(n_jobs=5)]: Using backend LokyBackend with 5 concurrent workers.\n",
      "[Parallel(n_jobs=5)]: Done   2 out of   5 | elapsed:  1.6min remaining:  2.3min\n",
      "[Parallel(n_jobs=5)]: Done   5 out of   5 | elapsed:  2.1min finished\n"
     ]
    },
    {
     "data": {
      "text/plain": [
       "array([0.        , 0.00040274, 0.00040258, 0.        , 0.        ])"
      ]
     },
     "execution_count": 194,
     "metadata": {},
     "output_type": "execute_result"
    }
   ],
   "source": [
    "cross_val_score(rf, X, y, scoring='f1', n_jobs=5, verbose=3)"
   ]
  },
  {
   "cell_type": "code",
   "execution_count": 195,
   "metadata": {},
   "outputs": [
    {
     "name": "stderr",
     "output_type": "stream",
     "text": [
      "[Parallel(n_jobs=5)]: Using backend LokyBackend with 5 concurrent workers.\n",
      "[Parallel(n_jobs=5)]: Done   2 out of   5 | elapsed:  1.6min remaining:  2.3min\n",
      "[Parallel(n_jobs=5)]: Done   5 out of   5 | elapsed:  2.1min finished\n"
     ]
    },
    {
     "data": {
      "text/plain": [
       "array([0.        , 1.        , 0.33333333, 0.        , 0.        ])"
      ]
     },
     "execution_count": 195,
     "metadata": {},
     "output_type": "execute_result"
    }
   ],
   "source": [
    "cross_val_score(rf, X, y, scoring='precision', n_jobs=5, verbose=3)"
   ]
  },
  {
   "cell_type": "code",
   "execution_count": 196,
   "metadata": {},
   "outputs": [
    {
     "name": "stderr",
     "output_type": "stream",
     "text": [
      "[Parallel(n_jobs=5)]: Using backend LokyBackend with 5 concurrent workers.\n",
      "[Parallel(n_jobs=5)]: Done   2 out of   5 | elapsed:  1.6min remaining:  2.4min\n",
      "[Parallel(n_jobs=5)]: Done   5 out of   5 | elapsed:  2.1min finished\n"
     ]
    },
    {
     "data": {
      "text/plain": [
       "array([0.        , 0.00020141, 0.00020141, 0.        , 0.        ])"
      ]
     },
     "execution_count": 196,
     "metadata": {},
     "output_type": "execute_result"
    }
   ],
   "source": [
    "cross_val_score(rf, X, y, scoring='recall', n_jobs=5, verbose=3)"
   ]
  },
  {
   "cell_type": "code",
   "execution_count": null,
   "metadata": {},
   "outputs": [],
   "source": [
    "from xgboost import XGBClassifier\n",
    "xgb = XGBClassifier(random_state=2022, )\n",
    "cross_val_score(xgb, np.array(X), y, scoring='f1', n_jobs=5, verbose=3)"
   ]
  },
  {
   "cell_type": "code",
   "execution_count": null,
   "metadata": {},
   "outputs": [],
   "source": []
  },
  {
   "cell_type": "code",
   "execution_count": 203,
   "metadata": {},
   "outputs": [
    {
     "name": "stderr",
     "output_type": "stream",
     "text": [
      "[Parallel(n_jobs=5)]: Using backend LokyBackend with 5 concurrent workers.\n",
      "[Parallel(n_jobs=5)]: Done   2 out of   5 | elapsed:  1.2min remaining:  1.9min\n",
      "[Parallel(n_jobs=5)]: Done   5 out of   5 | elapsed:  1.8min finished\n"
     ]
    },
    {
     "data": {
      "text/plain": [
       "array([0.00356789, 0.00317397, 0.00318535, 0.00318091, 0.00395804])"
      ]
     },
     "execution_count": 203,
     "metadata": {},
     "output_type": "execute_result"
    }
   ],
   "source": [
    "cols = ['external_score_1', 'external_score_2', 'external_score_3', 'external_score_min', 'external_score_max']\n",
    "rf = RandomForestClassifier(random_state=2022) #\n",
    "cross_val_score(rf, X[cols], y, scoring='f1', n_jobs=5, verbose=3)"
   ]
  },
  {
   "cell_type": "code",
   "execution_count": 204,
   "metadata": {},
   "outputs": [
    {
     "name": "stderr",
     "output_type": "stream",
     "text": [
      "[Parallel(n_jobs=5)]: Using backend LokyBackend with 5 concurrent workers.\n",
      "[Parallel(n_jobs=5)]: Done   2 out of   5 | elapsed:  1.3min remaining:  1.9min\n",
      "[Parallel(n_jobs=5)]: Done   5 out of   5 | elapsed:  1.8min finished\n"
     ]
    },
    {
     "data": {
      "text/plain": [
       "array([0.15299183, 0.15289457, 0.15249711, 0.15474141, 0.15855266])"
      ]
     },
     "execution_count": 204,
     "metadata": {},
     "output_type": "execute_result"
    }
   ],
   "source": [
    "rf = RandomForestClassifier(random_state=2022, class_weight='balanced') #\n",
    "cross_val_score(rf, X[cols], y, scoring='f1', n_jobs=5, verbose=3)"
   ]
  },
  {
   "cell_type": "code",
   "execution_count": 205,
   "metadata": {},
   "outputs": [
    {
     "name": "stderr",
     "output_type": "stream",
     "text": [
      "[Parallel(n_jobs=5)]: Using backend LokyBackend with 5 concurrent workers.\n",
      "[Parallel(n_jobs=5)]: Done   2 out of   5 | elapsed:  1.2min remaining:  1.9min\n",
      "[Parallel(n_jobs=5)]: Done   5 out of   5 | elapsed:  1.7min finished\n"
     ]
    },
    {
     "data": {
      "text/plain": [
       "array([0.53550357, 0.5398918 , 0.53710974, 0.54654614, 0.54540824])"
      ]
     },
     "execution_count": 205,
     "metadata": {},
     "output_type": "execute_result"
    }
   ],
   "source": [
    "cross_val_score(rf, X[cols], y, scoring='roc_auc', n_jobs=5, verbose=3)"
   ]
  },
  {
   "cell_type": "code",
   "execution_count": null,
   "metadata": {},
   "outputs": [],
   "source": []
  },
  {
   "cell_type": "code",
   "execution_count": null,
   "metadata": {},
   "outputs": [],
   "source": []
  },
  {
   "cell_type": "code",
   "execution_count": null,
   "metadata": {},
   "outputs": [],
   "source": []
  },
  {
   "cell_type": "code",
   "execution_count": null,
   "metadata": {},
   "outputs": [],
   "source": []
  },
  {
   "cell_type": "code",
   "execution_count": null,
   "metadata": {},
   "outputs": [],
   "source": []
  },
  {
   "cell_type": "code",
   "execution_count": null,
   "metadata": {},
   "outputs": [],
   "source": []
  },
  {
   "cell_type": "code",
   "execution_count": null,
   "metadata": {},
   "outputs": [],
   "source": []
  },
  {
   "cell_type": "code",
   "execution_count": null,
   "metadata": {},
   "outputs": [],
   "source": []
  },
  {
   "cell_type": "code",
   "execution_count": null,
   "metadata": {},
   "outputs": [],
   "source": []
  },
  {
   "cell_type": "code",
   "execution_count": null,
   "metadata": {},
   "outputs": [],
   "source": []
  },
  {
   "cell_type": "code",
   "execution_count": null,
   "metadata": {},
   "outputs": [],
   "source": []
  },
  {
   "cell_type": "code",
   "execution_count": null,
   "metadata": {},
   "outputs": [],
   "source": []
  },
  {
   "cell_type": "code",
   "execution_count": null,
   "metadata": {},
   "outputs": [],
   "source": []
  },
  {
   "cell_type": "code",
   "execution_count": null,
   "metadata": {},
   "outputs": [],
   "source": []
  },
  {
   "cell_type": "code",
   "execution_count": null,
   "metadata": {},
   "outputs": [],
   "source": []
  },
  {
   "cell_type": "code",
   "execution_count": null,
   "metadata": {},
   "outputs": [],
   "source": []
  },
  {
   "cell_type": "code",
   "execution_count": null,
   "metadata": {},
   "outputs": [],
   "source": []
  },
  {
   "cell_type": "code",
   "execution_count": null,
   "metadata": {},
   "outputs": [],
   "source": []
  },
  {
   "cell_type": "code",
   "execution_count": null,
   "metadata": {},
   "outputs": [],
   "source": []
  },
  {
   "cell_type": "code",
   "execution_count": null,
   "metadata": {},
   "outputs": [],
   "source": []
  },
  {
   "cell_type": "code",
   "execution_count": null,
   "metadata": {},
   "outputs": [],
   "source": []
  },
  {
   "cell_type": "code",
   "execution_count": 30,
   "metadata": {},
   "outputs": [],
   "source": [
    "# Threeshold to delete"
   ]
  },
  {
   "cell_type": "code",
   "execution_count": 31,
   "metadata": {},
   "outputs": [
    {
     "ename": "SyntaxError",
     "evalue": "invalid syntax (<ipython-input-31-e68416b5caed>, line 1)",
     "output_type": "error",
     "traceback": [
      "\u001b[0;36m  File \u001b[0;32m\"<ipython-input-31-e68416b5caed>\"\u001b[0;36m, line \u001b[0;32m1\u001b[0m\n\u001b[0;31m    print(df_nna.dropna(thresh=).shape)\u001b[0m\n\u001b[0m                               ^\u001b[0m\n\u001b[0;31mSyntaxError\u001b[0m\u001b[0;31m:\u001b[0m invalid syntax\n"
     ]
    }
   ],
   "source": [
    "print(df_nna.dropna(thresh=).shape)\n",
    "sns.histplot(df_nna['default'])\n",
    "print('Prop. positive class: {}%'.format(round(df_nna['default'].mean(),3)*100))"
   ]
  },
  {
   "cell_type": "code",
   "execution_count": null,
   "metadata": {},
   "outputs": [],
   "source": []
  },
  {
   "cell_type": "code",
   "execution_count": 32,
   "metadata": {},
   "outputs": [
    {
     "name": "stdout",
     "output_type": "stream",
     "text": [
      "N    159428\n",
      "Y      2328\n",
      "Name: emergency_exits, dtype: int64\n",
      "panel         66040\n",
      "brick         64815\n",
      "concrete       9253\n",
      "wood           5362\n",
      "mixed          2296\n",
      "monolithic     1779\n",
      "other          1625\n",
      "Name: wall_materials, dtype: int64\n",
      "appartment building    150503\n",
      "house                    1499\n",
      "row-house                1212\n",
      "Name: type_building, dtype: int64\n",
      "external             55186\n",
      "commercial           32102\n",
      "internal             27570\n",
      "managers             21371\n",
      "drivers              18603\n",
      "technical            11380\n",
      "accounting            9813\n",
      "health                8537\n",
      "security              6721\n",
      "cooking               5946\n",
      "cleaning              4653\n",
      "private sector        2652\n",
      "professional          2093\n",
      "waiter                1348\n",
      "secretary             1305\n",
      "real estate agent      751\n",
      "HR                     563\n",
      "IT                     526\n",
      "Name: occupation, dtype: int64\n",
      "alone       248526\n",
      "family       40149\n",
      "couple       11370\n",
      "children      3267\n",
      "other_2       1770\n",
      "other_1        866\n",
      "group          271\n",
      "Name: accompained, dtype: int64\n"
     ]
    }
   ],
   "source": [
    "for col in not_numeric_with_comma:\n",
    "    print(df[col].value_counts())"
   ]
  },
  {
   "cell_type": "code",
   "execution_count": null,
   "metadata": {},
   "outputs": [],
   "source": []
  },
  {
   "cell_type": "code",
   "execution_count": null,
   "metadata": {},
   "outputs": [],
   "source": []
  },
  {
   "cell_type": "code",
   "execution_count": null,
   "metadata": {},
   "outputs": [],
   "source": []
  },
  {
   "cell_type": "code",
   "execution_count": null,
   "metadata": {},
   "outputs": [],
   "source": []
  },
  {
   "cell_type": "code",
   "execution_count": null,
   "metadata": {},
   "outputs": [],
   "source": []
  },
  {
   "cell_type": "code",
   "execution_count": null,
   "metadata": {},
   "outputs": [],
   "source": []
  },
  {
   "cell_type": "code",
   "execution_count": null,
   "metadata": {},
   "outputs": [],
   "source": []
  },
  {
   "cell_type": "code",
   "execution_count": null,
   "metadata": {},
   "outputs": [],
   "source": []
  },
  {
   "cell_type": "code",
   "execution_count": null,
   "metadata": {},
   "outputs": [],
   "source": []
  },
  {
   "cell_type": "code",
   "execution_count": null,
   "metadata": {},
   "outputs": [],
   "source": []
  },
  {
   "cell_type": "code",
   "execution_count": 33,
   "metadata": {},
   "outputs": [
    {
     "data": {
      "text/plain": [
       "0          406597.5\n",
       "1         1293502.5\n",
       "2          135000.0\n",
       "3          312682.5\n",
       "4          513000.0\n",
       "            ...    \n",
       "307506     254700.0\n",
       "307507     269550.0\n",
       "307508     677664.0\n",
       "307509     370107.0\n",
       "307510     675000.0\n",
       "Name: loan_amount, Length: 307511, dtype: float64"
      ]
     },
     "execution_count": 33,
     "metadata": {},
     "output_type": "execute_result"
    }
   ],
   "source": [
    "df['loan_amount']"
   ]
  },
  {
   "cell_type": "code",
   "execution_count": null,
   "metadata": {},
   "outputs": [],
   "source": []
  },
  {
   "cell_type": "code",
   "execution_count": null,
   "metadata": {},
   "outputs": [],
   "source": []
  },
  {
   "cell_type": "code",
   "execution_count": null,
   "metadata": {},
   "outputs": [],
   "source": []
  },
  {
   "cell_type": "code",
   "execution_count": null,
   "metadata": {},
   "outputs": [],
   "source": []
  },
  {
   "cell_type": "code",
   "execution_count": 34,
   "metadata": {},
   "outputs": [
    {
     "data": {
      "text/plain": [
       "450000.0     9709\n",
       "675000.0     8877\n",
       "225000.0     8162\n",
       "180000.0     7342\n",
       "270000.0     7241\n",
       "             ... \n",
       "827100.0        1\n",
       "413442.0        1\n",
       "1652458.5       1\n",
       "825853.5        1\n",
       "2097058.5       1\n",
       "Name: loan_amount, Length: 5603, dtype: int64"
      ]
     },
     "execution_count": 34,
     "metadata": {},
     "output_type": "execute_result"
    }
   ],
   "source": [
    "#df['max_floor_median'].value_counts()\n",
    "df['loan_amount'].value_counts()"
   ]
  },
  {
   "cell_type": "code",
   "execution_count": null,
   "metadata": {},
   "outputs": [],
   "source": []
  },
  {
   "cell_type": "code",
   "execution_count": null,
   "metadata": {},
   "outputs": [],
   "source": []
  },
  {
   "cell_type": "code",
   "execution_count": null,
   "metadata": {},
   "outputs": [],
   "source": []
  },
  {
   "cell_type": "code",
   "execution_count": null,
   "metadata": {},
   "outputs": [],
   "source": []
  },
  {
   "cell_type": "code",
   "execution_count": null,
   "metadata": {},
   "outputs": [],
   "source": []
  },
  {
   "cell_type": "code",
   "execution_count": null,
   "metadata": {},
   "outputs": [],
   "source": []
  },
  {
   "cell_type": "code",
   "execution_count": null,
   "metadata": {},
   "outputs": [],
   "source": []
  },
  {
   "cell_type": "code",
   "execution_count": null,
   "metadata": {},
   "outputs": [],
   "source": []
  }
 ],
 "metadata": {
  "kernelspec": {
   "display_name": "Python 3",
   "language": "python",
   "name": "python3"
  },
  "language_info": {
   "codemirror_mode": {
    "name": "ipython",
    "version": 3
   },
   "file_extension": ".py",
   "mimetype": "text/x-python",
   "name": "python",
   "nbconvert_exporter": "python",
   "pygments_lexer": "ipython3",
   "version": "3.8.3"
  }
 },
 "nbformat": 4,
 "nbformat_minor": 5
}
